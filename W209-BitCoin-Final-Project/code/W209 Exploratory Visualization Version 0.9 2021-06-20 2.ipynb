{
 "cells": [
  {
   "cell_type": "markdown",
   "metadata": {},
   "source": [
    "## W207 Exploratory Visualization - 16th June 2021 Summer"
   ]
  },
  {
   "cell_type": "markdown",
   "metadata": {},
   "source": [
    "### Team Members - Jeffrey Adams, Pow Chang, Sweta Bhattacharya, Matt White"
   ]
  },
  {
   "cell_type": "markdown",
   "metadata": {},
   "source": [
    "### Introduction\n",
    "\n",
    "Our research is focused on the cryptocurrency market which is still in its infancy. Although Bitcoin, the leading cryptocurrency, has been in circulation since 2009, in the past year there has been a paradigm shift where companies, governments, investors and hobbyists have started to take a real serious look at cryptocurrencies as a vehicle for their investments. With companies like Microstrategy and Tesla purchasing billions of dollars of bitcoins. However the crypto market is unregulated and is very sensitive to events that highly influence the movement of the value of coins.  Our research and exploratory analysis are centered around how the crypto market moves, whether it's in conjunction with traditional markets and factors that affect traditional markets, or whether it's influenced by other factors that have little to no effect on traditional trading markets, stocks, ETFs and commodities. Our 3 hypotheses will help guide our research through exploration of the data in our datasets, to identify patterns, correlations and outliers in our data.\n",
    "\n",
    "### Observations in the data (without visualizations):\n",
    "\n",
    "We analyzed several datasets including Yahoo Finance, Google searches, Twitter trends, Elon Musk tweets, and a collation of relevant world events and news articles. The Yahoo Finance dataset is referenced by API with configurable parameters so we could restrict our retrieval of data to specific stocks and time periods.  In looking at the Yahoo Finance dataset we observe there are NaN entries where there is a holiday, or weekend when the markets are closed, this is true of all of the publicly traded stocks. For Bitcoin, Ether and cryptocurrencies we do not see this as these markets do not close.\n",
    "We also had to transform the columns in the dataframe returned by Yahoo! Finance since we were unable to get Altair to work with nested columns.  \n",
    "Our dataset for Google searches and Twitter trends was built from their respective APIs and was seeded for keywords, “bitcoin”, “btc”, “ether”, “cryptocurrency” as a measure of how popular crypto currencies were on a day-by-day basis.\n",
    "Our events database was constructed with data that we retrieved independently, including Elon Musk's tweets, government announcements that impacted the crypto market as well as other world events that may have an influence on crypto market performance. \n",
    "In viewing this data it is a little tough to see patterns because it’s time series data over a long period and there is what we believe high correlation with the data we have from the Yahoo! Finance dataset. \n",
    "\n",
    "### Hypothesis Description:\n",
    "From our initial analysis of the datasets we were able to come up with the following hypotheses:\\\n",
    "\t- Hypothesis 1: Cryptocurrency market trends mirror traditional markets.\\\n",
    "\t- Hypothesis 2: Alt coins are highly correlated with and follow Bitcoin price.\\\n",
    "\t- Hypothesis 3: Cryptocurrency market is highly influenced by non-market factors that don't affect traditional markets.\n",
    "\n"
   ]
  },
  {
   "cell_type": "markdown",
   "metadata": {},
   "source": [
    "### Hypothesis 1: Cryptocurrency market trends mirror traditional markets"
   ]
  },
  {
   "cell_type": "code",
   "execution_count": 1,
   "metadata": {},
   "outputs": [
    {
     "name": "stdout",
     "output_type": "stream",
     "text": [
      "pd 1.1.5\n",
      "alt 4.1.0\n"
     ]
    }
   ],
   "source": [
    "import pandas as pd\n",
    "import altair as alt\n",
    "import numpy as np\n",
    "import matplotlib.pyplot as plt\n",
    "from datetime import datetime\n",
    "print(\"pd\", pd.__version__)\n",
    "print(\"alt\", alt.__version__)\n",
    "# alt.data_transformers.disable_max_rows()\n",
    "\n",
    "alt.data_transformers.enable('data_server')\n",
    "# alt.data_transformers.enable('json')\n",
    "# alt.renderers.enable('default')\n",
    "from altair_saver import save\n",
    "# alt.renderers.enable('altair_saver', fmts=['vega-lite', 'png']);\n",
    "import warnings\n",
    "warnings.filterwarnings(\"ignore\")\n"
   ]
  },
  {
   "cell_type": "markdown",
   "metadata": {},
   "source": [
    "## This cell is for Yahoo Finance API, Just need to run once for updating dataset"
   ]
  },
  {
   "cell_type": "code",
   "execution_count": 2,
   "metadata": {},
   "outputs": [],
   "source": [
    "# import yfinance as yf  \n",
    "# import matplotlib.pyplot as plt\n",
    "# # Get the data for the SPY ETF by specifying the stock ticker, start date, and end date\n",
    "tickers = ['BTC-USD','ETH-USD', 'AAPL', 'TSLA', 'MSFT', 'NVDA', 'SQ', 'PYPL', 'MSTR', 'JPM', '^IXIC', '^DJI', '^GSPC', 'GC=F', 'CL=F']\n",
    "# data = yf.download(tickers,'2015-01-01','2021-06-15')\n",
    "# # Plot the close prices\n",
    "# data[\"Adj Close\"]['GC=F'].plot()\n",
    "# plt.show()"
   ]
  },
  {
   "cell_type": "code",
   "execution_count": 3,
   "metadata": {},
   "outputs": [],
   "source": [
    "# data"
   ]
  },
  {
   "cell_type": "code",
   "execution_count": 4,
   "metadata": {},
   "outputs": [],
   "source": [
    "# df = data.stack().reset_index().rename(index=str, columns={\"level_1\": \"Symbol\"}).sort_values(['Symbol','Date'])\n"
   ]
  },
  {
   "cell_type": "code",
   "execution_count": 5,
   "metadata": {},
   "outputs": [],
   "source": [
    "# df.columns"
   ]
  },
  {
   "cell_type": "code",
   "execution_count": 6,
   "metadata": {},
   "outputs": [],
   "source": [
    "# df.set_index('Date', inplace = True)"
   ]
  },
  {
   "cell_type": "code",
   "execution_count": 7,
   "metadata": {},
   "outputs": [],
   "source": [
    "# df = df.rename(columns = {'Adj Close':'Adj_Close'})"
   ]
  },
  {
   "cell_type": "code",
   "execution_count": 8,
   "metadata": {},
   "outputs": [],
   "source": [
    "# df"
   ]
  },
  {
   "cell_type": "code",
   "execution_count": 9,
   "metadata": {},
   "outputs": [],
   "source": [
    "# df[df.Symbol == 'AAPL']['Close'].plot()"
   ]
  },
  {
   "cell_type": "code",
   "execution_count": 10,
   "metadata": {},
   "outputs": [],
   "source": [
    "# df.reset_index(inplace = True)"
   ]
  },
  {
   "cell_type": "code",
   "execution_count": 11,
   "metadata": {},
   "outputs": [],
   "source": [
    "# df"
   ]
  },
  {
   "cell_type": "markdown",
   "metadata": {},
   "source": [
    "## Create some variables here..."
   ]
  },
  {
   "cell_type": "code",
   "execution_count": 12,
   "metadata": {},
   "outputs": [],
   "source": [
    "# # loop through the ticker to calculate the Moving Average for each ticker\n",
    "# def calculate_moving_average(days):\n",
    "#     data = []\n",
    "#     for ticker in tickers:\n",
    "#         ma50 = df.groupby('Symbol').get_group(ticker)[\"Close\"].rolling(days).mean()\n",
    "#         data.append(ma50)\n",
    "#     return pd.concat(data)\n"
   ]
  },
  {
   "cell_type": "code",
   "execution_count": 13,
   "metadata": {},
   "outputs": [],
   "source": [
    "# df[\"MA50\"] = calculate_moving_average(50)"
   ]
  },
  {
   "cell_type": "code",
   "execution_count": 14,
   "metadata": {},
   "outputs": [],
   "source": [
    "# df[\"MA100\"] = calculate_moving_average(100)"
   ]
  },
  {
   "cell_type": "code",
   "execution_count": 15,
   "metadata": {},
   "outputs": [],
   "source": [
    "# df[\"MA200\"] = calculate_moving_average(200)"
   ]
  },
  {
   "cell_type": "code",
   "execution_count": 16,
   "metadata": {},
   "outputs": [],
   "source": [
    "#df[\"LossGain\"] = (df[\"Returns\"] >= 0).astype(int)\n",
    "#df['LossGain'] = np.where(df['Returns'] >= 0, 'Gain', 'Loss')"
   ]
  },
  {
   "cell_type": "markdown",
   "metadata": {},
   "source": [
    "## Create additional feature variables "
   ]
  },
  {
   "cell_type": "code",
   "execution_count": 17,
   "metadata": {},
   "outputs": [],
   "source": [
    "# def wwma(values, n):\n",
    "#     \"\"\"Source: Investopedia - exponential weighted (EW) functions\"\"\"\n",
    "#     return values.ewm(alpha=1/n, adjust=False).mean()\n",
    "\n",
    "# def atr(df, n=14):\n",
    "#     \"\"\"This function calculate ATR\n",
    "#     Average True Range (ATR) is the average of true ranges over the specified period.\n",
    "#     ATR measures volatility, taking into account any gaps in the price movement. \n",
    "#     Typically, the ATR calculation is based on 14 periods, which can be intraday, \n",
    "#     daily, weekly, or monthly.\n",
    "#     \"\"\"\n",
    "#     data = df.copy()\n",
    "#     high = data[\"High\"]\n",
    "#     low = data[\"Low\"]\n",
    "#     close = data[\"Close\"]\n",
    "#     data['tr0'] = abs(high - low)\n",
    "#     data['tr1'] = abs(high - close.shift())\n",
    "#     data['tr2'] = abs(low - close.shift())\n",
    "#     tr = data[['tr0', 'tr1', 'tr2']].max(axis=1)\n",
    "#     # return the dfmini, not the whole dataset, it will take years to load\n",
    "#     atr = wwma(tr, n)\n",
    "#     return atr"
   ]
  },
  {
   "cell_type": "code",
   "execution_count": 18,
   "metadata": {},
   "outputs": [],
   "source": [
    "# # loop through the ticker to calculate ATR value\n",
    "# data = []\n",
    "# for ticker in tickers:\n",
    "#     ATR = atr(df.groupby('Symbol').get_group(ticker), n=14)\n",
    "#     data.append(ATR)\n",
    "# df[\"ATR\"] = pd.concat(data)"
   ]
  },
  {
   "cell_type": "code",
   "execution_count": 19,
   "metadata": {},
   "outputs": [],
   "source": [
    "# # loop through the ticker to calculate the 10 days returns\n",
    "# data = []\n",
    "# for ticker in tickers:\n",
    "#     dayX10_returns = df.groupby('Symbol').get_group(ticker)[\"Close\"].pct_change(10)*100\n",
    "#     data.append(dayX10_returns)\n",
    "# df[\"Returns_Percent\"] = pd.concat(data)"
   ]
  },
  {
   "cell_type": "code",
   "execution_count": 20,
   "metadata": {},
   "outputs": [],
   "source": [
    "# # loop through the ticker to calculate the 10 days returns\n",
    "# data = []\n",
    "# for ticker in tickers:\n",
    "#     dayX10_returns = df.groupby('Symbol').get_group(ticker)[\"Close\"].pct_change(10)\n",
    "#     data.append(dayX10_returns)\n",
    "# df[\"Returns\"] = pd.concat(data)"
   ]
  },
  {
   "cell_type": "code",
   "execution_count": 21,
   "metadata": {},
   "outputs": [],
   "source": [
    "# # loop through the ticker to calculate the daily range\n",
    "# data = []\n",
    "# for ticker in tickers:\n",
    "#     daily_range = df.groupby('Symbol').get_group(ticker)[\"High\"]-df.groupby('Symbol').get_group(ticker)[\"Low\"]\n",
    "#     data.append(daily_range)\n",
    "# df[\"Daily_Range\"] = pd.concat(data)\n"
   ]
  },
  {
   "cell_type": "code",
   "execution_count": 22,
   "metadata": {},
   "outputs": [],
   "source": [
    "# df.groupby('Symbol').get_group('CL=F')['ATR'].plot()"
   ]
  },
  {
   "cell_type": "code",
   "execution_count": 23,
   "metadata": {},
   "outputs": [],
   "source": [
    "# run once to store the dataset and comment out yfinance to avoid repeat pulling data from API\n",
    "# df.to_csv('PrimeDataSet2021-06-18.csv', index = False)"
   ]
  },
  {
   "cell_type": "markdown",
   "metadata": {},
   "source": [
    "## **Important Note: All Analysis should start from here..."
   ]
  },
  {
   "cell_type": "markdown",
   "metadata": {},
   "source": [
    "## Hypothesis 1: Cryptocurrency Market Trends Mirror Traditional Markets. \n",
    "\n",
    "Our hypothesis 1, which is our primary hypothesis for our exploratory analysis is that the crypto market mirrors the behavior of traditional markets, specifically NASDAQ and the NYSE. In the following section we set out to find evidence in support of and against our hypothesis to ascertain what is most probable.\n"
   ]
  },
  {
   "cell_type": "code",
   "execution_count": 24,
   "metadata": {},
   "outputs": [],
   "source": [
    "df = pd.read_csv('PrimeDataSet2021-06-18.csv')"
   ]
  },
  {
   "cell_type": "code",
   "execution_count": 25,
   "metadata": {},
   "outputs": [
    {
     "ename": "NameError",
     "evalue": "name 'small_list' is not defined",
     "output_type": "error",
     "traceback": [
      "\u001b[0;31m---------------------------------------------------------------------------\u001b[0m",
      "\u001b[0;31mNameError\u001b[0m                                 Traceback (most recent call last)",
      "\u001b[0;32m<ipython-input-25-cfbc1804adf1>\u001b[0m in \u001b[0;36m<module>\u001b[0;34m()\u001b[0m\n\u001b[1;32m      4\u001b[0m \u001b[0;31m# y_range_min = round(df[df.Symbol == 'BTC-USD']['Close'].tail(plot_range).min(),0) - 1000\u001b[0m\u001b[0;34m\u001b[0m\u001b[0;34m\u001b[0m\u001b[0m\n\u001b[1;32m      5\u001b[0m \u001b[0;34m\u001b[0m\u001b[0m\n\u001b[0;32m----> 6\u001b[0;31m pchart = alt.Chart(df[df.Symbol.isin(small_list)]).mark_line().encode(\n\u001b[0m\u001b[1;32m      7\u001b[0m     \u001b[0mx\u001b[0m \u001b[0;34m=\u001b[0m \u001b[0malt\u001b[0m\u001b[0;34m.\u001b[0m\u001b[0mX\u001b[0m\u001b[0;34m(\u001b[0m\u001b[0;34m'Date:T'\u001b[0m\u001b[0;34m)\u001b[0m\u001b[0;34m,\u001b[0m\u001b[0;34m\u001b[0m\u001b[0m\n\u001b[1;32m      8\u001b[0m     \u001b[0my\u001b[0m \u001b[0;34m=\u001b[0m \u001b[0malt\u001b[0m\u001b[0;34m.\u001b[0m\u001b[0mY\u001b[0m\u001b[0;34m(\u001b[0m\u001b[0;34m'Close:Q'\u001b[0m\u001b[0;34m)\u001b[0m\u001b[0;34m,\u001b[0m\u001b[0;34m\u001b[0m\u001b[0m\n",
      "\u001b[0;31mNameError\u001b[0m: name 'small_list' is not defined"
     ]
    }
   ],
   "source": [
    "# small_list = ['BTC-USD', 'ETH-USD', 'MSTR', 'NVDA', 'PYPL', 'SQ', 'TSLA']\n",
    "# plot_range = 1000\n",
    "# y_range_max = round(df[df.Symbol == 'BTC-USD']['Close'].tail(plot_range).max(),0) + 1000\n",
    "# y_range_min = round(df[df.Symbol == 'BTC-USD']['Close'].tail(plot_range).min(),0) - 1000\n",
    "\n",
    "pchart = alt.Chart(df[df.Symbol.isin(small_list)]).mark_line().encode(\n",
    "    x = alt.X('Date:T'),\n",
    "    y = alt.Y('Close:Q'),\n",
    "    color = 'Symbol:N',\n",
    "    tooltip = ['Symbol', 'Close']\n",
    ").properties(width = 700, title='First View: BTC Price Trend Comparison with Other Assets')\n",
    "\n",
    " \n",
    "pchart       \n",
    "   \n",
    "   "
   ]
  },
  {
   "cell_type": "code",
   "execution_count": null,
   "metadata": {},
   "outputs": [],
   "source": [
    "pchart = alt.Chart(df).mark_line().encode(\n",
    "    x = alt.X('Date:T'),\n",
    "    y = alt.Y('Close:Q'),\n",
    "    color = 'Symbol:N',\n",
    "    tooltip = ['Symbol', 'Close']\n",
    ").properties(width = 700, title='BTC Price Trend Comparison with Other Assets')\n",
    "\n",
    " \n",
    "pchart    "
   ]
  },
  {
   "cell_type": "markdown",
   "metadata": {},
   "source": [
    "To escertain whether Bitcoin follows the traditional market trend, we first examine its overall trend line. This is the first chart to show that Bitcoin line chart is very similar to the traditional stock and other commodity asset, it has a clear long term and short term fluctuation pattern. In the medium term, the technical line is strongly supported by 50-day moving average. There is a 50% correction in April 2021, where the trend line drops below 200-day moving average for a brief period and it bounces back above 200-day line. "
   ]
  },
  {
   "cell_type": "code",
   "execution_count": null,
   "metadata": {},
   "outputs": [],
   "source": [
    "plot_range = 1000"
   ]
  },
  {
   "cell_type": "code",
   "execution_count": null,
   "metadata": {},
   "outputs": [],
   "source": [
    "y_range_max = round(df[df.Symbol == 'BTC-USD']['Close'].tail(plot_range).max(),0) + 1000\n",
    "y_range_min = round(df[df.Symbol == 'BTC-USD']['Close'].tail(plot_range).min(),0) - 1000\n"
   ]
  },
  {
   "cell_type": "code",
   "execution_count": null,
   "metadata": {},
   "outputs": [],
   "source": [
    "Mchart = alt.Chart(df[df.Symbol == 'BTC-USD'].tail(plot_range)).mark_line().encode(\n",
    "    x = alt.X('Date:T'),\n",
    ")"
   ]
  },
  {
   "cell_type": "code",
   "execution_count": null,
   "metadata": {},
   "outputs": [],
   "source": [
    "layer = alt.layer(\n",
    "    Mchart.mark_line(color='lightblue').encode(alt.Y('Close:Q', scale = alt.Scale(domain=[y_range_min,y_range_max],clamp=True), title = 'Price (USD)')),\n",
    "    Mchart.mark_line(color='green').encode(alt.Y('MA50:Q', scale = alt.Scale(domain=[y_range_min,y_range_max], clamp=True))),\n",
    "    Mchart.mark_line(color='#fdbb84').encode(alt.Y('MA100:Q', scale = alt.Scale(domain=[y_range_min,y_range_max], clamp=True))),\n",
    "    Mchart.mark_line(color='#e34a33').encode(alt.Y('MA200:Q', scale = alt.Scale(domain=[y_range_min,y_range_max], clamp=True))),\n",
    ").properties(title='BTC Close Price Vs Moving Average (50-Day, 100-Day, 200-Day)', width = 700)\n",
    "\n",
    "layer"
   ]
  },
  {
   "cell_type": "markdown",
   "metadata": {},
   "source": [
    "In this chart, we plot the Bitcoin against its own ATR value to gauge how volatile the bitcoin overall market is. It is very clear that Bitcoin is not only extremely volatile but also getting more volatile in the recent months. The orange region represents the loss and blue represents gain. So Bitcoin overall exihibits the characteristics of the money market, it is volatile and has a clear trading pattern for risk purchase and hedging."
   ]
  },
  {
   "cell_type": "code",
   "execution_count": null,
   "metadata": {},
   "outputs": [],
   "source": [
    "interval = alt.selection_interval()\n",
    "\n",
    "pchart = alt.Chart(df[df.Symbol == 'BTC-USD'].tail(plot_range)).mark_line().encode(\n",
    "    x = alt.X('Date:T'),\n",
    "    y = alt.Y('Close:Q', scale = alt.Scale(domain=[y_range_min,y_range_max])),\n",
    "    #tooltip = alt.Tooltip('Close', title = 'Close')\n",
    ").properties(width = 700, title='Close Price Trend').add_selection(interval)\n",
    "\n"
   ]
  },
  {
   "cell_type": "code",
   "execution_count": null,
   "metadata": {},
   "outputs": [],
   "source": [
    "#     color = alt.condition(\n",
    "#         alt.datum.Returns > 0,\n",
    "#         alt.value('steelblue'),  \n",
    "#         alt.value('orange')   # low return seems correlates more with high volatility, we should study this."
   ]
  },
  {
   "cell_type": "code",
   "execution_count": null,
   "metadata": {},
   "outputs": [],
   "source": [
    "cchart = alt.Chart(df[df.Symbol == 'BTC-USD']).mark_bar().encode(\n",
    "    x = alt.X('Date:T'),\n",
    "    y = alt.Y('ATR:Q'),\n",
    "    tooltip = ['Returns'],\n",
    "    color = alt.Color('LossGain:N', legend=alt.Legend(title = 'Returns'))\n",
    ").properties(title = 'ATR Trend by Returns (By Returns)', width = 700).transform_filter(interval)\n"
   ]
  },
  {
   "cell_type": "code",
   "execution_count": null,
   "metadata": {},
   "outputs": [],
   "source": [
    "pchart & cchart"
   ]
  },
  {
   "cell_type": "code",
   "execution_count": null,
   "metadata": {},
   "outputs": [],
   "source": [
    "selection = alt.selection_multi(fields=['series'], bind='legend')\n",
    "\n",
    "alt.Chart(source).mark_area().encode(\n",
    "    alt.X('Date:T', axis=alt.Axis(domain=False, format='%Y', tickSize=0)),\n",
    "    alt.Y('Close:Q', stack='center', axis=None),\n",
    "    alt.Color('series:N', scale=alt.Scale(scheme='category20b')),\n",
    "    opacity=alt.condition(selection, alt.value(1), alt.value(0.2))\n",
    ").add_selection(\n",
    "    selection\n",
    ")"
   ]
  },
  {
   "cell_type": "code",
   "execution_count": null,
   "metadata": {},
   "outputs": [],
   "source": []
  },
  {
   "cell_type": "code",
   "execution_count": null,
   "metadata": {},
   "outputs": [],
   "source": []
  },
  {
   "cell_type": "markdown",
   "metadata": {},
   "source": [
    "On this chart, we compare Bitcoin with other assets such as stock, commodity and ETH to investigate whether it does mirror the overall market movement. \n"
   ]
  },
  {
   "cell_type": "code",
   "execution_count": null,
   "metadata": {},
   "outputs": [],
   "source": [
    "df.Symbol.unique()"
   ]
  },
  {
   "cell_type": "code",
   "execution_count": null,
   "metadata": {},
   "outputs": [],
   "source": [
    "exposure_list = ['BTC-USD', 'CL\\=F', 'ETH-USD', 'GC\\=F', 'JPM',\n",
    "       'MSTR', 'NVDA', 'PYPL', 'SQ', 'TSLA']"
   ]
  },
  {
   "cell_type": "code",
   "execution_count": null,
   "metadata": {},
   "outputs": [],
   "source": [
    "non_exposure_list = ['AAPL', 'BTC-USD', 'ETH-USD', 'MSFT', '^DJI', '^GSPC', '^IXIC']"
   ]
  },
  {
   "cell_type": "code",
   "execution_count": null,
   "metadata": {},
   "outputs": [],
   "source": [
    "exchart = alt.Chart(df[df.Symbol.isin(exposure_list)]).mark_line().encode(\n",
    "    x = alt.X('Date:T'),\n",
    "    y = alt.Y('Close:Q', scale = alt.Scale(type='log'), title = 'Close Price (USD)'),\n",
    "    color = 'Symbol:N',\n",
    "    tooltip = ['Symbol', 'Close']\n",
    ").properties(width = 700, title='BTC-USD Price VS Exposure Assets')\n",
    "\n",
    "  "
   ]
  },
  {
   "cell_type": "code",
   "execution_count": null,
   "metadata": {},
   "outputs": [],
   "source": [
    "zone = pd.DataFrame([\n",
    "    {\n",
    "        \"start\": \"2020-02-15\",\n",
    "        \"end\": \"2020-03-16\",\n",
    "        \"event\": \"Market-Dip\"\n",
    "    },\n",
    "    \n",
    "])"
   ]
  },
  {
   "cell_type": "code",
   "execution_count": null,
   "metadata": {},
   "outputs": [],
   "source": [
    "ruler = alt.Chart(zone).mark_rule(\n",
    "    color=\"lightred\",\n",
    "    strokeWidth=40,\n",
    "    opacity = 0.8\n",
    ").encode(\n",
    "    x= alt.X('start:T', title = 'Date'),\n",
    "    #x2 = alt.X2('end:T'),\n",
    ").transform_filter(alt.datum.event == \"Market-Dip\")"
   ]
  },
  {
   "cell_type": "markdown",
   "metadata": {},
   "source": [
    "### What's informative about this view: \n",
    "\n",
    "In this view you can see a few major index funds, stocks and alt coins compared to the price of BTC. It can be observed that there might be some correlation between BTC and traditional markets. You can see that when DJI takes a dip in Feb 2020 BTC does as well. These rough correlations can be seen in a few spots, but are not abundantly clear. It seems like BTC correlates with the market in the last few months, Bitcoin should be an uncorrelated asset. We also compared the Bitcoin with two groups of assets. One is having high exposure to Bitcoin market and second group has known exposure. The charts can not make any conclusive observation unless we zoom into specific period.\n"
   ]
  },
  {
   "cell_type": "code",
   "execution_count": null,
   "metadata": {},
   "outputs": [],
   "source": [
    "ruler + exchart"
   ]
  },
  {
   "cell_type": "code",
   "execution_count": null,
   "metadata": {},
   "outputs": [],
   "source": [
    "alt.Chart(df[df.Symbol.isin(non_exposure_list)]).mark_line().encode(\n",
    "    x = alt.X('Date:T'),\n",
    "    y = alt.Y('Close:Q', scale = alt.Scale(type='log'), title = 'Close Price (USD)'),\n",
    "    color = 'Symbol:N',\n",
    "    tooltip = ['Symbol', 'Close']\n",
    ").properties(width = 700, title='BTC-USD Price VS Non-Exposure Assets')\n",
    "\n",
    "  "
   ]
  },
  {
   "cell_type": "markdown",
   "metadata": {},
   "source": [
    "### What could be improved about this view:  \n",
    "\n",
    "It is difficult to see any exact correlations between BTC and the others and most of the tickers are so low on the Y axis that any fluctuations in price can’t be seen. A daily returns plot could be an improvement because it will move all of the tickers on to a similar scale."
   ]
  },
  {
   "cell_type": "code",
   "execution_count": null,
   "metadata": {},
   "outputs": [],
   "source": [
    "alt.Chart(df[df.Symbol.isin(['BTC-USD','AAPL'])]).mark_bar().encode(\n",
    "    x = alt.X('Date:T'),\n",
    "    y = alt.Y('Returns:Q'),\n",
    "    color = 'Symbol:N',\n",
    ").properties(width = 700, title='BTC and AAPL Returns by Date Overlaid')\n"
   ]
  },
  {
   "cell_type": "markdown",
   "metadata": {},
   "source": [
    "From this chart, we could clearly see that both line aligned with each other when they are overlaid on the graph. From this overlaid chart, the bitcoin may have some degree of correlation with some of the stocks or assets. But we are not sure what is the significant level of this correlation."
   ]
  },
  {
   "cell_type": "code",
   "execution_count": null,
   "metadata": {},
   "outputs": [],
   "source": [
    "alt.Chart(df[df.Symbol.isin(['BTC-USD','MSTR'])]).mark_bar().encode(\n",
    "    x = alt.X('Date:T'),\n",
    "    y = alt.Y('Returns:Q'),\n",
    "    color = 'Symbol:N',\n",
    ").properties(width = 700, title='BTC and MSTR Returns by Date Overlaid')\n"
   ]
  },
  {
   "cell_type": "code",
   "execution_count": null,
   "metadata": {},
   "outputs": [],
   "source": [
    "alt.Chart(df[df.Symbol.isin(['BTC-USD','^DJI'])]).mark_bar().encode(\n",
    "    x = alt.X('Date:T'),\n",
    "    y = alt.Y('Returns:Q'),\n",
    "    color = 'Symbol:N',\n",
    ").properties(width = 700, title='BTC and Dow Jone Index Returns')\n"
   ]
  },
  {
   "cell_type": "code",
   "execution_count": null,
   "metadata": {},
   "outputs": [],
   "source": [
    "alt.Chart(df[df.Symbol.isin(['BTC-USD','^GSPC'])]).mark_bar().encode(\n",
    "    x = alt.X('Date:T'),\n",
    "    y = alt.Y('Returns:Q'),\n",
    "    color = 'Symbol:N',\n",
    ").properties(width = 700, title='BTC and SP500 Index Returns')\n",
    "\n"
   ]
  },
  {
   "cell_type": "markdown",
   "metadata": {},
   "source": [
    "### What's informative about this view:\n",
    "This view shows the degree of daily range fluctuation of Bitcoin as compared to other assets. We notice that Bitcoin daily fluctuation is extremely high and no other asset has such a high variation in USD value within a day."
   ]
  },
  {
   "cell_type": "code",
   "execution_count": null,
   "metadata": {},
   "outputs": [],
   "source": [
    "alt.Chart(df).mark_line().encode(\n",
    "    x = alt.X('Date:T'),\n",
    "    y = alt.Y('Daily_Range:Q', title = 'Price (USD)'),\n",
    "    color = 'Symbol:N',\n",
    "    tooltip = ['Close', 'Volume']\n",
    ").properties(width = 700, title='BTC Daily Range VS Other Assets Trend')\n"
   ]
  },
  {
   "cell_type": "markdown",
   "metadata": {},
   "source": [
    "### What could be improved about this view:\n",
    "To improve further, we use bar chart to show the breakdown of each asset as compared to Bitcoin. And now, we could clearly see that Bitcon could fluctuate as much as USD 12,000 just within a day. Bitcoin has high volality, but also higher return as compared to others. "
   ]
  },
  {
   "cell_type": "code",
   "execution_count": null,
   "metadata": {},
   "outputs": [],
   "source": [
    "print(list(df.Symbol.unique()))\n"
   ]
  },
  {
   "cell_type": "code",
   "execution_count": null,
   "metadata": {},
   "outputs": [],
   "source": [
    "df.groupby('Symbol').get_group('CL=F').isna().sum()"
   ]
  },
  {
   "cell_type": "code",
   "execution_count": null,
   "metadata": {},
   "outputs": [],
   "source": [
    "alt.Chart(df).mark_bar().encode(\n",
    "    x = alt.X('Symbol:N'),\n",
    "    y = alt.Y('Daily_Range:Q'),\n",
    "    color = 'Symbol:N',\n",
    "    tooltip = ['Symbol']\n",
    ").properties(width = 700, title='BTC Daily Range Fluctuation Comparison with Other Assets')\n",
    "  "
   ]
  },
  {
   "cell_type": "code",
   "execution_count": null,
   "metadata": {},
   "outputs": [],
   "source": [
    "alt.Chart(df).mark_bar().encode(\n",
    "    x = alt.X('Symbol:N',sort=alt.EncodingSortField(field='Returns', op='sum', order='descending')),\n",
    "    y = alt.Y('sum(Returns):Q', ),\n",
    "    color = 'Symbol:N',\n",
    "    tooltip = ['Symbol']\n",
    ").properties(width = 700, title='BTC Returns Comparison with Other Assets')\n",
    "  "
   ]
  },
  {
   "cell_type": "code",
   "execution_count": null,
   "metadata": {},
   "outputs": [],
   "source": [
    "alt.Chart(df).mark_bar().encode(\n",
    "    x = alt.X('Symbol:N', sort=alt.EncodingSortField(field='ATR', op='mean', order='descending')),\n",
    "    y = alt.Y('mean(ATR):Q'),\n",
    "    color = 'Symbol:N',\n",
    "    tooltip = ['Symbol']\n",
    ").properties(width = 700, title='BTC Mean ATR Comparison with Other Assets')\n",
    "  "
   ]
  },
  {
   "cell_type": "markdown",
   "metadata": {},
   "source": [
    "### What could be improved about this view:\n",
    "\n",
    "We use scatter plot to see any particular outliers, it shows clearly that Bitcoin has quite number of outliers. The spikes could be due to any critical news ot event which warrants further investigation in our further study of the hypothesis."
   ]
  },
  {
   "cell_type": "code",
   "execution_count": null,
   "metadata": {},
   "outputs": [],
   "source": [
    "alt.Chart(df).mark_circle().encode(\n",
    "    x = alt.X('Volume:Q'),\n",
    "    y = alt.Y('sum(Returns):Q'),\n",
    "    color = 'Symbol:N',\n",
    "    #color = 'day(Date:T)'\n",
    ").properties(width = 700, title='BTC Returns Comparison with Other Assets')\n",
    "  "
   ]
  },
  {
   "cell_type": "code",
   "execution_count": null,
   "metadata": {},
   "outputs": [],
   "source": [
    "alt.Chart(df).mark_circle().encode(\n",
    "    x = alt.X('Returns:Q'),\n",
    "    y = alt.Y('ATR:Q'),\n",
    "    color = 'Symbol:N'\n",
    ").properties(width = 700, title='Returns VS Volume')"
   ]
  },
  {
   "cell_type": "markdown",
   "metadata": {},
   "source": [
    "### What could be improved about this view:\n",
    "\n",
    "We use boxplot to ascertain and present another perspective of the outliers."
   ]
  },
  {
   "cell_type": "code",
   "execution_count": null,
   "metadata": {},
   "outputs": [],
   "source": [
    "alt.Chart(df[df.Symbol.isin(['BTC-USD','AAPL'])]).mark_boxplot(size=50, extent = 0.5).encode(\n",
    "    x = alt.X('Symbol:N'),\n",
    "#     y = alt.Y('month(Date):O'),\n",
    "    y = alt.Y('Returns_Percent:Q', scale=alt.Scale(zero=False)),\n",
    "    color = alt.Color('Symbol:N')\n",
    ").properties(title = 'BTC Returns VS Other Assets Borplot', width = 700).configure_axisX(labelFontSize = 12, labelAngle = 45).configure_axisY(labelFontSize = 12)\n",
    "\n"
   ]
  },
  {
   "cell_type": "code",
   "execution_count": null,
   "metadata": {},
   "outputs": [],
   "source": [
    "alt.Chart(df[df.Symbol.isin(exposure_list)]).mark_boxplot(size=50, extent = 0.5).encode(\n",
    "    x = alt.X('Symbol:N'),\n",
    "#     y = alt.Y('month(Date):O'),\n",
    "    y = alt.Y('Returns:Q', scale=alt.Scale(zero=False)),\n",
    "    color = alt.Color('Symbol:N')\n",
    ").properties(title = 'BTC Returns VS Other Assets Borplot', width = 700).configure_axisX(labelFontSize = 12, labelAngle = 45).configure_axisY(labelFontSize = 12)\n",
    "\n"
   ]
  },
  {
   "cell_type": "code",
   "execution_count": null,
   "metadata": {},
   "outputs": [],
   "source": [
    "selector = df.Symbol == 'BTC-USD'\n",
    "plot_range = 500\n",
    "y_range_max = round(df[selector]['Close'].tail(plot_range).max(),0) + 1000\n",
    "y_range_min = round(df[selector]['Close'].tail(plot_range).min(),0) - 1000"
   ]
  },
  {
   "cell_type": "code",
   "execution_count": null,
   "metadata": {},
   "outputs": [],
   "source": [
    "# df[df.Symbol == 'BTC-USD'].tail(plot_range)\n",
    "pvchart = alt.Chart(df[df.Symbol == 'BTC-USD'].tail(plot_range)).mark_circle().encode(\n",
    "    x = alt.X('Date:T'),\n",
    "    y = alt.Y('Close:Q', scale = alt.Scale(domain=[y_range_min,y_range_max], type='log')),\n",
    "    color = alt.condition(\n",
    "        alt.datum.Returns > 0,\n",
    "        alt.value('steelblue'),  \n",
    "        alt.value('orange')),\n",
    "        tooltip = ['Date:T','Close', 'Volume']\n",
    ").properties(width = 700, title='BTC Close Price Trend')\n"
   ]
  },
  {
   "cell_type": "code",
   "execution_count": null,
   "metadata": {},
   "outputs": [],
   "source": [
    "#df[df.Symbol.isin(exposure_list)]\n",
    "#df[df.Symbol == 'BTC-USD'].tail(plot_range)\n",
    "vchart = alt.Chart(df[df.Symbol == 'BTC-USD'].tail(plot_range)).mark_bar().encode(\n",
    "    x = alt.X('Date:T'),\n",
    "    y = alt.Y('Volume:Q'),\n",
    "    color = alt.Color('LossGain:N', legend = alt.Legend(title = 'Returns'))\n",
    ").properties(title=\"BTC Volume Trend\", width =700)\n",
    "\n"
   ]
  },
  {
   "cell_type": "markdown",
   "metadata": {},
   "source": [
    "### What's informative about this view:\n",
    "\n",
    "This chart is a further improvement of the trend line chart, we marked the color of loss and gain and crossed reference with the trading volume."
   ]
  },
  {
   "cell_type": "code",
   "execution_count": null,
   "metadata": {},
   "outputs": [],
   "source": [
    "pvchart & vchart"
   ]
  },
  {
   "cell_type": "markdown",
   "metadata": {},
   "source": [
    "## Hypothesis 2: Alt coins are highly correlated with and follow Bitcoin price"
   ]
  },
  {
   "cell_type": "markdown",
   "metadata": {},
   "source": [
    "#### The view shows that Alt coins are on par with Bitcoin in terms of price percentage performance, there is a great opportunity to invest in alt coins. "
   ]
  },
  {
   "cell_type": "code",
   "execution_count": null,
   "metadata": {},
   "outputs": [],
   "source": [
    "\n",
    "alt.Chart(df[df.Symbol.isin(['BTC-USD','ETH-USD'])]).mark_line().encode(\n",
    "    x = alt.X('Date:T'),\n",
    "    y = alt.Y('Close:Q', scale = alt.Scale(type='log'), title = 'Close Price (USD)'),\n",
    "    color = 'Symbol:N',\n",
    "    tooltip = ['Symbol', 'Close']\n",
    ").properties(width = 700, title='BTC-USD Price VS ETH-USD')\n",
    "\n",
    "  "
   ]
  },
  {
   "cell_type": "markdown",
   "metadata": {},
   "source": [
    "The view shows that BTC and Alt Coin are very much aligned in the daily returns, this is an insight that alt coin follows the momentum of BTC as they flucture with the highly similar pattern when we overlay their trend lines."
   ]
  },
  {
   "cell_type": "code",
   "execution_count": null,
   "metadata": {},
   "outputs": [],
   "source": [
    "alt.Chart(df[df.Symbol.isin(['BTC-USD','ETH-USD'])]).mark_bar().encode(\n",
    "    x = alt.X('Date:T'),\n",
    "    y = alt.Y('Returns:Q'),\n",
    "    color = 'Symbol:N',\n",
    ").properties(width = 700, title='BTC and ETH Returns by Date Overlaid')\n"
   ]
  },
  {
   "cell_type": "code",
   "execution_count": null,
   "metadata": {},
   "outputs": [],
   "source": []
  },
  {
   "cell_type": "markdown",
   "metadata": {},
   "source": [
    "## Hypothesis 3: Cryptocurrency market is highly influenced by non-market factors that don't affect traditional markets (ie. tweets, corporate investment, covid?)\n",
    "\n",
    "Cryptocurrency market is highly influenced by non-market factors that don't affect traditional markets (ie. tweets, corporate investment, individual opinions, google searches).\n",
    "What we are trying to discover here is whether or not the crypto market, being without regulation, is susceptible to factors that don’t affect conventional markets like NASDAQ and NYSE. Tweets and comments made by Elon Musk have affected the overall crypto market, as well as the price of Bitcoin and the price and demand for Doge.  Here we want to see just what factors have the biggest impact on movements in the crypto market, whether positive or negative.\n"
   ]
  },
  {
   "cell_type": "code",
   "execution_count": null,
   "metadata": {},
   "outputs": [],
   "source": [
    "plot_range = 500"
   ]
  },
  {
   "cell_type": "code",
   "execution_count": null,
   "metadata": {},
   "outputs": [],
   "source": [
    "schart = alt.Chart(df[df.Symbol == 'BTC-USD'].tail(plot_range)).mark_bar().encode(\n",
    "    x = alt.X('yearmonthdate(Date)'),\n",
    "    y = alt.Y('Returns:Q'),\n",
    "    opacity=alt.value(1.0),\n",
    "    tooltip = ['Date:T'],\n",
    "    color = alt.Color('LossGain:N', legend=alt.Legend(title='Returns'))\n",
    ").properties(width = 700, title='BTC Daily Returns Trend')\n"
   ]
  },
  {
   "cell_type": "code",
   "execution_count": null,
   "metadata": {},
   "outputs": [],
   "source": [
    "bitcoin_news = pd.DataFrame([\n",
    "    {\n",
    "        \"start\": \"2021-05-15\",\n",
    "        \"end\": \"2021-06-01\",\n",
    "        \"news\": \"FBI Ransonware Crypto\"\n",
    "    },\n",
    "    {\n",
    "        \"start\": \"2020-12-31\",\n",
    "        \"end\": \"2021-01-31\",\n",
    "        \"news\": \"Elon Musk's Tweet\"\n",
    "    },\n",
    "    {\n",
    "        \"start\": \"2020-03-02\",\n",
    "        \"end\": \"2020-03-30\",\n",
    "        \"news\": \"Covid-19\"\n",
    "    }\n",
    "    \n",
    "])"
   ]
  },
  {
   "cell_type": "code",
   "execution_count": null,
   "metadata": {},
   "outputs": [],
   "source": [
    "event = alt.Chart(bitcoin_news).mark_rule(\n",
    "    color=\"lightgray\",\n",
    "    strokeWidth=20,\n",
    "    opacity = 0.4,\n",
    ").encode(\n",
    "    x='start:T'\n",
    ").transform_filter(alt.datum.news == \"Elon Musk's Tweet\")"
   ]
  },
  {
   "cell_type": "code",
   "execution_count": null,
   "metadata": {},
   "outputs": [],
   "source": [
    "event2 = alt.Chart(bitcoin_news).mark_rule(\n",
    "    color=\"lightred\",\n",
    "    strokeWidth=40,\n",
    "    opacity = 0.4,\n",
    ").encode(\n",
    "    x= alt.X('start:T', title = 'Date'),\n",
    ").transform_filter(alt.datum.news == \"Covid-19\")"
   ]
  },
  {
   "cell_type": "code",
   "execution_count": null,
   "metadata": {},
   "outputs": [],
   "source": [
    "event3 = alt.Chart(bitcoin_news).mark_rule(\n",
    "    color=\"lightred\",\n",
    "    strokeWidth=30,\n",
    "    opacity = 0.4\n",
    ").encode(\n",
    "    x= alt.X('start:T', title = 'Date'),\n",
    ").transform_filter(alt.datum.news == \"FBI Ransonware Crypto\")"
   ]
  },
  {
   "cell_type": "code",
   "execution_count": null,
   "metadata": {},
   "outputs": [],
   "source": [
    "\n",
    "text = alt.Chart(bitcoin_news).mark_text(\n",
    "    align='right',\n",
    "    baseline='middle',\n",
    "    dx=7,\n",
    "    dy=-135,\n",
    "    size=11\n",
    ").encode(\n",
    "    x='start:T',\n",
    "    x2='end:T',\n",
    "    text='news',\n",
    "    color=alt.value('#000000'),\n",
    "    opacity=alt.value(1.0)\n",
    ")"
   ]
  },
  {
   "cell_type": "code",
   "execution_count": null,
   "metadata": {},
   "outputs": [],
   "source": [
    "schart = alt.Chart(df[df.Symbol == 'BTC-USD'].tail(plot_range)).mark_bar().encode(\n",
    "    x = alt.X('Date:T', axis = alt.Axis(format = (\"%b %Y\"))),\n",
    "    y = alt.Y('Returns:Q'),\n",
    "    opacity=alt.value(1.0),\n",
    "    tooltip = ['Date:T'],\n",
    "    color = alt.Color('LossGain:N', legend=alt.Legend(title='Returns'))\n",
    ").properties(width = 700, title='BTC Daily Returns Trend')\n"
   ]
  },
  {
   "cell_type": "code",
   "execution_count": null,
   "metadata": {},
   "outputs": [],
   "source": [
    "event + event2 + event3 + text + schart"
   ]
  },
  {
   "cell_type": "markdown",
   "metadata": {},
   "source": [
    "### What could be improved about this view:\n",
    "\n",
    "We use heatmap to pinpoint any specific event that might cause the spike in Bitcoin price movement.\n"
   ]
  },
  {
   "cell_type": "code",
   "execution_count": null,
   "metadata": {},
   "outputs": [],
   "source": [
    "alt.Chart(df[df.Symbol == 'BTC-USD']).mark_rect().encode(\n",
    "    x = alt.X('date(Date):O'),\n",
    "    y = alt.Y('month(Date):O'),\n",
    "    color = alt.Color('ATR:Q')\n",
    ").properties(title = 'Bitcoin ATR Heatmap by Day and Month')\n"
   ]
  },
  {
   "cell_type": "code",
   "execution_count": null,
   "metadata": {},
   "outputs": [],
   "source": [
    "alt.Chart(df[df.Symbol == 'BTC-USD']).mark_rect().encode(\n",
    "    x = alt.X('date(Date):O'),\n",
    "    y = alt.Y('month(Date):O'),\n",
    "    color = alt.Color('Returns:Q')\n",
    ").properties(title = 'BTC Returns Heatmap by Day and Month')\n"
   ]
  },
  {
   "cell_type": "code",
   "execution_count": null,
   "metadata": {},
   "outputs": [],
   "source": [
    "alt.Chart(df[df.Symbol == 'BTC-USD']).mark_rect().encode(\n",
    "    y = alt.Y('day(Date):O'),\n",
    "    x = alt.X('month(Date):O'),\n",
    "    color = alt.Color('Returns:Q')\n",
    ").properties(title = 'Returns Heatmap by Hours and Day of the Week')\n"
   ]
  },
  {
   "cell_type": "code",
   "execution_count": null,
   "metadata": {},
   "outputs": [],
   "source": [
    "alt.Chart(df[df.Symbol.isin(['BTC-USD','^DJI'])]).mark_circle().encode(\n",
    "    x = alt.X('ATR:Q'),\n",
    "    y = alt.Y('Returns:Q'),\n",
    "    color = 'Symbol:N'  \n",
    ").properties(width = 700, title='BTC VS Down Jone (In Terms of Return VS Volatility)')\n"
   ]
  },
  {
   "cell_type": "markdown",
   "metadata": {},
   "source": [
    "### What could be improved about this view:\n",
    "\n",
    "The detailed candlestick chart is plotted to compare Bitcoin Versus Gold market as both of the commodities are highly driven by events such as government policy. As shown in the charts below, both of them are moving in the opposite direction. "
   ]
  },
  {
   "cell_type": "code",
   "execution_count": null,
   "metadata": {},
   "outputs": [],
   "source": [
    "# Candlestick plot for short term price movement analysis\n",
    "\n",
    "plot_range = 100\n",
    "\n",
    "open_close_color = alt.condition(\"datum.Open <= datum.Close\",\n",
    "                                 alt.value(\"#06982d\"),\n",
    "                                 alt.value(\"#ae1325\"))\n",
    "\n",
    "base = alt.Chart(df[df.Symbol == 'BTC-USD'].tail(plot_range)).encode(\n",
    "    x = alt.X('Date:T',\n",
    "          axis=alt.Axis(\n",
    "              format='%m/%d',\n",
    "              labelAngle=-45,\n",
    "              title='Date'\n",
    "          )\n",
    "    ),\n",
    "    color=open_close_color\n",
    ").properties(title = 'BTC 3-month Candlestick Chart', width = 700)\n",
    "\n",
    "rule = base.mark_rule().encode(\n",
    "    y = alt.Y(\n",
    "        'Low:Q',\n",
    "        title='Price',\n",
    "        scale=alt.Scale(zero=False),\n",
    "    ),\n",
    "    y2 = alt.Y2('High:Q')\n",
    ")\n",
    "\n",
    "line = base.mark_line(color='lightgreen').encode(y = alt.Y('MA50:Q'))\n",
    "line2 = base.mark_line(color='red').encode(y = alt.Y('MA100:Q'))\n",
    "\n",
    "bar = base.mark_bar().encode(\n",
    "    y = alt.Y('Open:Q'),\n",
    "    y2 = alt.Y2('Close:Q')\n",
    ")\n",
    "\n",
    "BTC = (rule + bar + line + line2)"
   ]
  },
  {
   "cell_type": "code",
   "execution_count": null,
   "metadata": {},
   "outputs": [],
   "source": [
    "# Candlestick plot for short term price movement analysis\n",
    "\n",
    "plot_range = 100\n",
    "\n",
    "open_close_color = alt.condition(\"datum.Open <= datum.Close\",\n",
    "                                 alt.value(\"#06982d\"),\n",
    "                                 alt.value(\"#ae1325\"))\n",
    "\n",
    "base = alt.Chart(df[df.Symbol == 'ETH-USD'].tail(plot_range)).encode(\n",
    "    x = alt.X('Date:T',\n",
    "          axis=alt.Axis(\n",
    "              format='%m/%d',\n",
    "              labelAngle=-45,\n",
    "              title='Date'\n",
    "          )\n",
    "    ),\n",
    "    color=open_close_color\n",
    ").properties(title = 'ETH 3-month Candlestick Chart', width = 700)\n",
    "\n",
    "rule = base.mark_rule().encode(\n",
    "    y = alt.Y(\n",
    "        'Low:Q',\n",
    "        title='Price',\n",
    "        scale=alt.Scale(zero=False),\n",
    "    ),\n",
    "    y2 = alt.Y2('High:Q')\n",
    ")\n",
    "\n",
    "line = base.mark_line(color='lightgreen').encode(y = alt.Y('MA50:Q'))\n",
    "line2 = base.mark_line(color='red').encode(y = alt.Y('MA100:Q'))\n",
    "\n",
    "bar = base.mark_bar().encode(\n",
    "    y = alt.Y('Open:Q'),\n",
    "    y2 = alt.Y2('Close:Q')\n",
    ")\n",
    "\n",
    "ETH = (rule + bar + line + line2)"
   ]
  },
  {
   "cell_type": "code",
   "execution_count": null,
   "metadata": {},
   "outputs": [],
   "source": [
    "# Candlestick plot for short term price movement analysis\n",
    "\n",
    "plot_range = 100\n",
    "\n",
    "open_close_color = alt.condition(\"datum.Open <= datum.Close\",\n",
    "                                 alt.value(\"#06982d\"),\n",
    "                                 alt.value(\"#ae1325\"))\n",
    "\n",
    "base = alt.Chart(df[df.Symbol == 'GC=F'].tail(plot_range)).encode(\n",
    "    x = alt.X('Date:T',\n",
    "          axis=alt.Axis(\n",
    "              format='%m/%d',\n",
    "              labelAngle=-45,\n",
    "              title='Date'\n",
    "          )\n",
    "    ),\n",
    "    color=open_close_color\n",
    ").properties(title = 'GOLD 3-month Candlestick Chart', width = 700)\n",
    "\n",
    "rule = base.mark_rule().encode(\n",
    "    y = alt.Y(\n",
    "        'Low:Q',\n",
    "        title='Price',\n",
    "        scale=alt.Scale(zero=False),\n",
    "    ),\n",
    "    y2 = alt.Y2('High:Q')\n",
    ")\n",
    "\n",
    "line = base.mark_line(color='lightgreen').encode(y = alt.Y('MA50:Q'))\n",
    "line2 = base.mark_line(color='red').encode(y = alt.Y('MA100:Q'))\n",
    "\n",
    "bar = base.mark_bar().encode(\n",
    "    y = alt.Y('Open:Q'),\n",
    "    y2 = alt.Y2('Close:Q')\n",
    ")\n",
    "\n",
    "BTC & (rule + bar + line + line2)\n"
   ]
  },
  {
   "cell_type": "markdown",
   "metadata": {},
   "source": [
    "### What could be improved about this view:\n",
    "\n",
    "Correlation matrix is created to show the heatmap of the correlation among all the assets"
   ]
  },
  {
   "cell_type": "code",
   "execution_count": null,
   "metadata": {},
   "outputs": [],
   "source": [
    "corrMatrix = df.corr()"
   ]
  },
  {
   "cell_type": "code",
   "execution_count": null,
   "metadata": {},
   "outputs": [],
   "source": [
    "mdata = pd.DataFrame()\n",
    "mdata['JPM'] = df.groupby('Symbol').get_group('JPM')['Close'].reset_index(drop=True)\n",
    "for tick in tickers:\n",
    "    if tick != 'JPM':\n",
    "        tickdata = pd.DataFrame(df.groupby('Symbol', axis=0).get_group(tick)['Close'].reset_index(drop=True)).rename(columns = {'Close': tick})\n",
    "        mdata = pd.concat([mdata, tickdata], axis=1, join='inner')"
   ]
  },
  {
   "cell_type": "code",
   "execution_count": null,
   "metadata": {},
   "outputs": [],
   "source": [
    "mdata"
   ]
  },
  {
   "cell_type": "code",
   "execution_count": null,
   "metadata": {},
   "outputs": [],
   "source": [
    "#result = pd.concat([mdata, mdata1], axis=1, join='inner')"
   ]
  },
  {
   "cell_type": "code",
   "execution_count": null,
   "metadata": {},
   "outputs": [],
   "source": [
    "cor_data = mdata.corr().stack().reset_index().rename(columns={0: 'correlation', 'level_0': 'variable', 'level_1': 'variable2'})\n",
    "\n",
    "cor_data['correlation_label'] = cor_data['correlation'].map('{:.2f}'.format)"
   ]
  },
  {
   "cell_type": "code",
   "execution_count": null,
   "metadata": {},
   "outputs": [],
   "source": [
    "base = alt.Chart(cor_data).encode(\n",
    "    x= alt.X('variable2:O', title = 'Tickers'),\n",
    "    y=alt.Y('variable:O', title = 'Tickers')    \n",
    ")\n",
    "\n",
    "# Text layer with correlation labels\n",
    "# Use colors that are for easier readability\n",
    "text = base.mark_text().encode(\n",
    "    text='correlation_label',\n",
    "    color=alt.condition(\n",
    "        alt.datum.correlation > 0.5, \n",
    "        alt.value('white'),\n",
    "        alt.value('black')\n",
    "    )\n",
    ")\n",
    "\n",
    "# The correlation heatmap itself\n",
    "cor_plot = base.mark_rect().encode(\n",
    "    color='correlation:Q'\n",
    ").properties(height = 600, width = 600, title = \"BTC Heatmap\")\n",
    "\n",
    "cor_plot + text # overlay the text and rect layer"
   ]
  },
  {
   "cell_type": "markdown",
   "metadata": {},
   "source": [
    "### Conclusion:\n",
    "\n",
    "As can be seen from the charts above looking at Apple and S&P 500 to BTC. The returns on a daily basis do mirror each other. When Apple has negative returns often BTC as well. It would be helpful to view this plot with other tickers as well. What also needs to be determined is the magnitude of these returns over a long period of time.\n",
    "\n",
    "#### Challenges:\n",
    "\n",
    "The data consists of multiple assets spanning across 5 years of data which created a huge volume of data entries to plot a chart. The memory crunch is a serious issue, so we have modified the dataset to slice the data for each of the chart and tried many methods to avoid generating huge memory size of notebook.\n"
   ]
  },
  {
   "cell_type": "markdown",
   "metadata": {},
   "source": [
    "## End of Presentation"
   ]
  },
  {
   "cell_type": "code",
   "execution_count": null,
   "metadata": {},
   "outputs": [],
   "source": []
  }
 ],
 "metadata": {
  "kernelspec": {
   "display_name": "Python 3",
   "language": "python",
   "name": "python3"
  },
  "language_info": {
   "codemirror_mode": {
    "name": "ipython",
    "version": 3
   },
   "file_extension": ".py",
   "mimetype": "text/x-python",
   "name": "python",
   "nbconvert_exporter": "python",
   "pygments_lexer": "ipython3",
   "version": "3.7.0"
  }
 },
 "nbformat": 4,
 "nbformat_minor": 4
}
