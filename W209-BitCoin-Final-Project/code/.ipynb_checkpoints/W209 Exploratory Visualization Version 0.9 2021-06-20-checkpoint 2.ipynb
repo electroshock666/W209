{
 "cells": [
  {
   "cell_type": "markdown",
   "metadata": {},
   "source": [
    "## W207 Exploratory Visualization - 16th June 2021 Summer"
   ]
  },
  {
   "cell_type": "markdown",
   "metadata": {},
   "source": [
    "### Team Members - Jeffrey Adams, Pow Chang, Sweta Bhattacharya, Matt White"
   ]
  },
  {
   "cell_type": "markdown",
   "metadata": {},
   "source": [
    "### Introduction\n",
    "\n",
    "Our research is focused on the cryptocurrency market which is still in its infancy. Although Bitcoin, the leading cryptocurrency, has been in circulation since 2009, in the past year there has been a paradigm shift where companies, governments, investors and hobbyists have started to take a real serious look at cryptocurrencies as a vehicle for their investments. With companies like Microstrategy and Tesla purchasing billions of dollars of bitcoins. However the crypto market is unregulated and is very sensitive to events that highly influence the movement of the value of coins.  Our research and exploratory analysis are centered around how the crypto market moves, whether it's in conjunction with traditional markets and factors that affect traditional markets, or whether it's influenced by other factors that have little to no effect on traditional trading markets, stocks, ETFs and commodities. Our 3 hypotheses will help guide our research through exploration of the data in our datasets, to identify patterns, correlations and outliers in our data.\n",
    "\n",
    "### Observations in the data (without visualizations):\n",
    "\n",
    "We analyzed several datasets including Yahoo Finance, Google searches, Twitter trends, Elon Musk tweets, and a collation of relevant world events and news articles. The Yahoo Finance dataset is referenced by API with configurable parameters so we could restrict our retrieval of data to specific stocks and time periods.  In looking at the Yahoo Finance dataset we observe there are NaN entries where there is a holiday, or weekend when the markets are closed, this is true of all of the publicly traded stocks. For Bitcoin, Ether and cryptocurrencies we do not see this as these markets do not close.\n",
    "We also had to transform the columns in the dataframe returned by Yahoo! Finance since we were unable to get Altair to work with nested columns.  \n",
    "Our dataset for Google searches and Twitter trends was built from their respective APIs and was seeded for keywords, “bitcoin”, “btc”, “ether”, “cryptocurrency” as a measure of how popular crypto currencies were on a day-by-day basis.\n",
    "Our events database was constructed with data that we retrieved independently, including Elon Musk's tweets, government announcements that impacted the crypto market as well as other world events that may have an influence on crypto market performance. \n",
    "In viewing this data it is a little tough to see patterns because it’s time series data over a long period and there is what we believe high correlation with the data we have from the Yahoo! Finance dataset. \n",
    "\n",
    "### Hypothesis Description:\n",
    "From our initial analysis of the datasets we were able to come up with the following hypotheses:\\\n",
    "\t- Hypothesis 1: Cryptocurrency market trends mirror traditional markets.\\\n",
    "\t- Hypothesis 2: Alt coins are highly correlated with and follow Bitcoin price.\\\n",
    "\t- Hypothesis 3: Cryptocurrency market is highly influenced by non-market factors that don't affect traditional markets.\n",
    "\n"
   ]
  },
  {
   "cell_type": "markdown",
   "metadata": {},
   "source": [
    "### Hypothesis 1: Cryptocurrency market trends mirror traditional markets"
   ]
  },
  {
   "cell_type": "code",
   "execution_count": 157,
   "metadata": {},
   "outputs": [
    {
     "name": "stdout",
     "output_type": "stream",
     "text": [
      "pd 1.1.3\n",
      "alt 4.1.0\n"
     ]
    }
   ],
   "source": [
    "import pandas as pd\n",
    "import altair as alt\n",
    "import numpy as np\n",
    "import matplotlib.pyplot as plt\n",
    "from datetime import datetime\n",
    "print(\"pd\", pd.__version__)\n",
    "print(\"alt\", alt.__version__)\n",
    "# alt.data_transformers.disable_max_rows()\n",
    "\n",
    "alt.data_transformers.enable('data_server')\n",
    "# alt.data_transformers.enable('json')\n",
    "# alt.renderers.enable('default')\n",
    "from altair_saver import save\n",
    "# alt.renderers.enable('altair_saver', fmts=['vega-lite', 'png']);\n",
    "import warnings\n",
    "warnings.filterwarnings(\"ignore\")\n"
   ]
  },
  {
   "cell_type": "markdown",
   "metadata": {},
   "source": [
    "## This cell is for Yahoo Finance API, Just need to run once for updating dataset"
   ]
  },
  {
   "cell_type": "code",
   "execution_count": 6,
   "metadata": {},
   "outputs": [],
   "source": [
    "# import yfinance as yf  \n",
    "# import matplotlib.pyplot as plt\n",
    "# # Get the data for the SPY ETF by specifying the stock ticker, start date, and end date\n",
    "tickers = ['BTC-USD','ETH-USD', 'AAPL', 'TSLA', 'MSFT', 'NVDA', 'SQ', 'PYPL', 'MSTR', 'JPM', '^IXIC', '^DJI', '^GSPC', 'GC=F', 'CL=F']\n",
    "# data = yf.download(tickers,'2015-01-01','2021-06-15')\n",
    "# # Plot the close prices\n",
    "# data[\"Adj Close\"]['GC=F'].plot()\n",
    "# plt.show()"
   ]
  },
  {
   "cell_type": "code",
   "execution_count": 7,
   "metadata": {},
   "outputs": [],
   "source": [
    "# data"
   ]
  },
  {
   "cell_type": "code",
   "execution_count": 8,
   "metadata": {},
   "outputs": [],
   "source": [
    "# df = data.stack().reset_index().rename(index=str, columns={\"level_1\": \"Symbol\"}).sort_values(['Symbol','Date'])\n"
   ]
  },
  {
   "cell_type": "code",
   "execution_count": 9,
   "metadata": {},
   "outputs": [],
   "source": [
    "# df.columns"
   ]
  },
  {
   "cell_type": "code",
   "execution_count": 10,
   "metadata": {},
   "outputs": [],
   "source": [
    "# df.set_index('Date', inplace = True)"
   ]
  },
  {
   "cell_type": "code",
   "execution_count": 11,
   "metadata": {},
   "outputs": [],
   "source": [
    "# df = df.rename(columns = {'Adj Close':'Adj_Close'})"
   ]
  },
  {
   "cell_type": "code",
   "execution_count": 12,
   "metadata": {},
   "outputs": [],
   "source": [
    "# df"
   ]
  },
  {
   "cell_type": "code",
   "execution_count": 13,
   "metadata": {},
   "outputs": [],
   "source": [
    "# df[df.Symbol == 'AAPL']['Close'].plot()"
   ]
  },
  {
   "cell_type": "code",
   "execution_count": 14,
   "metadata": {},
   "outputs": [],
   "source": [
    "# df.reset_index(inplace = True)"
   ]
  },
  {
   "cell_type": "code",
   "execution_count": 15,
   "metadata": {},
   "outputs": [],
   "source": [
    "# df"
   ]
  },
  {
   "cell_type": "markdown",
   "metadata": {},
   "source": [
    "## Create some variables here..."
   ]
  },
  {
   "cell_type": "code",
   "execution_count": 16,
   "metadata": {},
   "outputs": [],
   "source": [
    "# # loop through the ticker to calculate the Moving Average for each ticker\n",
    "# def calculate_moving_average(days):\n",
    "#     data = []\n",
    "#     for ticker in tickers:\n",
    "#         ma50 = df.groupby('Symbol').get_group(ticker)[\"Close\"].rolling(days).mean()\n",
    "#         data.append(ma50)\n",
    "#     return pd.concat(data)\n"
   ]
  },
  {
   "cell_type": "code",
   "execution_count": 17,
   "metadata": {},
   "outputs": [],
   "source": [
    "# df[\"MA50\"] = calculate_moving_average(50)"
   ]
  },
  {
   "cell_type": "code",
   "execution_count": 18,
   "metadata": {},
   "outputs": [],
   "source": [
    "# df[\"MA100\"] = calculate_moving_average(100)"
   ]
  },
  {
   "cell_type": "code",
   "execution_count": 19,
   "metadata": {},
   "outputs": [],
   "source": [
    "# df[\"MA200\"] = calculate_moving_average(200)"
   ]
  },
  {
   "cell_type": "code",
   "execution_count": 227,
   "metadata": {},
   "outputs": [],
   "source": [
    "#df[\"LossGain\"] = (df[\"Returns\"] >= 0).astype(int)\n",
    "#df['LossGain'] = np.where(df['Returns'] >= 0, 'Gain', 'Loss')"
   ]
  },
  {
   "cell_type": "markdown",
   "metadata": {},
   "source": [
    "## Create additional feature variables "
   ]
  },
  {
   "cell_type": "code",
   "execution_count": 20,
   "metadata": {},
   "outputs": [],
   "source": [
    "# def wwma(values, n):\n",
    "#     \"\"\"Source: Investopedia - exponential weighted (EW) functions\"\"\"\n",
    "#     return values.ewm(alpha=1/n, adjust=False).mean()\n",
    "\n",
    "# def atr(df, n=14):\n",
    "#     \"\"\"This function calculate ATR\n",
    "#     Average True Range (ATR) is the average of true ranges over the specified period.\n",
    "#     ATR measures volatility, taking into account any gaps in the price movement. \n",
    "#     Typically, the ATR calculation is based on 14 periods, which can be intraday, \n",
    "#     daily, weekly, or monthly.\n",
    "#     \"\"\"\n",
    "#     data = df.copy()\n",
    "#     high = data[\"High\"]\n",
    "#     low = data[\"Low\"]\n",
    "#     close = data[\"Close\"]\n",
    "#     data['tr0'] = abs(high - low)\n",
    "#     data['tr1'] = abs(high - close.shift())\n",
    "#     data['tr2'] = abs(low - close.shift())\n",
    "#     tr = data[['tr0', 'tr1', 'tr2']].max(axis=1)\n",
    "#     # return the dfmini, not the whole dataset, it will take years to load\n",
    "#     atr = wwma(tr, n)\n",
    "#     return atr"
   ]
  },
  {
   "cell_type": "code",
   "execution_count": 21,
   "metadata": {},
   "outputs": [],
   "source": [
    "# # loop through the ticker to calculate ATR value\n",
    "# data = []\n",
    "# for ticker in tickers:\n",
    "#     ATR = atr(df.groupby('Symbol').get_group(ticker), n=14)\n",
    "#     data.append(ATR)\n",
    "# df[\"ATR\"] = pd.concat(data)"
   ]
  },
  {
   "cell_type": "code",
   "execution_count": 240,
   "metadata": {},
   "outputs": [],
   "source": [
    "# # loop through the ticker to calculate the 10 days returns\n",
    "# data = []\n",
    "# for ticker in tickers:\n",
    "#     dayX10_returns = df.groupby('Symbol').get_group(ticker)[\"Close\"].pct_change(10)*100\n",
    "#     data.append(dayX10_returns)\n",
    "# df[\"Returns_Percent\"] = pd.concat(data)"
   ]
  },
  {
   "cell_type": "code",
   "execution_count": 22,
   "metadata": {},
   "outputs": [],
   "source": [
    "# # loop through the ticker to calculate the 10 days returns\n",
    "# data = []\n",
    "# for ticker in tickers:\n",
    "#     dayX10_returns = df.groupby('Symbol').get_group(ticker)[\"Close\"].pct_change(10)\n",
    "#     data.append(dayX10_returns)\n",
    "# df[\"Returns\"] = pd.concat(data)"
   ]
  },
  {
   "cell_type": "code",
   "execution_count": 23,
   "metadata": {},
   "outputs": [],
   "source": [
    "# # loop through the ticker to calculate the daily range\n",
    "# data = []\n",
    "# for ticker in tickers:\n",
    "#     daily_range = df.groupby('Symbol').get_group(ticker)[\"High\"]-df.groupby('Symbol').get_group(ticker)[\"Low\"]\n",
    "#     data.append(daily_range)\n",
    "# df[\"Daily_Range\"] = pd.concat(data)\n"
   ]
  },
  {
   "cell_type": "code",
   "execution_count": 24,
   "metadata": {},
   "outputs": [],
   "source": [
    "# df.groupby('Symbol').get_group('CL=F')['ATR'].plot()"
   ]
  },
  {
   "cell_type": "code",
   "execution_count": 244,
   "metadata": {},
   "outputs": [],
   "source": [
    "# run once to store the dataset and comment out yfinance to avoid repeat pulling data from API\n",
    "# df.to_csv('PrimeDataSet2021-06-18.csv', index = False)"
   ]
  },
  {
   "cell_type": "markdown",
   "metadata": {},
   "source": [
    "## **Important Note: All Analysis should start from here..."
   ]
  },
  {
   "cell_type": "markdown",
   "metadata": {},
   "source": [
    "## Hypothesis 1: Cryptocurrency Market Trends Mirror Traditional Markets. \n",
    "\n",
    "Our hypothesis 1, which is our primary hypothesis for our exploratory analysis is that the crypto market mirrors the behavior of traditional markets, specifically NASDAQ and the NYSE. In the following section we set out to find evidence in support of and against our hypothesis to ascertain what is most probable.\n"
   ]
  },
  {
   "cell_type": "code",
   "execution_count": 26,
   "metadata": {},
   "outputs": [],
   "source": [
    "df = pd.read_csv('PrimeDataSet2021-06-18.csv')"
   ]
  },
  {
   "cell_type": "code",
   "execution_count": 122,
   "metadata": {},
   "outputs": [
    {
     "data": {
      "text/html": [
       "\n",
       "<div id=\"altair-viz-1c330613e85b4d4faa6ac5c02bcf8e37\"></div>\n",
       "<script type=\"text/javascript\">\n",
       "  (function(spec, embedOpt){\n",
       "    let outputDiv = document.currentScript.previousElementSibling;\n",
       "    if (outputDiv.id !== \"altair-viz-1c330613e85b4d4faa6ac5c02bcf8e37\") {\n",
       "      outputDiv = document.getElementById(\"altair-viz-1c330613e85b4d4faa6ac5c02bcf8e37\");\n",
       "    }\n",
       "    const paths = {\n",
       "      \"vega\": \"https://cdn.jsdelivr.net/npm//vega@5?noext\",\n",
       "      \"vega-lib\": \"https://cdn.jsdelivr.net/npm//vega-lib?noext\",\n",
       "      \"vega-lite\": \"https://cdn.jsdelivr.net/npm//vega-lite@4.8.1?noext\",\n",
       "      \"vega-embed\": \"https://cdn.jsdelivr.net/npm//vega-embed@6?noext\",\n",
       "    };\n",
       "\n",
       "    function loadScript(lib) {\n",
       "      return new Promise(function(resolve, reject) {\n",
       "        var s = document.createElement('script');\n",
       "        s.src = paths[lib];\n",
       "        s.async = true;\n",
       "        s.onload = () => resolve(paths[lib]);\n",
       "        s.onerror = () => reject(`Error loading script: ${paths[lib]}`);\n",
       "        document.getElementsByTagName(\"head\")[0].appendChild(s);\n",
       "      });\n",
       "    }\n",
       "\n",
       "    function showError(err) {\n",
       "      outputDiv.innerHTML = `<div class=\"error\" style=\"color:red;\">${err}</div>`;\n",
       "      throw err;\n",
       "    }\n",
       "\n",
       "    function displayChart(vegaEmbed) {\n",
       "      vegaEmbed(outputDiv, spec, embedOpt)\n",
       "        .catch(err => showError(`Javascript Error: ${err.message}<br>This usually means there's a typo in your chart specification. See the javascript console for the full traceback.`));\n",
       "    }\n",
       "\n",
       "    if(typeof define === \"function\" && define.amd) {\n",
       "      requirejs.config({paths});\n",
       "      require([\"vega-embed\"], displayChart, err => showError(`Error loading script: ${err.message}`));\n",
       "    } else if (typeof vegaEmbed === \"function\") {\n",
       "      displayChart(vegaEmbed);\n",
       "    } else {\n",
       "      loadScript(\"vega\")\n",
       "        .then(() => loadScript(\"vega-lite\"))\n",
       "        .then(() => loadScript(\"vega-embed\"))\n",
       "        .catch(showError)\n",
       "        .then(() => displayChart(vegaEmbed));\n",
       "    }\n",
       "  })({\"config\": {\"view\": {\"continuousWidth\": 400, \"continuousHeight\": 300}}, \"data\": {\"url\": \"http://localhost:19425/7cc5692b7665b28eb1bf3e6fe03cd46b.json\"}, \"mark\": \"line\", \"encoding\": {\"color\": {\"type\": \"nominal\", \"field\": \"Symbol\"}, \"tooltip\": [{\"type\": \"nominal\", \"field\": \"Symbol\"}, {\"type\": \"quantitative\", \"field\": \"Close\"}], \"x\": {\"type\": \"temporal\", \"field\": \"Date\"}, \"y\": {\"type\": \"quantitative\", \"field\": \"Close\"}}, \"title\": \"First View: BTC Price Trend Comparison with Other Assets\", \"width\": 700, \"$schema\": \"https://vega.github.io/schema/vega-lite/v4.8.1.json\"}, {\"mode\": \"vega-lite\"});\n",
       "</script>"
      ],
      "text/plain": [
       "alt.Chart(...)"
      ]
     },
     "execution_count": 122,
     "metadata": {},
     "output_type": "execute_result"
    }
   ],
   "source": [
    "# small_list = ['BTC-USD', 'ETH-USD', 'MSTR', 'NVDA', 'PYPL', 'SQ', 'TSLA']\n",
    "# plot_range = 1000\n",
    "# y_range_max = round(df[df.Symbol == 'BTC-USD']['Close'].tail(plot_range).max(),0) + 1000\n",
    "# y_range_min = round(df[df.Symbol == 'BTC-USD']['Close'].tail(plot_range).min(),0) - 1000\n",
    "\n",
    "pchart = alt.Chart(df[df.Symbol.isin(small_list)]).mark_line().encode(\n",
    "    x = alt.X('Date:T'),\n",
    "    y = alt.Y('Close:Q'),\n",
    "    color = 'Symbol:N',\n",
    "    tooltip = ['Symbol', 'Close']\n",
    ").properties(width = 700, title='First View: BTC Price Trend Comparison with Other Assets')\n",
    "\n",
    " \n",
    "pchart       \n",
    "   \n",
    "   "
   ]
  },
  {
   "cell_type": "code",
   "execution_count": 115,
   "metadata": {},
   "outputs": [
    {
     "data": {
      "text/html": [
       "\n",
       "<div id=\"altair-viz-16e19c9529df45fea9926d3fb9c21a4a\"></div>\n",
       "<script type=\"text/javascript\">\n",
       "  (function(spec, embedOpt){\n",
       "    let outputDiv = document.currentScript.previousElementSibling;\n",
       "    if (outputDiv.id !== \"altair-viz-16e19c9529df45fea9926d3fb9c21a4a\") {\n",
       "      outputDiv = document.getElementById(\"altair-viz-16e19c9529df45fea9926d3fb9c21a4a\");\n",
       "    }\n",
       "    const paths = {\n",
       "      \"vega\": \"https://cdn.jsdelivr.net/npm//vega@5?noext\",\n",
       "      \"vega-lib\": \"https://cdn.jsdelivr.net/npm//vega-lib?noext\",\n",
       "      \"vega-lite\": \"https://cdn.jsdelivr.net/npm//vega-lite@4.8.1?noext\",\n",
       "      \"vega-embed\": \"https://cdn.jsdelivr.net/npm//vega-embed@6?noext\",\n",
       "    };\n",
       "\n",
       "    function loadScript(lib) {\n",
       "      return new Promise(function(resolve, reject) {\n",
       "        var s = document.createElement('script');\n",
       "        s.src = paths[lib];\n",
       "        s.async = true;\n",
       "        s.onload = () => resolve(paths[lib]);\n",
       "        s.onerror = () => reject(`Error loading script: ${paths[lib]}`);\n",
       "        document.getElementsByTagName(\"head\")[0].appendChild(s);\n",
       "      });\n",
       "    }\n",
       "\n",
       "    function showError(err) {\n",
       "      outputDiv.innerHTML = `<div class=\"error\" style=\"color:red;\">${err}</div>`;\n",
       "      throw err;\n",
       "    }\n",
       "\n",
       "    function displayChart(vegaEmbed) {\n",
       "      vegaEmbed(outputDiv, spec, embedOpt)\n",
       "        .catch(err => showError(`Javascript Error: ${err.message}<br>This usually means there's a typo in your chart specification. See the javascript console for the full traceback.`));\n",
       "    }\n",
       "\n",
       "    if(typeof define === \"function\" && define.amd) {\n",
       "      requirejs.config({paths});\n",
       "      require([\"vega-embed\"], displayChart, err => showError(`Error loading script: ${err.message}`));\n",
       "    } else if (typeof vegaEmbed === \"function\") {\n",
       "      displayChart(vegaEmbed);\n",
       "    } else {\n",
       "      loadScript(\"vega\")\n",
       "        .then(() => loadScript(\"vega-lite\"))\n",
       "        .then(() => loadScript(\"vega-embed\"))\n",
       "        .catch(showError)\n",
       "        .then(() => displayChart(vegaEmbed));\n",
       "    }\n",
       "  })({\"config\": {\"view\": {\"continuousWidth\": 400, \"continuousHeight\": 300}}, \"data\": {\"url\": \"http://localhost:19425/afc65a57498f7688842a318b584cceec.json\"}, \"mark\": \"line\", \"encoding\": {\"color\": {\"type\": \"nominal\", \"field\": \"Symbol\"}, \"tooltip\": [{\"type\": \"nominal\", \"field\": \"Symbol\"}, {\"type\": \"quantitative\", \"field\": \"Close\"}], \"x\": {\"type\": \"temporal\", \"field\": \"Date\"}, \"y\": {\"type\": \"quantitative\", \"field\": \"Close\"}}, \"title\": \"BTC Price Trend Comparison with Other Assets\", \"width\": 700, \"$schema\": \"https://vega.github.io/schema/vega-lite/v4.8.1.json\"}, {\"mode\": \"vega-lite\"});\n",
       "</script>"
      ],
      "text/plain": [
       "alt.Chart(...)"
      ]
     },
     "execution_count": 115,
     "metadata": {},
     "output_type": "execute_result"
    }
   ],
   "source": [
    "pchart = alt.Chart(df).mark_line().encode(\n",
    "    x = alt.X('Date:T'),\n",
    "    y = alt.Y('Close:Q'),\n",
    "    color = 'Symbol:N',\n",
    "    tooltip = ['Symbol', 'Close']\n",
    ").properties(width = 700, title='BTC Price Trend Comparison with Other Assets')\n",
    "\n",
    " \n",
    "pchart    "
   ]
  },
  {
   "cell_type": "markdown",
   "metadata": {},
   "source": [
    "To escertain whether Bitcoin follows the traditional market trend, we first examine its overall trend line. This is the first chart to show that Bitcoin line chart is very similar to the traditional stock and other commodity asset, it has a clear long term and short term fluctuation pattern. In the medium term, the technical line is strongly supported by 50-day moving average. There is a 50% correction in April 2021, where the trend line drops below 200-day moving average for a brief period and it bounces back above 200-day line. "
   ]
  },
  {
   "cell_type": "code",
   "execution_count": 28,
   "metadata": {},
   "outputs": [],
   "source": [
    "plot_range = 1000"
   ]
  },
  {
   "cell_type": "code",
   "execution_count": 29,
   "metadata": {},
   "outputs": [],
   "source": [
    "y_range_max = round(df[df.Symbol == 'BTC-USD']['Close'].tail(plot_range).max(),0) + 1000\n",
    "y_range_min = round(df[df.Symbol == 'BTC-USD']['Close'].tail(plot_range).min(),0) - 1000\n"
   ]
  },
  {
   "cell_type": "code",
   "execution_count": 30,
   "metadata": {},
   "outputs": [],
   "source": [
    "Mchart = alt.Chart(df[df.Symbol == 'BTC-USD'].tail(plot_range)).mark_line().encode(\n",
    "    x = alt.X('Date:T'),\n",
    ")"
   ]
  },
  {
   "cell_type": "code",
   "execution_count": 31,
   "metadata": {},
   "outputs": [
    {
     "data": {
      "text/html": [
       "\n",
       "<div id=\"altair-viz-6302ef2374924c55b0bd220f1b79ccc8\"></div>\n",
       "<script type=\"text/javascript\">\n",
       "  (function(spec, embedOpt){\n",
       "    let outputDiv = document.currentScript.previousElementSibling;\n",
       "    if (outputDiv.id !== \"altair-viz-6302ef2374924c55b0bd220f1b79ccc8\") {\n",
       "      outputDiv = document.getElementById(\"altair-viz-6302ef2374924c55b0bd220f1b79ccc8\");\n",
       "    }\n",
       "    const paths = {\n",
       "      \"vega\": \"https://cdn.jsdelivr.net/npm//vega@5?noext\",\n",
       "      \"vega-lib\": \"https://cdn.jsdelivr.net/npm//vega-lib?noext\",\n",
       "      \"vega-lite\": \"https://cdn.jsdelivr.net/npm//vega-lite@4.8.1?noext\",\n",
       "      \"vega-embed\": \"https://cdn.jsdelivr.net/npm//vega-embed@6?noext\",\n",
       "    };\n",
       "\n",
       "    function loadScript(lib) {\n",
       "      return new Promise(function(resolve, reject) {\n",
       "        var s = document.createElement('script');\n",
       "        s.src = paths[lib];\n",
       "        s.async = true;\n",
       "        s.onload = () => resolve(paths[lib]);\n",
       "        s.onerror = () => reject(`Error loading script: ${paths[lib]}`);\n",
       "        document.getElementsByTagName(\"head\")[0].appendChild(s);\n",
       "      });\n",
       "    }\n",
       "\n",
       "    function showError(err) {\n",
       "      outputDiv.innerHTML = `<div class=\"error\" style=\"color:red;\">${err}</div>`;\n",
       "      throw err;\n",
       "    }\n",
       "\n",
       "    function displayChart(vegaEmbed) {\n",
       "      vegaEmbed(outputDiv, spec, embedOpt)\n",
       "        .catch(err => showError(`Javascript Error: ${err.message}<br>This usually means there's a typo in your chart specification. See the javascript console for the full traceback.`));\n",
       "    }\n",
       "\n",
       "    if(typeof define === \"function\" && define.amd) {\n",
       "      requirejs.config({paths});\n",
       "      require([\"vega-embed\"], displayChart, err => showError(`Error loading script: ${err.message}`));\n",
       "    } else if (typeof vegaEmbed === \"function\") {\n",
       "      displayChart(vegaEmbed);\n",
       "    } else {\n",
       "      loadScript(\"vega\")\n",
       "        .then(() => loadScript(\"vega-lite\"))\n",
       "        .then(() => loadScript(\"vega-embed\"))\n",
       "        .catch(showError)\n",
       "        .then(() => displayChart(vegaEmbed));\n",
       "    }\n",
       "  })({\"config\": {\"view\": {\"continuousWidth\": 400, \"continuousHeight\": 300}}, \"layer\": [{\"mark\": {\"type\": \"line\", \"color\": \"lightblue\"}, \"encoding\": {\"x\": {\"type\": \"temporal\", \"field\": \"Date\"}, \"y\": {\"type\": \"quantitative\", \"field\": \"Close\", \"scale\": {\"clamp\": true, \"domain\": [2237.0, 64503.0]}, \"title\": \"Price (USD)\"}}}, {\"mark\": {\"type\": \"line\", \"color\": \"green\"}, \"encoding\": {\"x\": {\"type\": \"temporal\", \"field\": \"Date\"}, \"y\": {\"type\": \"quantitative\", \"field\": \"MA50\", \"scale\": {\"clamp\": true, \"domain\": [2237.0, 64503.0]}}}}, {\"mark\": {\"type\": \"line\", \"color\": \"#fdbb84\"}, \"encoding\": {\"x\": {\"type\": \"temporal\", \"field\": \"Date\"}, \"y\": {\"type\": \"quantitative\", \"field\": \"MA100\", \"scale\": {\"clamp\": true, \"domain\": [2237.0, 64503.0]}}}}, {\"mark\": {\"type\": \"line\", \"color\": \"#e34a33\"}, \"encoding\": {\"x\": {\"type\": \"temporal\", \"field\": \"Date\"}, \"y\": {\"type\": \"quantitative\", \"field\": \"MA200\", \"scale\": {\"clamp\": true, \"domain\": [2237.0, 64503.0]}}}}], \"data\": {\"url\": \"http://localhost:19425/e2d5e50cb126dba2c0fcc21401a8ad1f.json\"}, \"title\": \"BTC Close Price Vs Moving Average (50-Day, 100-Day, 200-Day)\", \"width\": 700, \"$schema\": \"https://vega.github.io/schema/vega-lite/v4.8.1.json\"}, {\"mode\": \"vega-lite\"});\n",
       "</script>"
      ],
      "text/plain": [
       "alt.LayerChart(...)"
      ]
     },
     "execution_count": 31,
     "metadata": {},
     "output_type": "execute_result"
    }
   ],
   "source": [
    "layer = alt.layer(\n",
    "    Mchart.mark_line(color='lightblue').encode(alt.Y('Close:Q', scale = alt.Scale(domain=[y_range_min,y_range_max],clamp=True), title = 'Price (USD)')),\n",
    "    Mchart.mark_line(color='green').encode(alt.Y('MA50:Q', scale = alt.Scale(domain=[y_range_min,y_range_max], clamp=True))),\n",
    "    Mchart.mark_line(color='#fdbb84').encode(alt.Y('MA100:Q', scale = alt.Scale(domain=[y_range_min,y_range_max], clamp=True))),\n",
    "    Mchart.mark_line(color='#e34a33').encode(alt.Y('MA200:Q', scale = alt.Scale(domain=[y_range_min,y_range_max], clamp=True))),\n",
    ").properties(title='BTC Close Price Vs Moving Average (50-Day, 100-Day, 200-Day)', width = 700)\n",
    "\n",
    "layer"
   ]
  },
  {
   "cell_type": "markdown",
   "metadata": {},
   "source": [
    "In this chart, we plot the Bitcoin against its own ATR value to gauge how volatile the bitcoin overall market is. It is very clear that Bitcoin is not only extremely volatile but also getting more volatile in the recent months. The orange region represents the loss and blue represents gain. So Bitcoin overall exihibits the characteristics of the money market, it is volatile and has a clear trading pattern for risk purchase and hedging."
   ]
  },
  {
   "cell_type": "code",
   "execution_count": 217,
   "metadata": {},
   "outputs": [],
   "source": [
    "interval = alt.selection_interval()\n",
    "\n",
    "pchart = alt.Chart(df[df.Symbol == 'BTC-USD'].tail(plot_range)).mark_line().encode(\n",
    "    x = alt.X('Date:T'),\n",
    "    y = alt.Y('Close:Q', scale = alt.Scale(domain=[y_range_min,y_range_max])),\n",
    "    #tooltip = alt.Tooltip('Close', title = 'Close')\n",
    ").properties(width = 700, title='Close Price Trend').add_selection(interval)\n",
    "\n"
   ]
  },
  {
   "cell_type": "code",
   "execution_count": null,
   "metadata": {},
   "outputs": [],
   "source": [
    "#     color = alt.condition(\n",
    "#         alt.datum.Returns > 0,\n",
    "#         alt.value('steelblue'),  \n",
    "#         alt.value('orange')   # low return seems correlates more with high volatility, we should study this."
   ]
  },
  {
   "cell_type": "code",
   "execution_count": 230,
   "metadata": {},
   "outputs": [],
   "source": [
    "cchart = alt.Chart(df[df.Symbol == 'BTC-USD']).mark_bar().encode(\n",
    "    x = alt.X('Date:T'),\n",
    "    y = alt.Y('ATR:Q'),\n",
    "    tooltip = ['Returns'],\n",
    "    color = alt.Color('LossGain:N', legend=alt.Legend(title = 'Returns'))\n",
    ").properties(title = 'ATR Trend by Returns (By Returns)', width = 700).transform_filter(interval)\n"
   ]
  },
  {
   "cell_type": "code",
   "execution_count": 231,
   "metadata": {},
   "outputs": [
    {
     "data": {
      "text/html": [
       "\n",
       "<div id=\"altair-viz-a26767f1aa9145b9ab24812d84379cdc\"></div>\n",
       "<script type=\"text/javascript\">\n",
       "  (function(spec, embedOpt){\n",
       "    let outputDiv = document.currentScript.previousElementSibling;\n",
       "    if (outputDiv.id !== \"altair-viz-a26767f1aa9145b9ab24812d84379cdc\") {\n",
       "      outputDiv = document.getElementById(\"altair-viz-a26767f1aa9145b9ab24812d84379cdc\");\n",
       "    }\n",
       "    const paths = {\n",
       "      \"vega\": \"https://cdn.jsdelivr.net/npm//vega@5?noext\",\n",
       "      \"vega-lib\": \"https://cdn.jsdelivr.net/npm//vega-lib?noext\",\n",
       "      \"vega-lite\": \"https://cdn.jsdelivr.net/npm//vega-lite@4.8.1?noext\",\n",
       "      \"vega-embed\": \"https://cdn.jsdelivr.net/npm//vega-embed@6?noext\",\n",
       "    };\n",
       "\n",
       "    function loadScript(lib) {\n",
       "      return new Promise(function(resolve, reject) {\n",
       "        var s = document.createElement('script');\n",
       "        s.src = paths[lib];\n",
       "        s.async = true;\n",
       "        s.onload = () => resolve(paths[lib]);\n",
       "        s.onerror = () => reject(`Error loading script: ${paths[lib]}`);\n",
       "        document.getElementsByTagName(\"head\")[0].appendChild(s);\n",
       "      });\n",
       "    }\n",
       "\n",
       "    function showError(err) {\n",
       "      outputDiv.innerHTML = `<div class=\"error\" style=\"color:red;\">${err}</div>`;\n",
       "      throw err;\n",
       "    }\n",
       "\n",
       "    function displayChart(vegaEmbed) {\n",
       "      vegaEmbed(outputDiv, spec, embedOpt)\n",
       "        .catch(err => showError(`Javascript Error: ${err.message}<br>This usually means there's a typo in your chart specification. See the javascript console for the full traceback.`));\n",
       "    }\n",
       "\n",
       "    if(typeof define === \"function\" && define.amd) {\n",
       "      requirejs.config({paths});\n",
       "      require([\"vega-embed\"], displayChart, err => showError(`Error loading script: ${err.message}`));\n",
       "    } else if (typeof vegaEmbed === \"function\") {\n",
       "      displayChart(vegaEmbed);\n",
       "    } else {\n",
       "      loadScript(\"vega\")\n",
       "        .then(() => loadScript(\"vega-lite\"))\n",
       "        .then(() => loadScript(\"vega-embed\"))\n",
       "        .catch(showError)\n",
       "        .then(() => displayChart(vegaEmbed));\n",
       "    }\n",
       "  })({\"config\": {\"view\": {\"continuousWidth\": 400, \"continuousHeight\": 300}}, \"vconcat\": [{\"data\": {\"url\": \"http://localhost:19425/59cf2fbe32f582ea2a50a6b888499b34.json\"}, \"mark\": \"line\", \"encoding\": {\"x\": {\"type\": \"temporal\", \"field\": \"Date\"}, \"y\": {\"type\": \"quantitative\", \"field\": \"Close\", \"scale\": {\"domain\": [2237.0, 64503.0]}}}, \"selection\": {\"selector015\": {\"type\": \"interval\"}}, \"title\": \"Close Price Trend\", \"width\": 700}, {\"data\": {\"url\": \"http://localhost:19425/ddb3751ddd9e552590c5145cce536d80.json\"}, \"mark\": \"bar\", \"encoding\": {\"color\": {\"type\": \"nominal\", \"field\": \"LossGain\", \"legend\": {\"title\": \"Returns\"}}, \"tooltip\": [{\"type\": \"quantitative\", \"field\": \"Returns\"}], \"x\": {\"type\": \"temporal\", \"field\": \"Date\"}, \"y\": {\"type\": \"quantitative\", \"field\": \"ATR\"}}, \"title\": \"ATR Trend by Returns (By Returns)\", \"transform\": [{\"filter\": {\"selection\": \"selector015\"}}], \"width\": 700}], \"$schema\": \"https://vega.github.io/schema/vega-lite/v4.8.1.json\"}, {\"mode\": \"vega-lite\"});\n",
       "</script>"
      ],
      "text/plain": [
       "alt.VConcatChart(...)"
      ]
     },
     "execution_count": 231,
     "metadata": {},
     "output_type": "execute_result"
    }
   ],
   "source": [
    "pchart & cchart"
   ]
  },
  {
   "cell_type": "code",
   "execution_count": null,
   "metadata": {},
   "outputs": [],
   "source": [
    "selection = alt.selection_multi(fields=['series'], bind='legend')\n",
    "\n",
    "alt.Chart(source).mark_area().encode(\n",
    "    alt.X('Date:T', axis=alt.Axis(domain=False, format='%Y', tickSize=0)),\n",
    "    alt.Y('Close:Q', stack='center', axis=None),\n",
    "    alt.Color('series:N', scale=alt.Scale(scheme='category20b')),\n",
    "    opacity=alt.condition(selection, alt.value(1), alt.value(0.2))\n",
    ").add_selection(\n",
    "    selection\n",
    ")"
   ]
  },
  {
   "cell_type": "code",
   "execution_count": null,
   "metadata": {},
   "outputs": [],
   "source": []
  },
  {
   "cell_type": "code",
   "execution_count": null,
   "metadata": {},
   "outputs": [],
   "source": []
  },
  {
   "cell_type": "markdown",
   "metadata": {},
   "source": [
    "On this chart, we compare Bitcoin with other assets such as stock, commodity and ETH to investigate whether it does mirror the overall market movement. \n"
   ]
  },
  {
   "cell_type": "code",
   "execution_count": 35,
   "metadata": {},
   "outputs": [
    {
     "data": {
      "text/plain": [
       "array(['AAPL', 'BTC-USD', 'CL=F', 'ETH-USD', 'GC=F', 'JPM', 'MSFT',\n",
       "       'MSTR', 'NVDA', 'PYPL', 'SQ', 'TSLA', '^DJI', '^GSPC', '^IXIC'],\n",
       "      dtype=object)"
      ]
     },
     "execution_count": 35,
     "metadata": {},
     "output_type": "execute_result"
    }
   ],
   "source": [
    "df.Symbol.unique()"
   ]
  },
  {
   "cell_type": "code",
   "execution_count": 36,
   "metadata": {},
   "outputs": [],
   "source": [
    "exposure_list = ['BTC-USD', 'CL\\=F', 'ETH-USD', 'GC\\=F', 'JPM',\n",
    "       'MSTR', 'NVDA', 'PYPL', 'SQ', 'TSLA']"
   ]
  },
  {
   "cell_type": "code",
   "execution_count": 37,
   "metadata": {},
   "outputs": [],
   "source": [
    "non_exposure_list = ['AAPL', 'BTC-USD', 'ETH-USD', 'MSFT', '^DJI', '^GSPC', '^IXIC']"
   ]
  },
  {
   "cell_type": "code",
   "execution_count": 38,
   "metadata": {},
   "outputs": [],
   "source": [
    "exchart = alt.Chart(df[df.Symbol.isin(exposure_list)]).mark_line().encode(\n",
    "    x = alt.X('Date:T'),\n",
    "    y = alt.Y('Close:Q', scale = alt.Scale(type='log'), title = 'Close Price (USD)'),\n",
    "    color = 'Symbol:N',\n",
    "    tooltip = ['Symbol', 'Close']\n",
    ").properties(width = 700, title='BTC-USD Price VS Exposure Assets')\n",
    "\n",
    "  "
   ]
  },
  {
   "cell_type": "code",
   "execution_count": 39,
   "metadata": {},
   "outputs": [],
   "source": [
    "zone = pd.DataFrame([\n",
    "    {\n",
    "        \"start\": \"2020-02-15\",\n",
    "        \"end\": \"2020-03-16\",\n",
    "        \"event\": \"Market-Dip\"\n",
    "    },\n",
    "    \n",
    "])"
   ]
  },
  {
   "cell_type": "code",
   "execution_count": 40,
   "metadata": {},
   "outputs": [],
   "source": [
    "ruler = alt.Chart(zone).mark_rule(\n",
    "    color=\"lightred\",\n",
    "    strokeWidth=40,\n",
    "    opacity = 0.8\n",
    ").encode(\n",
    "    x= alt.X('start:T', title = 'Date'),\n",
    "    #x2 = alt.X2('end:T'),\n",
    ").transform_filter(alt.datum.event == \"Market-Dip\")"
   ]
  },
  {
   "cell_type": "markdown",
   "metadata": {},
   "source": [
    "### What's informative about this view: \n",
    "\n",
    "In this view you can see a few major index funds, stocks and alt coins compared to the price of BTC. It can be observed that there might be some correlation between BTC and traditional markets. You can see that when DJI takes a dip in Feb 2020 BTC does as well. These rough correlations can be seen in a few spots, but are not abundantly clear. It seems like BTC correlates with the market in the last few months, Bitcoin should be an uncorrelated asset. We also compared the Bitcoin with two groups of assets. One is having high exposure to Bitcoin market and second group has known exposure. The charts can not make any conclusive observation unless we zoom into specific period.\n"
   ]
  },
  {
   "cell_type": "code",
   "execution_count": 41,
   "metadata": {},
   "outputs": [
    {
     "data": {
      "text/html": [
       "\n",
       "<div id=\"altair-viz-005fa1a1d2af4257bfaf0c7ed31a89cd\"></div>\n",
       "<script type=\"text/javascript\">\n",
       "  (function(spec, embedOpt){\n",
       "    let outputDiv = document.currentScript.previousElementSibling;\n",
       "    if (outputDiv.id !== \"altair-viz-005fa1a1d2af4257bfaf0c7ed31a89cd\") {\n",
       "      outputDiv = document.getElementById(\"altair-viz-005fa1a1d2af4257bfaf0c7ed31a89cd\");\n",
       "    }\n",
       "    const paths = {\n",
       "      \"vega\": \"https://cdn.jsdelivr.net/npm//vega@5?noext\",\n",
       "      \"vega-lib\": \"https://cdn.jsdelivr.net/npm//vega-lib?noext\",\n",
       "      \"vega-lite\": \"https://cdn.jsdelivr.net/npm//vega-lite@4.8.1?noext\",\n",
       "      \"vega-embed\": \"https://cdn.jsdelivr.net/npm//vega-embed@6?noext\",\n",
       "    };\n",
       "\n",
       "    function loadScript(lib) {\n",
       "      return new Promise(function(resolve, reject) {\n",
       "        var s = document.createElement('script');\n",
       "        s.src = paths[lib];\n",
       "        s.async = true;\n",
       "        s.onload = () => resolve(paths[lib]);\n",
       "        s.onerror = () => reject(`Error loading script: ${paths[lib]}`);\n",
       "        document.getElementsByTagName(\"head\")[0].appendChild(s);\n",
       "      });\n",
       "    }\n",
       "\n",
       "    function showError(err) {\n",
       "      outputDiv.innerHTML = `<div class=\"error\" style=\"color:red;\">${err}</div>`;\n",
       "      throw err;\n",
       "    }\n",
       "\n",
       "    function displayChart(vegaEmbed) {\n",
       "      vegaEmbed(outputDiv, spec, embedOpt)\n",
       "        .catch(err => showError(`Javascript Error: ${err.message}<br>This usually means there's a typo in your chart specification. See the javascript console for the full traceback.`));\n",
       "    }\n",
       "\n",
       "    if(typeof define === \"function\" && define.amd) {\n",
       "      requirejs.config({paths});\n",
       "      require([\"vega-embed\"], displayChart, err => showError(`Error loading script: ${err.message}`));\n",
       "    } else if (typeof vegaEmbed === \"function\") {\n",
       "      displayChart(vegaEmbed);\n",
       "    } else {\n",
       "      loadScript(\"vega\")\n",
       "        .then(() => loadScript(\"vega-lite\"))\n",
       "        .then(() => loadScript(\"vega-embed\"))\n",
       "        .catch(showError)\n",
       "        .then(() => displayChart(vegaEmbed));\n",
       "    }\n",
       "  })({\"config\": {\"view\": {\"continuousWidth\": 400, \"continuousHeight\": 300}}, \"layer\": [{\"data\": {\"url\": \"http://localhost:19425/9eb43a8006427ebbdea8e3ccb807e61c.json\"}, \"mark\": {\"type\": \"rule\", \"color\": \"lightred\", \"opacity\": 0.8, \"strokeWidth\": 40}, \"encoding\": {\"x\": {\"type\": \"temporal\", \"field\": \"start\", \"title\": \"Date\"}}, \"transform\": [{\"filter\": \"(datum.event === 'Market-Dip')\"}]}, {\"data\": {\"url\": \"http://localhost:19425/754243435c542bdfcaa47bfee1d17838.json\"}, \"mark\": \"line\", \"encoding\": {\"color\": {\"type\": \"nominal\", \"field\": \"Symbol\"}, \"tooltip\": [{\"type\": \"nominal\", \"field\": \"Symbol\"}, {\"type\": \"quantitative\", \"field\": \"Close\"}], \"x\": {\"type\": \"temporal\", \"field\": \"Date\"}, \"y\": {\"type\": \"quantitative\", \"field\": \"Close\", \"scale\": {\"type\": \"log\"}, \"title\": \"Close Price (USD)\"}}, \"title\": \"BTC-USD Price VS Exposure Assets\", \"width\": 700}], \"$schema\": \"https://vega.github.io/schema/vega-lite/v4.8.1.json\"}, {\"mode\": \"vega-lite\"});\n",
       "</script>"
      ],
      "text/plain": [
       "alt.LayerChart(...)"
      ]
     },
     "execution_count": 41,
     "metadata": {},
     "output_type": "execute_result"
    }
   ],
   "source": [
    "ruler + exchart"
   ]
  },
  {
   "cell_type": "code",
   "execution_count": 42,
   "metadata": {},
   "outputs": [
    {
     "data": {
      "text/html": [
       "\n",
       "<div id=\"altair-viz-063f912a63c74414af492bf171914157\"></div>\n",
       "<script type=\"text/javascript\">\n",
       "  (function(spec, embedOpt){\n",
       "    let outputDiv = document.currentScript.previousElementSibling;\n",
       "    if (outputDiv.id !== \"altair-viz-063f912a63c74414af492bf171914157\") {\n",
       "      outputDiv = document.getElementById(\"altair-viz-063f912a63c74414af492bf171914157\");\n",
       "    }\n",
       "    const paths = {\n",
       "      \"vega\": \"https://cdn.jsdelivr.net/npm//vega@5?noext\",\n",
       "      \"vega-lib\": \"https://cdn.jsdelivr.net/npm//vega-lib?noext\",\n",
       "      \"vega-lite\": \"https://cdn.jsdelivr.net/npm//vega-lite@4.8.1?noext\",\n",
       "      \"vega-embed\": \"https://cdn.jsdelivr.net/npm//vega-embed@6?noext\",\n",
       "    };\n",
       "\n",
       "    function loadScript(lib) {\n",
       "      return new Promise(function(resolve, reject) {\n",
       "        var s = document.createElement('script');\n",
       "        s.src = paths[lib];\n",
       "        s.async = true;\n",
       "        s.onload = () => resolve(paths[lib]);\n",
       "        s.onerror = () => reject(`Error loading script: ${paths[lib]}`);\n",
       "        document.getElementsByTagName(\"head\")[0].appendChild(s);\n",
       "      });\n",
       "    }\n",
       "\n",
       "    function showError(err) {\n",
       "      outputDiv.innerHTML = `<div class=\"error\" style=\"color:red;\">${err}</div>`;\n",
       "      throw err;\n",
       "    }\n",
       "\n",
       "    function displayChart(vegaEmbed) {\n",
       "      vegaEmbed(outputDiv, spec, embedOpt)\n",
       "        .catch(err => showError(`Javascript Error: ${err.message}<br>This usually means there's a typo in your chart specification. See the javascript console for the full traceback.`));\n",
       "    }\n",
       "\n",
       "    if(typeof define === \"function\" && define.amd) {\n",
       "      requirejs.config({paths});\n",
       "      require([\"vega-embed\"], displayChart, err => showError(`Error loading script: ${err.message}`));\n",
       "    } else if (typeof vegaEmbed === \"function\") {\n",
       "      displayChart(vegaEmbed);\n",
       "    } else {\n",
       "      loadScript(\"vega\")\n",
       "        .then(() => loadScript(\"vega-lite\"))\n",
       "        .then(() => loadScript(\"vega-embed\"))\n",
       "        .catch(showError)\n",
       "        .then(() => displayChart(vegaEmbed));\n",
       "    }\n",
       "  })({\"config\": {\"view\": {\"continuousWidth\": 400, \"continuousHeight\": 300}}, \"data\": {\"url\": \"http://localhost:19425/a54e8f64179db4f4493ed3278fb402c1.json\"}, \"mark\": \"line\", \"encoding\": {\"color\": {\"type\": \"nominal\", \"field\": \"Symbol\"}, \"tooltip\": [{\"type\": \"nominal\", \"field\": \"Symbol\"}, {\"type\": \"quantitative\", \"field\": \"Close\"}], \"x\": {\"type\": \"temporal\", \"field\": \"Date\"}, \"y\": {\"type\": \"quantitative\", \"field\": \"Close\", \"scale\": {\"type\": \"log\"}, \"title\": \"Close Price (USD)\"}}, \"title\": \"BTC-USD Price VS Non-Exposure Assets\", \"width\": 700, \"$schema\": \"https://vega.github.io/schema/vega-lite/v4.8.1.json\"}, {\"mode\": \"vega-lite\"});\n",
       "</script>"
      ],
      "text/plain": [
       "alt.Chart(...)"
      ]
     },
     "execution_count": 42,
     "metadata": {},
     "output_type": "execute_result"
    }
   ],
   "source": [
    "alt.Chart(df[df.Symbol.isin(non_exposure_list)]).mark_line().encode(\n",
    "    x = alt.X('Date:T'),\n",
    "    y = alt.Y('Close:Q', scale = alt.Scale(type='log'), title = 'Close Price (USD)'),\n",
    "    color = 'Symbol:N',\n",
    "    tooltip = ['Symbol', 'Close']\n",
    ").properties(width = 700, title='BTC-USD Price VS Non-Exposure Assets')\n",
    "\n",
    "  "
   ]
  },
  {
   "cell_type": "markdown",
   "metadata": {},
   "source": [
    "### What could be improved about this view:  \n",
    "\n",
    "It is difficult to see any exact correlations between BTC and the others and most of the tickers are so low on the Y axis that any fluctuations in price can’t be seen. A daily returns plot could be an improvement because it will move all of the tickers on to a similar scale."
   ]
  },
  {
   "cell_type": "code",
   "execution_count": 43,
   "metadata": {},
   "outputs": [
    {
     "data": {
      "text/html": [
       "\n",
       "<div id=\"altair-viz-a4fd8b27be49425d836ed5f5e03fb468\"></div>\n",
       "<script type=\"text/javascript\">\n",
       "  (function(spec, embedOpt){\n",
       "    let outputDiv = document.currentScript.previousElementSibling;\n",
       "    if (outputDiv.id !== \"altair-viz-a4fd8b27be49425d836ed5f5e03fb468\") {\n",
       "      outputDiv = document.getElementById(\"altair-viz-a4fd8b27be49425d836ed5f5e03fb468\");\n",
       "    }\n",
       "    const paths = {\n",
       "      \"vega\": \"https://cdn.jsdelivr.net/npm//vega@5?noext\",\n",
       "      \"vega-lib\": \"https://cdn.jsdelivr.net/npm//vega-lib?noext\",\n",
       "      \"vega-lite\": \"https://cdn.jsdelivr.net/npm//vega-lite@4.8.1?noext\",\n",
       "      \"vega-embed\": \"https://cdn.jsdelivr.net/npm//vega-embed@6?noext\",\n",
       "    };\n",
       "\n",
       "    function loadScript(lib) {\n",
       "      return new Promise(function(resolve, reject) {\n",
       "        var s = document.createElement('script');\n",
       "        s.src = paths[lib];\n",
       "        s.async = true;\n",
       "        s.onload = () => resolve(paths[lib]);\n",
       "        s.onerror = () => reject(`Error loading script: ${paths[lib]}`);\n",
       "        document.getElementsByTagName(\"head\")[0].appendChild(s);\n",
       "      });\n",
       "    }\n",
       "\n",
       "    function showError(err) {\n",
       "      outputDiv.innerHTML = `<div class=\"error\" style=\"color:red;\">${err}</div>`;\n",
       "      throw err;\n",
       "    }\n",
       "\n",
       "    function displayChart(vegaEmbed) {\n",
       "      vegaEmbed(outputDiv, spec, embedOpt)\n",
       "        .catch(err => showError(`Javascript Error: ${err.message}<br>This usually means there's a typo in your chart specification. See the javascript console for the full traceback.`));\n",
       "    }\n",
       "\n",
       "    if(typeof define === \"function\" && define.amd) {\n",
       "      requirejs.config({paths});\n",
       "      require([\"vega-embed\"], displayChart, err => showError(`Error loading script: ${err.message}`));\n",
       "    } else if (typeof vegaEmbed === \"function\") {\n",
       "      displayChart(vegaEmbed);\n",
       "    } else {\n",
       "      loadScript(\"vega\")\n",
       "        .then(() => loadScript(\"vega-lite\"))\n",
       "        .then(() => loadScript(\"vega-embed\"))\n",
       "        .catch(showError)\n",
       "        .then(() => displayChart(vegaEmbed));\n",
       "    }\n",
       "  })({\"config\": {\"view\": {\"continuousWidth\": 400, \"continuousHeight\": 300}}, \"data\": {\"url\": \"http://localhost:19425/41b8bee72a1c15da0056533a310df72a.json\"}, \"mark\": \"bar\", \"encoding\": {\"color\": {\"type\": \"nominal\", \"field\": \"Symbol\"}, \"x\": {\"type\": \"temporal\", \"field\": \"Date\"}, \"y\": {\"type\": \"quantitative\", \"field\": \"Returns\"}}, \"title\": \"BTC and AAPL Returns by Date Overlaid\", \"width\": 700, \"$schema\": \"https://vega.github.io/schema/vega-lite/v4.8.1.json\"}, {\"mode\": \"vega-lite\"});\n",
       "</script>"
      ],
      "text/plain": [
       "alt.Chart(...)"
      ]
     },
     "execution_count": 43,
     "metadata": {},
     "output_type": "execute_result"
    }
   ],
   "source": [
    "alt.Chart(df[df.Symbol.isin(['BTC-USD','AAPL'])]).mark_bar().encode(\n",
    "    x = alt.X('Date:T'),\n",
    "    y = alt.Y('Returns:Q'),\n",
    "    color = 'Symbol:N',\n",
    ").properties(width = 700, title='BTC and AAPL Returns by Date Overlaid')\n"
   ]
  },
  {
   "cell_type": "markdown",
   "metadata": {},
   "source": [
    "From this chart, we could clearly see that both line aligned with each other when they are overlaid on the graph. From this overlaid chart, the bitcoin may have some degree of correlation with some of the stocks or assets. But we are not sure what is the significant level of this correlation."
   ]
  },
  {
   "cell_type": "code",
   "execution_count": 44,
   "metadata": {},
   "outputs": [
    {
     "data": {
      "text/html": [
       "\n",
       "<div id=\"altair-viz-f3d1c1d353af4424a83caac8728b23b5\"></div>\n",
       "<script type=\"text/javascript\">\n",
       "  (function(spec, embedOpt){\n",
       "    let outputDiv = document.currentScript.previousElementSibling;\n",
       "    if (outputDiv.id !== \"altair-viz-f3d1c1d353af4424a83caac8728b23b5\") {\n",
       "      outputDiv = document.getElementById(\"altair-viz-f3d1c1d353af4424a83caac8728b23b5\");\n",
       "    }\n",
       "    const paths = {\n",
       "      \"vega\": \"https://cdn.jsdelivr.net/npm//vega@5?noext\",\n",
       "      \"vega-lib\": \"https://cdn.jsdelivr.net/npm//vega-lib?noext\",\n",
       "      \"vega-lite\": \"https://cdn.jsdelivr.net/npm//vega-lite@4.8.1?noext\",\n",
       "      \"vega-embed\": \"https://cdn.jsdelivr.net/npm//vega-embed@6?noext\",\n",
       "    };\n",
       "\n",
       "    function loadScript(lib) {\n",
       "      return new Promise(function(resolve, reject) {\n",
       "        var s = document.createElement('script');\n",
       "        s.src = paths[lib];\n",
       "        s.async = true;\n",
       "        s.onload = () => resolve(paths[lib]);\n",
       "        s.onerror = () => reject(`Error loading script: ${paths[lib]}`);\n",
       "        document.getElementsByTagName(\"head\")[0].appendChild(s);\n",
       "      });\n",
       "    }\n",
       "\n",
       "    function showError(err) {\n",
       "      outputDiv.innerHTML = `<div class=\"error\" style=\"color:red;\">${err}</div>`;\n",
       "      throw err;\n",
       "    }\n",
       "\n",
       "    function displayChart(vegaEmbed) {\n",
       "      vegaEmbed(outputDiv, spec, embedOpt)\n",
       "        .catch(err => showError(`Javascript Error: ${err.message}<br>This usually means there's a typo in your chart specification. See the javascript console for the full traceback.`));\n",
       "    }\n",
       "\n",
       "    if(typeof define === \"function\" && define.amd) {\n",
       "      requirejs.config({paths});\n",
       "      require([\"vega-embed\"], displayChart, err => showError(`Error loading script: ${err.message}`));\n",
       "    } else if (typeof vegaEmbed === \"function\") {\n",
       "      displayChart(vegaEmbed);\n",
       "    } else {\n",
       "      loadScript(\"vega\")\n",
       "        .then(() => loadScript(\"vega-lite\"))\n",
       "        .then(() => loadScript(\"vega-embed\"))\n",
       "        .catch(showError)\n",
       "        .then(() => displayChart(vegaEmbed));\n",
       "    }\n",
       "  })({\"config\": {\"view\": {\"continuousWidth\": 400, \"continuousHeight\": 300}}, \"data\": {\"url\": \"http://localhost:19425/ba781611cc1a99e896521a5e415ddc82.json\"}, \"mark\": \"bar\", \"encoding\": {\"color\": {\"type\": \"nominal\", \"field\": \"Symbol\"}, \"x\": {\"type\": \"temporal\", \"field\": \"Date\"}, \"y\": {\"type\": \"quantitative\", \"field\": \"Returns\"}}, \"title\": \"BTC and MSTR Returns by Date Overlaid\", \"width\": 700, \"$schema\": \"https://vega.github.io/schema/vega-lite/v4.8.1.json\"}, {\"mode\": \"vega-lite\"});\n",
       "</script>"
      ],
      "text/plain": [
       "alt.Chart(...)"
      ]
     },
     "execution_count": 44,
     "metadata": {},
     "output_type": "execute_result"
    }
   ],
   "source": [
    "alt.Chart(df[df.Symbol.isin(['BTC-USD','MSTR'])]).mark_bar().encode(\n",
    "    x = alt.X('Date:T'),\n",
    "    y = alt.Y('Returns:Q'),\n",
    "    color = 'Symbol:N',\n",
    ").properties(width = 700, title='BTC and MSTR Returns by Date Overlaid')\n"
   ]
  },
  {
   "cell_type": "code",
   "execution_count": 45,
   "metadata": {},
   "outputs": [
    {
     "data": {
      "text/html": [
       "\n",
       "<div id=\"altair-viz-bcac779a84954f678e501ef59ac6fe2d\"></div>\n",
       "<script type=\"text/javascript\">\n",
       "  (function(spec, embedOpt){\n",
       "    let outputDiv = document.currentScript.previousElementSibling;\n",
       "    if (outputDiv.id !== \"altair-viz-bcac779a84954f678e501ef59ac6fe2d\") {\n",
       "      outputDiv = document.getElementById(\"altair-viz-bcac779a84954f678e501ef59ac6fe2d\");\n",
       "    }\n",
       "    const paths = {\n",
       "      \"vega\": \"https://cdn.jsdelivr.net/npm//vega@5?noext\",\n",
       "      \"vega-lib\": \"https://cdn.jsdelivr.net/npm//vega-lib?noext\",\n",
       "      \"vega-lite\": \"https://cdn.jsdelivr.net/npm//vega-lite@4.8.1?noext\",\n",
       "      \"vega-embed\": \"https://cdn.jsdelivr.net/npm//vega-embed@6?noext\",\n",
       "    };\n",
       "\n",
       "    function loadScript(lib) {\n",
       "      return new Promise(function(resolve, reject) {\n",
       "        var s = document.createElement('script');\n",
       "        s.src = paths[lib];\n",
       "        s.async = true;\n",
       "        s.onload = () => resolve(paths[lib]);\n",
       "        s.onerror = () => reject(`Error loading script: ${paths[lib]}`);\n",
       "        document.getElementsByTagName(\"head\")[0].appendChild(s);\n",
       "      });\n",
       "    }\n",
       "\n",
       "    function showError(err) {\n",
       "      outputDiv.innerHTML = `<div class=\"error\" style=\"color:red;\">${err}</div>`;\n",
       "      throw err;\n",
       "    }\n",
       "\n",
       "    function displayChart(vegaEmbed) {\n",
       "      vegaEmbed(outputDiv, spec, embedOpt)\n",
       "        .catch(err => showError(`Javascript Error: ${err.message}<br>This usually means there's a typo in your chart specification. See the javascript console for the full traceback.`));\n",
       "    }\n",
       "\n",
       "    if(typeof define === \"function\" && define.amd) {\n",
       "      requirejs.config({paths});\n",
       "      require([\"vega-embed\"], displayChart, err => showError(`Error loading script: ${err.message}`));\n",
       "    } else if (typeof vegaEmbed === \"function\") {\n",
       "      displayChart(vegaEmbed);\n",
       "    } else {\n",
       "      loadScript(\"vega\")\n",
       "        .then(() => loadScript(\"vega-lite\"))\n",
       "        .then(() => loadScript(\"vega-embed\"))\n",
       "        .catch(showError)\n",
       "        .then(() => displayChart(vegaEmbed));\n",
       "    }\n",
       "  })({\"config\": {\"view\": {\"continuousWidth\": 400, \"continuousHeight\": 300}}, \"data\": {\"url\": \"http://localhost:19425/8767b55ccb1a31965f911f94acb440d5.json\"}, \"mark\": \"bar\", \"encoding\": {\"color\": {\"type\": \"nominal\", \"field\": \"Symbol\"}, \"x\": {\"type\": \"temporal\", \"field\": \"Date\"}, \"y\": {\"type\": \"quantitative\", \"field\": \"Returns\"}}, \"title\": \"BTC and Dow Jone Index Returns\", \"width\": 700, \"$schema\": \"https://vega.github.io/schema/vega-lite/v4.8.1.json\"}, {\"mode\": \"vega-lite\"});\n",
       "</script>"
      ],
      "text/plain": [
       "alt.Chart(...)"
      ]
     },
     "execution_count": 45,
     "metadata": {},
     "output_type": "execute_result"
    }
   ],
   "source": [
    "alt.Chart(df[df.Symbol.isin(['BTC-USD','^DJI'])]).mark_bar().encode(\n",
    "    x = alt.X('Date:T'),\n",
    "    y = alt.Y('Returns:Q'),\n",
    "    color = 'Symbol:N',\n",
    ").properties(width = 700, title='BTC and Dow Jone Index Returns')\n"
   ]
  },
  {
   "cell_type": "code",
   "execution_count": 46,
   "metadata": {},
   "outputs": [
    {
     "data": {
      "text/html": [
       "\n",
       "<div id=\"altair-viz-8ade0e21d789409fbfe99b541e9626a3\"></div>\n",
       "<script type=\"text/javascript\">\n",
       "  (function(spec, embedOpt){\n",
       "    let outputDiv = document.currentScript.previousElementSibling;\n",
       "    if (outputDiv.id !== \"altair-viz-8ade0e21d789409fbfe99b541e9626a3\") {\n",
       "      outputDiv = document.getElementById(\"altair-viz-8ade0e21d789409fbfe99b541e9626a3\");\n",
       "    }\n",
       "    const paths = {\n",
       "      \"vega\": \"https://cdn.jsdelivr.net/npm//vega@5?noext\",\n",
       "      \"vega-lib\": \"https://cdn.jsdelivr.net/npm//vega-lib?noext\",\n",
       "      \"vega-lite\": \"https://cdn.jsdelivr.net/npm//vega-lite@4.8.1?noext\",\n",
       "      \"vega-embed\": \"https://cdn.jsdelivr.net/npm//vega-embed@6?noext\",\n",
       "    };\n",
       "\n",
       "    function loadScript(lib) {\n",
       "      return new Promise(function(resolve, reject) {\n",
       "        var s = document.createElement('script');\n",
       "        s.src = paths[lib];\n",
       "        s.async = true;\n",
       "        s.onload = () => resolve(paths[lib]);\n",
       "        s.onerror = () => reject(`Error loading script: ${paths[lib]}`);\n",
       "        document.getElementsByTagName(\"head\")[0].appendChild(s);\n",
       "      });\n",
       "    }\n",
       "\n",
       "    function showError(err) {\n",
       "      outputDiv.innerHTML = `<div class=\"error\" style=\"color:red;\">${err}</div>`;\n",
       "      throw err;\n",
       "    }\n",
       "\n",
       "    function displayChart(vegaEmbed) {\n",
       "      vegaEmbed(outputDiv, spec, embedOpt)\n",
       "        .catch(err => showError(`Javascript Error: ${err.message}<br>This usually means there's a typo in your chart specification. See the javascript console for the full traceback.`));\n",
       "    }\n",
       "\n",
       "    if(typeof define === \"function\" && define.amd) {\n",
       "      requirejs.config({paths});\n",
       "      require([\"vega-embed\"], displayChart, err => showError(`Error loading script: ${err.message}`));\n",
       "    } else if (typeof vegaEmbed === \"function\") {\n",
       "      displayChart(vegaEmbed);\n",
       "    } else {\n",
       "      loadScript(\"vega\")\n",
       "        .then(() => loadScript(\"vega-lite\"))\n",
       "        .then(() => loadScript(\"vega-embed\"))\n",
       "        .catch(showError)\n",
       "        .then(() => displayChart(vegaEmbed));\n",
       "    }\n",
       "  })({\"config\": {\"view\": {\"continuousWidth\": 400, \"continuousHeight\": 300}}, \"data\": {\"url\": \"http://localhost:19425/bae1faaced7dc89fc4a109e5b86b17a2.json\"}, \"mark\": \"bar\", \"encoding\": {\"color\": {\"type\": \"nominal\", \"field\": \"Symbol\"}, \"x\": {\"type\": \"temporal\", \"field\": \"Date\"}, \"y\": {\"type\": \"quantitative\", \"field\": \"Returns\"}}, \"title\": \"BTC and SP500 Index Returns\", \"width\": 700, \"$schema\": \"https://vega.github.io/schema/vega-lite/v4.8.1.json\"}, {\"mode\": \"vega-lite\"});\n",
       "</script>"
      ],
      "text/plain": [
       "alt.Chart(...)"
      ]
     },
     "execution_count": 46,
     "metadata": {},
     "output_type": "execute_result"
    }
   ],
   "source": [
    "alt.Chart(df[df.Symbol.isin(['BTC-USD','^GSPC'])]).mark_bar().encode(\n",
    "    x = alt.X('Date:T'),\n",
    "    y = alt.Y('Returns:Q'),\n",
    "    color = 'Symbol:N',\n",
    ").properties(width = 700, title='BTC and SP500 Index Returns')\n",
    "\n"
   ]
  },
  {
   "cell_type": "markdown",
   "metadata": {},
   "source": [
    "### What's informative about this view:\n",
    "This view shows the degree of daily range fluctuation of Bitcoin as compared to other assets. We notice that Bitcoin daily fluctuation is extremely high and no other asset has such a high variation in USD value within a day."
   ]
  },
  {
   "cell_type": "code",
   "execution_count": 47,
   "metadata": {},
   "outputs": [
    {
     "data": {
      "text/html": [
       "\n",
       "<div id=\"altair-viz-28164ca6a47b436fa5ba539cb41bd0c0\"></div>\n",
       "<script type=\"text/javascript\">\n",
       "  (function(spec, embedOpt){\n",
       "    let outputDiv = document.currentScript.previousElementSibling;\n",
       "    if (outputDiv.id !== \"altair-viz-28164ca6a47b436fa5ba539cb41bd0c0\") {\n",
       "      outputDiv = document.getElementById(\"altair-viz-28164ca6a47b436fa5ba539cb41bd0c0\");\n",
       "    }\n",
       "    const paths = {\n",
       "      \"vega\": \"https://cdn.jsdelivr.net/npm//vega@5?noext\",\n",
       "      \"vega-lib\": \"https://cdn.jsdelivr.net/npm//vega-lib?noext\",\n",
       "      \"vega-lite\": \"https://cdn.jsdelivr.net/npm//vega-lite@4.8.1?noext\",\n",
       "      \"vega-embed\": \"https://cdn.jsdelivr.net/npm//vega-embed@6?noext\",\n",
       "    };\n",
       "\n",
       "    function loadScript(lib) {\n",
       "      return new Promise(function(resolve, reject) {\n",
       "        var s = document.createElement('script');\n",
       "        s.src = paths[lib];\n",
       "        s.async = true;\n",
       "        s.onload = () => resolve(paths[lib]);\n",
       "        s.onerror = () => reject(`Error loading script: ${paths[lib]}`);\n",
       "        document.getElementsByTagName(\"head\")[0].appendChild(s);\n",
       "      });\n",
       "    }\n",
       "\n",
       "    function showError(err) {\n",
       "      outputDiv.innerHTML = `<div class=\"error\" style=\"color:red;\">${err}</div>`;\n",
       "      throw err;\n",
       "    }\n",
       "\n",
       "    function displayChart(vegaEmbed) {\n",
       "      vegaEmbed(outputDiv, spec, embedOpt)\n",
       "        .catch(err => showError(`Javascript Error: ${err.message}<br>This usually means there's a typo in your chart specification. See the javascript console for the full traceback.`));\n",
       "    }\n",
       "\n",
       "    if(typeof define === \"function\" && define.amd) {\n",
       "      requirejs.config({paths});\n",
       "      require([\"vega-embed\"], displayChart, err => showError(`Error loading script: ${err.message}`));\n",
       "    } else if (typeof vegaEmbed === \"function\") {\n",
       "      displayChart(vegaEmbed);\n",
       "    } else {\n",
       "      loadScript(\"vega\")\n",
       "        .then(() => loadScript(\"vega-lite\"))\n",
       "        .then(() => loadScript(\"vega-embed\"))\n",
       "        .catch(showError)\n",
       "        .then(() => displayChart(vegaEmbed));\n",
       "    }\n",
       "  })({\"config\": {\"view\": {\"continuousWidth\": 400, \"continuousHeight\": 300}}, \"data\": {\"url\": \"http://localhost:19425/afc65a57498f7688842a318b584cceec.json\"}, \"mark\": \"line\", \"encoding\": {\"color\": {\"type\": \"nominal\", \"field\": \"Symbol\"}, \"tooltip\": [{\"type\": \"quantitative\", \"field\": \"Close\"}, {\"type\": \"quantitative\", \"field\": \"Volume\"}], \"x\": {\"type\": \"temporal\", \"field\": \"Date\"}, \"y\": {\"type\": \"quantitative\", \"field\": \"Daily_Range\", \"title\": \"Price (USD)\"}}, \"title\": \"BTC Daily Range VS Other Assets Trend\", \"width\": 700, \"$schema\": \"https://vega.github.io/schema/vega-lite/v4.8.1.json\"}, {\"mode\": \"vega-lite\"});\n",
       "</script>"
      ],
      "text/plain": [
       "alt.Chart(...)"
      ]
     },
     "execution_count": 47,
     "metadata": {},
     "output_type": "execute_result"
    }
   ],
   "source": [
    "alt.Chart(df).mark_line().encode(\n",
    "    x = alt.X('Date:T'),\n",
    "    y = alt.Y('Daily_Range:Q', title = 'Price (USD)'),\n",
    "    color = 'Symbol:N',\n",
    "    tooltip = ['Close', 'Volume']\n",
    ").properties(width = 700, title='BTC Daily Range VS Other Assets Trend')\n"
   ]
  },
  {
   "cell_type": "markdown",
   "metadata": {},
   "source": [
    "### What could be improved about this view:\n",
    "To improve further, we use bar chart to show the breakdown of each asset as compared to Bitcoin. And now, we could clearly see that Bitcon could fluctuate as much as USD 12,000 just within a day. Bitcoin has high volality, but also higher return as compared to others. "
   ]
  },
  {
   "cell_type": "code",
   "execution_count": 48,
   "metadata": {},
   "outputs": [
    {
     "name": "stdout",
     "output_type": "stream",
     "text": [
      "['AAPL', 'BTC-USD', 'CL=F', 'ETH-USD', 'GC=F', 'JPM', 'MSFT', 'MSTR', 'NVDA', 'PYPL', 'SQ', 'TSLA', '^DJI', '^GSPC', '^IXIC']\n"
     ]
    }
   ],
   "source": [
    "print(list(df.Symbol.unique()))\n"
   ]
  },
  {
   "cell_type": "code",
   "execution_count": 49,
   "metadata": {},
   "outputs": [
    {
     "data": {
      "text/plain": [
       "Date             0\n",
       "Symbol           0\n",
       "Adj_Close        0\n",
       "Close            0\n",
       "High             0\n",
       "Low              0\n",
       "Open             0\n",
       "Volume           0\n",
       "MA50            49\n",
       "MA100           99\n",
       "MA200          199\n",
       "ATR              0\n",
       "Returns         10\n",
       "Daily_Range      0\n",
       "dtype: int64"
      ]
     },
     "execution_count": 49,
     "metadata": {},
     "output_type": "execute_result"
    }
   ],
   "source": [
    "df.groupby('Symbol').get_group('CL=F').isna().sum()"
   ]
  },
  {
   "cell_type": "code",
   "execution_count": 50,
   "metadata": {},
   "outputs": [
    {
     "data": {
      "text/html": [
       "\n",
       "<div id=\"altair-viz-b824be5b7cd0473a9725d05d186fd4b2\"></div>\n",
       "<script type=\"text/javascript\">\n",
       "  (function(spec, embedOpt){\n",
       "    let outputDiv = document.currentScript.previousElementSibling;\n",
       "    if (outputDiv.id !== \"altair-viz-b824be5b7cd0473a9725d05d186fd4b2\") {\n",
       "      outputDiv = document.getElementById(\"altair-viz-b824be5b7cd0473a9725d05d186fd4b2\");\n",
       "    }\n",
       "    const paths = {\n",
       "      \"vega\": \"https://cdn.jsdelivr.net/npm//vega@5?noext\",\n",
       "      \"vega-lib\": \"https://cdn.jsdelivr.net/npm//vega-lib?noext\",\n",
       "      \"vega-lite\": \"https://cdn.jsdelivr.net/npm//vega-lite@4.8.1?noext\",\n",
       "      \"vega-embed\": \"https://cdn.jsdelivr.net/npm//vega-embed@6?noext\",\n",
       "    };\n",
       "\n",
       "    function loadScript(lib) {\n",
       "      return new Promise(function(resolve, reject) {\n",
       "        var s = document.createElement('script');\n",
       "        s.src = paths[lib];\n",
       "        s.async = true;\n",
       "        s.onload = () => resolve(paths[lib]);\n",
       "        s.onerror = () => reject(`Error loading script: ${paths[lib]}`);\n",
       "        document.getElementsByTagName(\"head\")[0].appendChild(s);\n",
       "      });\n",
       "    }\n",
       "\n",
       "    function showError(err) {\n",
       "      outputDiv.innerHTML = `<div class=\"error\" style=\"color:red;\">${err}</div>`;\n",
       "      throw err;\n",
       "    }\n",
       "\n",
       "    function displayChart(vegaEmbed) {\n",
       "      vegaEmbed(outputDiv, spec, embedOpt)\n",
       "        .catch(err => showError(`Javascript Error: ${err.message}<br>This usually means there's a typo in your chart specification. See the javascript console for the full traceback.`));\n",
       "    }\n",
       "\n",
       "    if(typeof define === \"function\" && define.amd) {\n",
       "      requirejs.config({paths});\n",
       "      require([\"vega-embed\"], displayChart, err => showError(`Error loading script: ${err.message}`));\n",
       "    } else if (typeof vegaEmbed === \"function\") {\n",
       "      displayChart(vegaEmbed);\n",
       "    } else {\n",
       "      loadScript(\"vega\")\n",
       "        .then(() => loadScript(\"vega-lite\"))\n",
       "        .then(() => loadScript(\"vega-embed\"))\n",
       "        .catch(showError)\n",
       "        .then(() => displayChart(vegaEmbed));\n",
       "    }\n",
       "  })({\"config\": {\"view\": {\"continuousWidth\": 400, \"continuousHeight\": 300}}, \"data\": {\"url\": \"http://localhost:19425/afc65a57498f7688842a318b584cceec.json\"}, \"mark\": \"bar\", \"encoding\": {\"color\": {\"type\": \"nominal\", \"field\": \"Symbol\"}, \"tooltip\": [{\"type\": \"nominal\", \"field\": \"Symbol\"}], \"x\": {\"type\": \"nominal\", \"field\": \"Symbol\"}, \"y\": {\"type\": \"quantitative\", \"field\": \"Daily_Range\"}}, \"title\": \"BTC Daily Range Fluctuation Comparison with Other Assets\", \"width\": 700, \"$schema\": \"https://vega.github.io/schema/vega-lite/v4.8.1.json\"}, {\"mode\": \"vega-lite\"});\n",
       "</script>"
      ],
      "text/plain": [
       "alt.Chart(...)"
      ]
     },
     "execution_count": 50,
     "metadata": {},
     "output_type": "execute_result"
    }
   ],
   "source": [
    "alt.Chart(df).mark_bar().encode(\n",
    "    x = alt.X('Symbol:N'),\n",
    "    y = alt.Y('Daily_Range:Q'),\n",
    "    color = 'Symbol:N',\n",
    "    tooltip = ['Symbol']\n",
    ").properties(width = 700, title='BTC Daily Range Fluctuation Comparison with Other Assets')\n",
    "  "
   ]
  },
  {
   "cell_type": "code",
   "execution_count": 128,
   "metadata": {},
   "outputs": [
    {
     "data": {
      "text/html": [
       "\n",
       "<div id=\"altair-viz-ee037005b2a64933a098f4a4b88a3a0a\"></div>\n",
       "<script type=\"text/javascript\">\n",
       "  (function(spec, embedOpt){\n",
       "    let outputDiv = document.currentScript.previousElementSibling;\n",
       "    if (outputDiv.id !== \"altair-viz-ee037005b2a64933a098f4a4b88a3a0a\") {\n",
       "      outputDiv = document.getElementById(\"altair-viz-ee037005b2a64933a098f4a4b88a3a0a\");\n",
       "    }\n",
       "    const paths = {\n",
       "      \"vega\": \"https://cdn.jsdelivr.net/npm//vega@5?noext\",\n",
       "      \"vega-lib\": \"https://cdn.jsdelivr.net/npm//vega-lib?noext\",\n",
       "      \"vega-lite\": \"https://cdn.jsdelivr.net/npm//vega-lite@4.8.1?noext\",\n",
       "      \"vega-embed\": \"https://cdn.jsdelivr.net/npm//vega-embed@6?noext\",\n",
       "    };\n",
       "\n",
       "    function loadScript(lib) {\n",
       "      return new Promise(function(resolve, reject) {\n",
       "        var s = document.createElement('script');\n",
       "        s.src = paths[lib];\n",
       "        s.async = true;\n",
       "        s.onload = () => resolve(paths[lib]);\n",
       "        s.onerror = () => reject(`Error loading script: ${paths[lib]}`);\n",
       "        document.getElementsByTagName(\"head\")[0].appendChild(s);\n",
       "      });\n",
       "    }\n",
       "\n",
       "    function showError(err) {\n",
       "      outputDiv.innerHTML = `<div class=\"error\" style=\"color:red;\">${err}</div>`;\n",
       "      throw err;\n",
       "    }\n",
       "\n",
       "    function displayChart(vegaEmbed) {\n",
       "      vegaEmbed(outputDiv, spec, embedOpt)\n",
       "        .catch(err => showError(`Javascript Error: ${err.message}<br>This usually means there's a typo in your chart specification. See the javascript console for the full traceback.`));\n",
       "    }\n",
       "\n",
       "    if(typeof define === \"function\" && define.amd) {\n",
       "      requirejs.config({paths});\n",
       "      require([\"vega-embed\"], displayChart, err => showError(`Error loading script: ${err.message}`));\n",
       "    } else if (typeof vegaEmbed === \"function\") {\n",
       "      displayChart(vegaEmbed);\n",
       "    } else {\n",
       "      loadScript(\"vega\")\n",
       "        .then(() => loadScript(\"vega-lite\"))\n",
       "        .then(() => loadScript(\"vega-embed\"))\n",
       "        .catch(showError)\n",
       "        .then(() => displayChart(vegaEmbed));\n",
       "    }\n",
       "  })({\"config\": {\"view\": {\"continuousWidth\": 400, \"continuousHeight\": 300}}, \"data\": {\"url\": \"http://localhost:19425/afc65a57498f7688842a318b584cceec.json\"}, \"mark\": \"bar\", \"encoding\": {\"color\": {\"type\": \"nominal\", \"field\": \"Symbol\"}, \"tooltip\": [{\"type\": \"nominal\", \"field\": \"Symbol\"}], \"x\": {\"type\": \"nominal\", \"field\": \"Symbol\", \"sort\": {\"field\": \"Returns\", \"op\": \"sum\", \"order\": \"descending\"}}, \"y\": {\"type\": \"quantitative\", \"aggregate\": \"sum\", \"field\": \"Returns\"}}, \"title\": \"BTC Returns Comparison with Other Assets\", \"width\": 700, \"$schema\": \"https://vega.github.io/schema/vega-lite/v4.8.1.json\"}, {\"mode\": \"vega-lite\"});\n",
       "</script>"
      ],
      "text/plain": [
       "alt.Chart(...)"
      ]
     },
     "execution_count": 128,
     "metadata": {},
     "output_type": "execute_result"
    }
   ],
   "source": [
    "alt.Chart(df).mark_bar().encode(\n",
    "    x = alt.X('Symbol:N',sort=alt.EncodingSortField(field='Returns', op='sum', order='descending')),\n",
    "    y = alt.Y('sum(Returns):Q', ),\n",
    "    color = 'Symbol:N',\n",
    "    tooltip = ['Symbol']\n",
    ").properties(width = 700, title='BTC Returns Comparison with Other Assets')\n",
    "  "
   ]
  },
  {
   "cell_type": "code",
   "execution_count": 129,
   "metadata": {},
   "outputs": [
    {
     "data": {
      "text/html": [
       "\n",
       "<div id=\"altair-viz-dccb3536fd814569b8489d3ec2f16583\"></div>\n",
       "<script type=\"text/javascript\">\n",
       "  (function(spec, embedOpt){\n",
       "    let outputDiv = document.currentScript.previousElementSibling;\n",
       "    if (outputDiv.id !== \"altair-viz-dccb3536fd814569b8489d3ec2f16583\") {\n",
       "      outputDiv = document.getElementById(\"altair-viz-dccb3536fd814569b8489d3ec2f16583\");\n",
       "    }\n",
       "    const paths = {\n",
       "      \"vega\": \"https://cdn.jsdelivr.net/npm//vega@5?noext\",\n",
       "      \"vega-lib\": \"https://cdn.jsdelivr.net/npm//vega-lib?noext\",\n",
       "      \"vega-lite\": \"https://cdn.jsdelivr.net/npm//vega-lite@4.8.1?noext\",\n",
       "      \"vega-embed\": \"https://cdn.jsdelivr.net/npm//vega-embed@6?noext\",\n",
       "    };\n",
       "\n",
       "    function loadScript(lib) {\n",
       "      return new Promise(function(resolve, reject) {\n",
       "        var s = document.createElement('script');\n",
       "        s.src = paths[lib];\n",
       "        s.async = true;\n",
       "        s.onload = () => resolve(paths[lib]);\n",
       "        s.onerror = () => reject(`Error loading script: ${paths[lib]}`);\n",
       "        document.getElementsByTagName(\"head\")[0].appendChild(s);\n",
       "      });\n",
       "    }\n",
       "\n",
       "    function showError(err) {\n",
       "      outputDiv.innerHTML = `<div class=\"error\" style=\"color:red;\">${err}</div>`;\n",
       "      throw err;\n",
       "    }\n",
       "\n",
       "    function displayChart(vegaEmbed) {\n",
       "      vegaEmbed(outputDiv, spec, embedOpt)\n",
       "        .catch(err => showError(`Javascript Error: ${err.message}<br>This usually means there's a typo in your chart specification. See the javascript console for the full traceback.`));\n",
       "    }\n",
       "\n",
       "    if(typeof define === \"function\" && define.amd) {\n",
       "      requirejs.config({paths});\n",
       "      require([\"vega-embed\"], displayChart, err => showError(`Error loading script: ${err.message}`));\n",
       "    } else if (typeof vegaEmbed === \"function\") {\n",
       "      displayChart(vegaEmbed);\n",
       "    } else {\n",
       "      loadScript(\"vega\")\n",
       "        .then(() => loadScript(\"vega-lite\"))\n",
       "        .then(() => loadScript(\"vega-embed\"))\n",
       "        .catch(showError)\n",
       "        .then(() => displayChart(vegaEmbed));\n",
       "    }\n",
       "  })({\"config\": {\"view\": {\"continuousWidth\": 400, \"continuousHeight\": 300}}, \"data\": {\"url\": \"http://localhost:19425/afc65a57498f7688842a318b584cceec.json\"}, \"mark\": \"bar\", \"encoding\": {\"color\": {\"type\": \"nominal\", \"field\": \"Symbol\"}, \"tooltip\": [{\"type\": \"nominal\", \"field\": \"Symbol\"}], \"x\": {\"type\": \"nominal\", \"field\": \"Symbol\", \"sort\": {\"field\": \"ATR\", \"op\": \"mean\", \"order\": \"descending\"}}, \"y\": {\"type\": \"quantitative\", \"aggregate\": \"mean\", \"field\": \"ATR\"}}, \"title\": \"BTC Mean ATR Comparison with Other Assets\", \"width\": 700, \"$schema\": \"https://vega.github.io/schema/vega-lite/v4.8.1.json\"}, {\"mode\": \"vega-lite\"});\n",
       "</script>"
      ],
      "text/plain": [
       "alt.Chart(...)"
      ]
     },
     "execution_count": 129,
     "metadata": {},
     "output_type": "execute_result"
    }
   ],
   "source": [
    "alt.Chart(df).mark_bar().encode(\n",
    "    x = alt.X('Symbol:N', sort=alt.EncodingSortField(field='ATR', op='mean', order='descending')),\n",
    "    y = alt.Y('mean(ATR):Q'),\n",
    "    color = 'Symbol:N',\n",
    "    tooltip = ['Symbol']\n",
    ").properties(width = 700, title='BTC Mean ATR Comparison with Other Assets')\n",
    "  "
   ]
  },
  {
   "cell_type": "markdown",
   "metadata": {},
   "source": [
    "### What could be improved about this view:\n",
    "\n",
    "We use scatter plot to see any particular outliers, it shows clearly that Bitcoin has quite number of outliers. The spikes could be due to any critical news ot event which warrants further investigation in our further study of the hypothesis."
   ]
  },
  {
   "cell_type": "code",
   "execution_count": 53,
   "metadata": {},
   "outputs": [
    {
     "data": {
      "text/html": [
       "\n",
       "<div id=\"altair-viz-7c0f597a7e8040bc9ad4808013eb7d2f\"></div>\n",
       "<script type=\"text/javascript\">\n",
       "  (function(spec, embedOpt){\n",
       "    let outputDiv = document.currentScript.previousElementSibling;\n",
       "    if (outputDiv.id !== \"altair-viz-7c0f597a7e8040bc9ad4808013eb7d2f\") {\n",
       "      outputDiv = document.getElementById(\"altair-viz-7c0f597a7e8040bc9ad4808013eb7d2f\");\n",
       "    }\n",
       "    const paths = {\n",
       "      \"vega\": \"https://cdn.jsdelivr.net/npm//vega@5?noext\",\n",
       "      \"vega-lib\": \"https://cdn.jsdelivr.net/npm//vega-lib?noext\",\n",
       "      \"vega-lite\": \"https://cdn.jsdelivr.net/npm//vega-lite@4.8.1?noext\",\n",
       "      \"vega-embed\": \"https://cdn.jsdelivr.net/npm//vega-embed@6?noext\",\n",
       "    };\n",
       "\n",
       "    function loadScript(lib) {\n",
       "      return new Promise(function(resolve, reject) {\n",
       "        var s = document.createElement('script');\n",
       "        s.src = paths[lib];\n",
       "        s.async = true;\n",
       "        s.onload = () => resolve(paths[lib]);\n",
       "        s.onerror = () => reject(`Error loading script: ${paths[lib]}`);\n",
       "        document.getElementsByTagName(\"head\")[0].appendChild(s);\n",
       "      });\n",
       "    }\n",
       "\n",
       "    function showError(err) {\n",
       "      outputDiv.innerHTML = `<div class=\"error\" style=\"color:red;\">${err}</div>`;\n",
       "      throw err;\n",
       "    }\n",
       "\n",
       "    function displayChart(vegaEmbed) {\n",
       "      vegaEmbed(outputDiv, spec, embedOpt)\n",
       "        .catch(err => showError(`Javascript Error: ${err.message}<br>This usually means there's a typo in your chart specification. See the javascript console for the full traceback.`));\n",
       "    }\n",
       "\n",
       "    if(typeof define === \"function\" && define.amd) {\n",
       "      requirejs.config({paths});\n",
       "      require([\"vega-embed\"], displayChart, err => showError(`Error loading script: ${err.message}`));\n",
       "    } else if (typeof vegaEmbed === \"function\") {\n",
       "      displayChart(vegaEmbed);\n",
       "    } else {\n",
       "      loadScript(\"vega\")\n",
       "        .then(() => loadScript(\"vega-lite\"))\n",
       "        .then(() => loadScript(\"vega-embed\"))\n",
       "        .catch(showError)\n",
       "        .then(() => displayChart(vegaEmbed));\n",
       "    }\n",
       "  })({\"config\": {\"view\": {\"continuousWidth\": 400, \"continuousHeight\": 300}}, \"data\": {\"url\": \"http://localhost:19425/afc65a57498f7688842a318b584cceec.json\"}, \"mark\": \"circle\", \"encoding\": {\"color\": {\"type\": \"nominal\", \"field\": \"Symbol\"}, \"x\": {\"type\": \"quantitative\", \"field\": \"Volume\"}, \"y\": {\"type\": \"quantitative\", \"aggregate\": \"sum\", \"field\": \"Returns\"}}, \"title\": \"BTC Returns Comparison with Other Assets\", \"width\": 700, \"$schema\": \"https://vega.github.io/schema/vega-lite/v4.8.1.json\"}, {\"mode\": \"vega-lite\"});\n",
       "</script>"
      ],
      "text/plain": [
       "alt.Chart(...)"
      ]
     },
     "execution_count": 53,
     "metadata": {},
     "output_type": "execute_result"
    }
   ],
   "source": [
    "alt.Chart(df).mark_circle().encode(\n",
    "    x = alt.X('Volume:Q'),\n",
    "    y = alt.Y('sum(Returns):Q'),\n",
    "    color = 'Symbol:N',\n",
    "    #color = 'day(Date:T)'\n",
    ").properties(width = 700, title='BTC Returns Comparison with Other Assets')\n",
    "  "
   ]
  },
  {
   "cell_type": "code",
   "execution_count": 54,
   "metadata": {},
   "outputs": [
    {
     "data": {
      "text/html": [
       "\n",
       "<div id=\"altair-viz-f05b4acab57946348bf2c508a1a0e0f8\"></div>\n",
       "<script type=\"text/javascript\">\n",
       "  (function(spec, embedOpt){\n",
       "    let outputDiv = document.currentScript.previousElementSibling;\n",
       "    if (outputDiv.id !== \"altair-viz-f05b4acab57946348bf2c508a1a0e0f8\") {\n",
       "      outputDiv = document.getElementById(\"altair-viz-f05b4acab57946348bf2c508a1a0e0f8\");\n",
       "    }\n",
       "    const paths = {\n",
       "      \"vega\": \"https://cdn.jsdelivr.net/npm//vega@5?noext\",\n",
       "      \"vega-lib\": \"https://cdn.jsdelivr.net/npm//vega-lib?noext\",\n",
       "      \"vega-lite\": \"https://cdn.jsdelivr.net/npm//vega-lite@4.8.1?noext\",\n",
       "      \"vega-embed\": \"https://cdn.jsdelivr.net/npm//vega-embed@6?noext\",\n",
       "    };\n",
       "\n",
       "    function loadScript(lib) {\n",
       "      return new Promise(function(resolve, reject) {\n",
       "        var s = document.createElement('script');\n",
       "        s.src = paths[lib];\n",
       "        s.async = true;\n",
       "        s.onload = () => resolve(paths[lib]);\n",
       "        s.onerror = () => reject(`Error loading script: ${paths[lib]}`);\n",
       "        document.getElementsByTagName(\"head\")[0].appendChild(s);\n",
       "      });\n",
       "    }\n",
       "\n",
       "    function showError(err) {\n",
       "      outputDiv.innerHTML = `<div class=\"error\" style=\"color:red;\">${err}</div>`;\n",
       "      throw err;\n",
       "    }\n",
       "\n",
       "    function displayChart(vegaEmbed) {\n",
       "      vegaEmbed(outputDiv, spec, embedOpt)\n",
       "        .catch(err => showError(`Javascript Error: ${err.message}<br>This usually means there's a typo in your chart specification. See the javascript console for the full traceback.`));\n",
       "    }\n",
       "\n",
       "    if(typeof define === \"function\" && define.amd) {\n",
       "      requirejs.config({paths});\n",
       "      require([\"vega-embed\"], displayChart, err => showError(`Error loading script: ${err.message}`));\n",
       "    } else if (typeof vegaEmbed === \"function\") {\n",
       "      displayChart(vegaEmbed);\n",
       "    } else {\n",
       "      loadScript(\"vega\")\n",
       "        .then(() => loadScript(\"vega-lite\"))\n",
       "        .then(() => loadScript(\"vega-embed\"))\n",
       "        .catch(showError)\n",
       "        .then(() => displayChart(vegaEmbed));\n",
       "    }\n",
       "  })({\"config\": {\"view\": {\"continuousWidth\": 400, \"continuousHeight\": 300}}, \"data\": {\"url\": \"http://localhost:19425/afc65a57498f7688842a318b584cceec.json\"}, \"mark\": \"circle\", \"encoding\": {\"color\": {\"type\": \"nominal\", \"field\": \"Symbol\"}, \"x\": {\"type\": \"quantitative\", \"field\": \"Returns\"}, \"y\": {\"type\": \"quantitative\", \"field\": \"ATR\"}}, \"title\": \"Returns VS Volume\", \"width\": 700, \"$schema\": \"https://vega.github.io/schema/vega-lite/v4.8.1.json\"}, {\"mode\": \"vega-lite\"});\n",
       "</script>"
      ],
      "text/plain": [
       "alt.Chart(...)"
      ]
     },
     "execution_count": 54,
     "metadata": {},
     "output_type": "execute_result"
    }
   ],
   "source": [
    "alt.Chart(df).mark_circle().encode(\n",
    "    x = alt.X('Returns:Q'),\n",
    "    y = alt.Y('ATR:Q'),\n",
    "    color = 'Symbol:N'\n",
    ").properties(width = 700, title='Returns VS Volume')"
   ]
  },
  {
   "cell_type": "markdown",
   "metadata": {},
   "source": [
    "### What could be improved about this view:\n",
    "\n",
    "We use boxplot to ascertain and present another perspective of the outliers."
   ]
  },
  {
   "cell_type": "code",
   "execution_count": 243,
   "metadata": {},
   "outputs": [
    {
     "data": {
      "text/html": [
       "\n",
       "<div id=\"altair-viz-c02dbf7b9d0e48f98265731d651f14a5\"></div>\n",
       "<script type=\"text/javascript\">\n",
       "  (function(spec, embedOpt){\n",
       "    let outputDiv = document.currentScript.previousElementSibling;\n",
       "    if (outputDiv.id !== \"altair-viz-c02dbf7b9d0e48f98265731d651f14a5\") {\n",
       "      outputDiv = document.getElementById(\"altair-viz-c02dbf7b9d0e48f98265731d651f14a5\");\n",
       "    }\n",
       "    const paths = {\n",
       "      \"vega\": \"https://cdn.jsdelivr.net/npm//vega@5?noext\",\n",
       "      \"vega-lib\": \"https://cdn.jsdelivr.net/npm//vega-lib?noext\",\n",
       "      \"vega-lite\": \"https://cdn.jsdelivr.net/npm//vega-lite@4.8.1?noext\",\n",
       "      \"vega-embed\": \"https://cdn.jsdelivr.net/npm//vega-embed@6?noext\",\n",
       "    };\n",
       "\n",
       "    function loadScript(lib) {\n",
       "      return new Promise(function(resolve, reject) {\n",
       "        var s = document.createElement('script');\n",
       "        s.src = paths[lib];\n",
       "        s.async = true;\n",
       "        s.onload = () => resolve(paths[lib]);\n",
       "        s.onerror = () => reject(`Error loading script: ${paths[lib]}`);\n",
       "        document.getElementsByTagName(\"head\")[0].appendChild(s);\n",
       "      });\n",
       "    }\n",
       "\n",
       "    function showError(err) {\n",
       "      outputDiv.innerHTML = `<div class=\"error\" style=\"color:red;\">${err}</div>`;\n",
       "      throw err;\n",
       "    }\n",
       "\n",
       "    function displayChart(vegaEmbed) {\n",
       "      vegaEmbed(outputDiv, spec, embedOpt)\n",
       "        .catch(err => showError(`Javascript Error: ${err.message}<br>This usually means there's a typo in your chart specification. See the javascript console for the full traceback.`));\n",
       "    }\n",
       "\n",
       "    if(typeof define === \"function\" && define.amd) {\n",
       "      requirejs.config({paths});\n",
       "      require([\"vega-embed\"], displayChart, err => showError(`Error loading script: ${err.message}`));\n",
       "    } else if (typeof vegaEmbed === \"function\") {\n",
       "      displayChart(vegaEmbed);\n",
       "    } else {\n",
       "      loadScript(\"vega\")\n",
       "        .then(() => loadScript(\"vega-lite\"))\n",
       "        .then(() => loadScript(\"vega-embed\"))\n",
       "        .catch(showError)\n",
       "        .then(() => displayChart(vegaEmbed));\n",
       "    }\n",
       "  })({\"config\": {\"view\": {\"continuousWidth\": 400, \"continuousHeight\": 300}, \"axisX\": {\"labelAngle\": 45, \"labelFontSize\": 12}, \"axisY\": {\"labelFontSize\": 12}}, \"data\": {\"url\": \"http://localhost:19425/5e2158279eed9a73596eae19d46436c2.json\"}, \"mark\": {\"type\": \"boxplot\", \"extent\": 0.5, \"size\": 50}, \"encoding\": {\"color\": {\"type\": \"nominal\", \"field\": \"Symbol\"}, \"x\": {\"type\": \"nominal\", \"field\": \"Symbol\"}, \"y\": {\"type\": \"quantitative\", \"field\": \"Returns_Percent\", \"scale\": {\"zero\": false}}}, \"title\": \"BTC Returns VS Other Assets Borplot\", \"width\": 700, \"$schema\": \"https://vega.github.io/schema/vega-lite/v4.8.1.json\"}, {\"mode\": \"vega-lite\"});\n",
       "</script>"
      ],
      "text/plain": [
       "alt.Chart(...)"
      ]
     },
     "execution_count": 243,
     "metadata": {},
     "output_type": "execute_result"
    }
   ],
   "source": [
    "alt.Chart(df[df.Symbol.isin(['BTC-USD','AAPL'])]).mark_boxplot(size=50, extent = 0.5).encode(\n",
    "    x = alt.X('Symbol:N'),\n",
    "#     y = alt.Y('month(Date):O'),\n",
    "    y = alt.Y('Returns_Percent:Q', scale=alt.Scale(zero=False)),\n",
    "    color = alt.Color('Symbol:N')\n",
    ").properties(title = 'BTC Returns VS Other Assets Borplot', width = 700).configure_axisX(labelFontSize = 12, labelAngle = 45).configure_axisY(labelFontSize = 12)\n",
    "\n"
   ]
  },
  {
   "cell_type": "code",
   "execution_count": 237,
   "metadata": {},
   "outputs": [
    {
     "data": {
      "text/html": [
       "\n",
       "<div id=\"altair-viz-86f960af861f4aef86fd243e6ce22429\"></div>\n",
       "<script type=\"text/javascript\">\n",
       "  (function(spec, embedOpt){\n",
       "    let outputDiv = document.currentScript.previousElementSibling;\n",
       "    if (outputDiv.id !== \"altair-viz-86f960af861f4aef86fd243e6ce22429\") {\n",
       "      outputDiv = document.getElementById(\"altair-viz-86f960af861f4aef86fd243e6ce22429\");\n",
       "    }\n",
       "    const paths = {\n",
       "      \"vega\": \"https://cdn.jsdelivr.net/npm//vega@5?noext\",\n",
       "      \"vega-lib\": \"https://cdn.jsdelivr.net/npm//vega-lib?noext\",\n",
       "      \"vega-lite\": \"https://cdn.jsdelivr.net/npm//vega-lite@4.8.1?noext\",\n",
       "      \"vega-embed\": \"https://cdn.jsdelivr.net/npm//vega-embed@6?noext\",\n",
       "    };\n",
       "\n",
       "    function loadScript(lib) {\n",
       "      return new Promise(function(resolve, reject) {\n",
       "        var s = document.createElement('script');\n",
       "        s.src = paths[lib];\n",
       "        s.async = true;\n",
       "        s.onload = () => resolve(paths[lib]);\n",
       "        s.onerror = () => reject(`Error loading script: ${paths[lib]}`);\n",
       "        document.getElementsByTagName(\"head\")[0].appendChild(s);\n",
       "      });\n",
       "    }\n",
       "\n",
       "    function showError(err) {\n",
       "      outputDiv.innerHTML = `<div class=\"error\" style=\"color:red;\">${err}</div>`;\n",
       "      throw err;\n",
       "    }\n",
       "\n",
       "    function displayChart(vegaEmbed) {\n",
       "      vegaEmbed(outputDiv, spec, embedOpt)\n",
       "        .catch(err => showError(`Javascript Error: ${err.message}<br>This usually means there's a typo in your chart specification. See the javascript console for the full traceback.`));\n",
       "    }\n",
       "\n",
       "    if(typeof define === \"function\" && define.amd) {\n",
       "      requirejs.config({paths});\n",
       "      require([\"vega-embed\"], displayChart, err => showError(`Error loading script: ${err.message}`));\n",
       "    } else if (typeof vegaEmbed === \"function\") {\n",
       "      displayChart(vegaEmbed);\n",
       "    } else {\n",
       "      loadScript(\"vega\")\n",
       "        .then(() => loadScript(\"vega-lite\"))\n",
       "        .then(() => loadScript(\"vega-embed\"))\n",
       "        .catch(showError)\n",
       "        .then(() => displayChart(vegaEmbed));\n",
       "    }\n",
       "  })({\"config\": {\"view\": {\"continuousWidth\": 400, \"continuousHeight\": 300}, \"axisX\": {\"labelAngle\": 45, \"labelFontSize\": 12}, \"axisY\": {\"labelFontSize\": 12}}, \"data\": {\"url\": \"http://localhost:19425/04cc346abe9a60467f6e8b95499477f5.json\"}, \"mark\": {\"type\": \"boxplot\", \"extent\": 0.5, \"size\": 50}, \"encoding\": {\"color\": {\"type\": \"nominal\", \"field\": \"Symbol\"}, \"x\": {\"type\": \"nominal\", \"field\": \"Symbol\"}, \"y\": {\"type\": \"quantitative\", \"field\": \"Returns\", \"scale\": {\"zero\": false}}}, \"title\": \"BTC Returns VS Other Assets Borplot\", \"width\": 700, \"$schema\": \"https://vega.github.io/schema/vega-lite/v4.8.1.json\"}, {\"mode\": \"vega-lite\"});\n",
       "</script>"
      ],
      "text/plain": [
       "alt.Chart(...)"
      ]
     },
     "execution_count": 237,
     "metadata": {},
     "output_type": "execute_result"
    }
   ],
   "source": [
    "alt.Chart(df[df.Symbol.isin(exposure_list)]).mark_boxplot(size=50, extent = 0.5).encode(\n",
    "    x = alt.X('Symbol:N'),\n",
    "#     y = alt.Y('month(Date):O'),\n",
    "    y = alt.Y('Returns:Q', scale=alt.Scale(zero=False)),\n",
    "    color = alt.Color('Symbol:N')\n",
    ").properties(title = 'BTC Returns VS Other Assets Borplot', width = 700).configure_axisX(labelFontSize = 12, labelAngle = 45).configure_axisY(labelFontSize = 12)\n",
    "\n"
   ]
  },
  {
   "cell_type": "code",
   "execution_count": 232,
   "metadata": {},
   "outputs": [],
   "source": [
    "selector = df.Symbol == 'BTC-USD'\n",
    "plot_range = 500\n",
    "y_range_max = round(df[selector]['Close'].tail(plot_range).max(),0) + 1000\n",
    "y_range_min = round(df[selector]['Close'].tail(plot_range).min(),0) - 1000"
   ]
  },
  {
   "cell_type": "code",
   "execution_count": 233,
   "metadata": {},
   "outputs": [],
   "source": [
    "# df[df.Symbol == 'BTC-USD'].tail(plot_range)\n",
    "pvchart = alt.Chart(df[df.Symbol == 'BTC-USD'].tail(plot_range)).mark_circle().encode(\n",
    "    x = alt.X('Date:T'),\n",
    "    y = alt.Y('Close:Q', scale = alt.Scale(domain=[y_range_min,y_range_max], type='log')),\n",
    "    color = alt.condition(\n",
    "        alt.datum.Returns > 0,\n",
    "        alt.value('steelblue'),  \n",
    "        alt.value('orange')),\n",
    "        tooltip = ['Date:T','Close', 'Volume']\n",
    ").properties(width = 700, title='BTC Close Price Trend')\n"
   ]
  },
  {
   "cell_type": "code",
   "execution_count": 234,
   "metadata": {},
   "outputs": [],
   "source": [
    "#df[df.Symbol.isin(exposure_list)]\n",
    "#df[df.Symbol == 'BTC-USD'].tail(plot_range)\n",
    "vchart = alt.Chart(df[df.Symbol == 'BTC-USD'].tail(plot_range)).mark_bar().encode(\n",
    "    x = alt.X('Date:T'),\n",
    "    y = alt.Y('Volume:Q'),\n",
    "    color = alt.Color('LossGain:N', legend = alt.Legend(title = 'Returns'))\n",
    ").properties(title=\"BTC Volume Trend\", width =700)\n",
    "\n"
   ]
  },
  {
   "cell_type": "markdown",
   "metadata": {},
   "source": [
    "### What's informative about this view:\n",
    "\n",
    "This chart is a further improvement of the trend line chart, we marked the color of loss and gain and crossed reference with the trading volume."
   ]
  },
  {
   "cell_type": "code",
   "execution_count": 235,
   "metadata": {},
   "outputs": [
    {
     "data": {
      "text/html": [
       "\n",
       "<div id=\"altair-viz-511f1f7bec894b85b739a1aa19daff61\"></div>\n",
       "<script type=\"text/javascript\">\n",
       "  (function(spec, embedOpt){\n",
       "    let outputDiv = document.currentScript.previousElementSibling;\n",
       "    if (outputDiv.id !== \"altair-viz-511f1f7bec894b85b739a1aa19daff61\") {\n",
       "      outputDiv = document.getElementById(\"altair-viz-511f1f7bec894b85b739a1aa19daff61\");\n",
       "    }\n",
       "    const paths = {\n",
       "      \"vega\": \"https://cdn.jsdelivr.net/npm//vega@5?noext\",\n",
       "      \"vega-lib\": \"https://cdn.jsdelivr.net/npm//vega-lib?noext\",\n",
       "      \"vega-lite\": \"https://cdn.jsdelivr.net/npm//vega-lite@4.8.1?noext\",\n",
       "      \"vega-embed\": \"https://cdn.jsdelivr.net/npm//vega-embed@6?noext\",\n",
       "    };\n",
       "\n",
       "    function loadScript(lib) {\n",
       "      return new Promise(function(resolve, reject) {\n",
       "        var s = document.createElement('script');\n",
       "        s.src = paths[lib];\n",
       "        s.async = true;\n",
       "        s.onload = () => resolve(paths[lib]);\n",
       "        s.onerror = () => reject(`Error loading script: ${paths[lib]}`);\n",
       "        document.getElementsByTagName(\"head\")[0].appendChild(s);\n",
       "      });\n",
       "    }\n",
       "\n",
       "    function showError(err) {\n",
       "      outputDiv.innerHTML = `<div class=\"error\" style=\"color:red;\">${err}</div>`;\n",
       "      throw err;\n",
       "    }\n",
       "\n",
       "    function displayChart(vegaEmbed) {\n",
       "      vegaEmbed(outputDiv, spec, embedOpt)\n",
       "        .catch(err => showError(`Javascript Error: ${err.message}<br>This usually means there's a typo in your chart specification. See the javascript console for the full traceback.`));\n",
       "    }\n",
       "\n",
       "    if(typeof define === \"function\" && define.amd) {\n",
       "      requirejs.config({paths});\n",
       "      require([\"vega-embed\"], displayChart, err => showError(`Error loading script: ${err.message}`));\n",
       "    } else if (typeof vegaEmbed === \"function\") {\n",
       "      displayChart(vegaEmbed);\n",
       "    } else {\n",
       "      loadScript(\"vega\")\n",
       "        .then(() => loadScript(\"vega-lite\"))\n",
       "        .then(() => loadScript(\"vega-embed\"))\n",
       "        .catch(showError)\n",
       "        .then(() => displayChart(vegaEmbed));\n",
       "    }\n",
       "  })({\"config\": {\"view\": {\"continuousWidth\": 400, \"continuousHeight\": 300}}, \"vconcat\": [{\"data\": {\"url\": \"http://localhost:19425/4427bd73e686e1f081c08e6599eea569.json\"}, \"mark\": \"circle\", \"encoding\": {\"color\": {\"condition\": {\"value\": \"steelblue\", \"test\": \"(datum.Returns > 0)\"}, \"value\": \"orange\"}, \"tooltip\": [{\"type\": \"temporal\", \"field\": \"Date\"}, {\"type\": \"quantitative\", \"field\": \"Close\"}, {\"type\": \"quantitative\", \"field\": \"Volume\"}], \"x\": {\"type\": \"temporal\", \"field\": \"Date\"}, \"y\": {\"type\": \"quantitative\", \"field\": \"Close\", \"scale\": {\"domain\": [3971.0, 64503.0], \"type\": \"log\"}}}, \"title\": \"BTC Close Price Trend\", \"width\": 700}, {\"data\": {\"url\": \"http://localhost:19425/4427bd73e686e1f081c08e6599eea569.json\"}, \"mark\": \"bar\", \"encoding\": {\"color\": {\"type\": \"nominal\", \"field\": \"LossGain\", \"legend\": {\"title\": \"Returns\"}}, \"x\": {\"type\": \"temporal\", \"field\": \"Date\"}, \"y\": {\"type\": \"quantitative\", \"field\": \"Volume\"}}, \"title\": \"BTC Volume Trend\", \"width\": 700}], \"$schema\": \"https://vega.github.io/schema/vega-lite/v4.8.1.json\"}, {\"mode\": \"vega-lite\"});\n",
       "</script>"
      ],
      "text/plain": [
       "alt.VConcatChart(...)"
      ]
     },
     "execution_count": 235,
     "metadata": {},
     "output_type": "execute_result"
    }
   ],
   "source": [
    "pvchart & vchart"
   ]
  },
  {
   "cell_type": "markdown",
   "metadata": {},
   "source": [
    "## Hypothesis 2: Alt coins are highly correlated with and follow Bitcoin price"
   ]
  },
  {
   "cell_type": "markdown",
   "metadata": {},
   "source": [
    "#### The view shows that Alt coins are on par with Bitcoin in terms of price percentage performance, there is a great opportunity to invest in alt coins. "
   ]
  },
  {
   "cell_type": "code",
   "execution_count": 62,
   "metadata": {},
   "outputs": [
    {
     "data": {
      "text/html": [
       "\n",
       "<div id=\"altair-viz-96f3d0ab561244379303c9464ffbae98\"></div>\n",
       "<script type=\"text/javascript\">\n",
       "  (function(spec, embedOpt){\n",
       "    let outputDiv = document.currentScript.previousElementSibling;\n",
       "    if (outputDiv.id !== \"altair-viz-96f3d0ab561244379303c9464ffbae98\") {\n",
       "      outputDiv = document.getElementById(\"altair-viz-96f3d0ab561244379303c9464ffbae98\");\n",
       "    }\n",
       "    const paths = {\n",
       "      \"vega\": \"https://cdn.jsdelivr.net/npm//vega@5?noext\",\n",
       "      \"vega-lib\": \"https://cdn.jsdelivr.net/npm//vega-lib?noext\",\n",
       "      \"vega-lite\": \"https://cdn.jsdelivr.net/npm//vega-lite@4.8.1?noext\",\n",
       "      \"vega-embed\": \"https://cdn.jsdelivr.net/npm//vega-embed@6?noext\",\n",
       "    };\n",
       "\n",
       "    function loadScript(lib) {\n",
       "      return new Promise(function(resolve, reject) {\n",
       "        var s = document.createElement('script');\n",
       "        s.src = paths[lib];\n",
       "        s.async = true;\n",
       "        s.onload = () => resolve(paths[lib]);\n",
       "        s.onerror = () => reject(`Error loading script: ${paths[lib]}`);\n",
       "        document.getElementsByTagName(\"head\")[0].appendChild(s);\n",
       "      });\n",
       "    }\n",
       "\n",
       "    function showError(err) {\n",
       "      outputDiv.innerHTML = `<div class=\"error\" style=\"color:red;\">${err}</div>`;\n",
       "      throw err;\n",
       "    }\n",
       "\n",
       "    function displayChart(vegaEmbed) {\n",
       "      vegaEmbed(outputDiv, spec, embedOpt)\n",
       "        .catch(err => showError(`Javascript Error: ${err.message}<br>This usually means there's a typo in your chart specification. See the javascript console for the full traceback.`));\n",
       "    }\n",
       "\n",
       "    if(typeof define === \"function\" && define.amd) {\n",
       "      requirejs.config({paths});\n",
       "      require([\"vega-embed\"], displayChart, err => showError(`Error loading script: ${err.message}`));\n",
       "    } else if (typeof vegaEmbed === \"function\") {\n",
       "      displayChart(vegaEmbed);\n",
       "    } else {\n",
       "      loadScript(\"vega\")\n",
       "        .then(() => loadScript(\"vega-lite\"))\n",
       "        .then(() => loadScript(\"vega-embed\"))\n",
       "        .catch(showError)\n",
       "        .then(() => displayChart(vegaEmbed));\n",
       "    }\n",
       "  })({\"config\": {\"view\": {\"continuousWidth\": 400, \"continuousHeight\": 300}}, \"data\": {\"url\": \"http://localhost:19425/d31eee7186c24a89c82827af62d6eebd.json\"}, \"mark\": \"line\", \"encoding\": {\"color\": {\"type\": \"nominal\", \"field\": \"Symbol\"}, \"tooltip\": [{\"type\": \"nominal\", \"field\": \"Symbol\"}, {\"type\": \"quantitative\", \"field\": \"Close\"}], \"x\": {\"type\": \"temporal\", \"field\": \"Date\"}, \"y\": {\"type\": \"quantitative\", \"field\": \"Close\", \"scale\": {\"type\": \"log\"}, \"title\": \"Close Price (USD)\"}}, \"title\": \"BTC-USD Price VS ETH-USD\", \"width\": 700, \"$schema\": \"https://vega.github.io/schema/vega-lite/v4.8.1.json\"}, {\"mode\": \"vega-lite\"});\n",
       "</script>"
      ],
      "text/plain": [
       "alt.Chart(...)"
      ]
     },
     "execution_count": 62,
     "metadata": {},
     "output_type": "execute_result"
    }
   ],
   "source": [
    "\n",
    "alt.Chart(df[df.Symbol.isin(['BTC-USD','ETH-USD'])]).mark_line().encode(\n",
    "    x = alt.X('Date:T'),\n",
    "    y = alt.Y('Close:Q', scale = alt.Scale(type='log'), title = 'Close Price (USD)'),\n",
    "    color = 'Symbol:N',\n",
    "    tooltip = ['Symbol', 'Close']\n",
    ").properties(width = 700, title='BTC-USD Price VS ETH-USD')\n",
    "\n",
    "  "
   ]
  },
  {
   "cell_type": "markdown",
   "metadata": {},
   "source": [
    "The view shows that BTC and Alt Coin are very much aligned in the daily returns, this is an insight that alt coin follows the momentum of BTC as they flucture with the highly similar pattern when we overlay their trend lines."
   ]
  },
  {
   "cell_type": "code",
   "execution_count": 63,
   "metadata": {},
   "outputs": [
    {
     "data": {
      "text/html": [
       "\n",
       "<div id=\"altair-viz-ef586ef02ae640448fa22fd071a28224\"></div>\n",
       "<script type=\"text/javascript\">\n",
       "  (function(spec, embedOpt){\n",
       "    let outputDiv = document.currentScript.previousElementSibling;\n",
       "    if (outputDiv.id !== \"altair-viz-ef586ef02ae640448fa22fd071a28224\") {\n",
       "      outputDiv = document.getElementById(\"altair-viz-ef586ef02ae640448fa22fd071a28224\");\n",
       "    }\n",
       "    const paths = {\n",
       "      \"vega\": \"https://cdn.jsdelivr.net/npm//vega@5?noext\",\n",
       "      \"vega-lib\": \"https://cdn.jsdelivr.net/npm//vega-lib?noext\",\n",
       "      \"vega-lite\": \"https://cdn.jsdelivr.net/npm//vega-lite@4.8.1?noext\",\n",
       "      \"vega-embed\": \"https://cdn.jsdelivr.net/npm//vega-embed@6?noext\",\n",
       "    };\n",
       "\n",
       "    function loadScript(lib) {\n",
       "      return new Promise(function(resolve, reject) {\n",
       "        var s = document.createElement('script');\n",
       "        s.src = paths[lib];\n",
       "        s.async = true;\n",
       "        s.onload = () => resolve(paths[lib]);\n",
       "        s.onerror = () => reject(`Error loading script: ${paths[lib]}`);\n",
       "        document.getElementsByTagName(\"head\")[0].appendChild(s);\n",
       "      });\n",
       "    }\n",
       "\n",
       "    function showError(err) {\n",
       "      outputDiv.innerHTML = `<div class=\"error\" style=\"color:red;\">${err}</div>`;\n",
       "      throw err;\n",
       "    }\n",
       "\n",
       "    function displayChart(vegaEmbed) {\n",
       "      vegaEmbed(outputDiv, spec, embedOpt)\n",
       "        .catch(err => showError(`Javascript Error: ${err.message}<br>This usually means there's a typo in your chart specification. See the javascript console for the full traceback.`));\n",
       "    }\n",
       "\n",
       "    if(typeof define === \"function\" && define.amd) {\n",
       "      requirejs.config({paths});\n",
       "      require([\"vega-embed\"], displayChart, err => showError(`Error loading script: ${err.message}`));\n",
       "    } else if (typeof vegaEmbed === \"function\") {\n",
       "      displayChart(vegaEmbed);\n",
       "    } else {\n",
       "      loadScript(\"vega\")\n",
       "        .then(() => loadScript(\"vega-lite\"))\n",
       "        .then(() => loadScript(\"vega-embed\"))\n",
       "        .catch(showError)\n",
       "        .then(() => displayChart(vegaEmbed));\n",
       "    }\n",
       "  })({\"config\": {\"view\": {\"continuousWidth\": 400, \"continuousHeight\": 300}}, \"data\": {\"url\": \"http://localhost:19425/d31eee7186c24a89c82827af62d6eebd.json\"}, \"mark\": \"bar\", \"encoding\": {\"color\": {\"type\": \"nominal\", \"field\": \"Symbol\"}, \"x\": {\"type\": \"temporal\", \"field\": \"Date\"}, \"y\": {\"type\": \"quantitative\", \"field\": \"Returns\"}}, \"title\": \"BTC and ETH Returns by Date Overlaid\", \"width\": 700, \"$schema\": \"https://vega.github.io/schema/vega-lite/v4.8.1.json\"}, {\"mode\": \"vega-lite\"});\n",
       "</script>"
      ],
      "text/plain": [
       "alt.Chart(...)"
      ]
     },
     "execution_count": 63,
     "metadata": {},
     "output_type": "execute_result"
    }
   ],
   "source": [
    "alt.Chart(df[df.Symbol.isin(['BTC-USD','ETH-USD'])]).mark_bar().encode(\n",
    "    x = alt.X('Date:T'),\n",
    "    y = alt.Y('Returns:Q'),\n",
    "    color = 'Symbol:N',\n",
    ").properties(width = 700, title='BTC and ETH Returns by Date Overlaid')\n"
   ]
  },
  {
   "cell_type": "code",
   "execution_count": null,
   "metadata": {},
   "outputs": [],
   "source": []
  },
  {
   "cell_type": "markdown",
   "metadata": {},
   "source": [
    "## Hypothesis 3: Cryptocurrency market is highly influenced by non-market factors that don't affect traditional markets (ie. tweets, corporate investment, covid?)\n",
    "\n",
    "Cryptocurrency market is highly influenced by non-market factors that don't affect traditional markets (ie. tweets, corporate investment, individual opinions, google searches).\n",
    "What we are trying to discover here is whether or not the crypto market, being without regulation, is susceptible to factors that don’t affect conventional markets like NASDAQ and NYSE. Tweets and comments made by Elon Musk have affected the overall crypto market, as well as the price of Bitcoin and the price and demand for Doge.  Here we want to see just what factors have the biggest impact on movements in the crypto market, whether positive or negative.\n"
   ]
  },
  {
   "cell_type": "code",
   "execution_count": 378,
   "metadata": {},
   "outputs": [],
   "source": [
    "plot_range = 500"
   ]
  },
  {
   "cell_type": "code",
   "execution_count": 357,
   "metadata": {},
   "outputs": [],
   "source": [
    "schart = alt.Chart(df[df.Symbol == 'BTC-USD'].tail(plot_range)).mark_bar().encode(\n",
    "    x = alt.X('yearmonthdate(Date)'),\n",
    "    y = alt.Y('Returns:Q'),\n",
    "    opacity=alt.value(1.0),\n",
    "    tooltip = ['Date:T'],\n",
    "    color = alt.Color('LossGain:N', legend=alt.Legend(title='Returns'))\n",
    ").properties(width = 700, title='BTC Daily Returns Trend')\n"
   ]
  },
  {
   "cell_type": "code",
   "execution_count": 379,
   "metadata": {},
   "outputs": [],
   "source": [
    "bitcoin_news = pd.DataFrame([\n",
    "    {\n",
    "        \"start\": \"2021-05-15\",\n",
    "        \"end\": \"2021-06-01\",\n",
    "        \"news\": \"FBI Ransonware Crypto\"\n",
    "    },\n",
    "    {\n",
    "        \"start\": \"2020-12-31\",\n",
    "        \"end\": \"2021-01-31\",\n",
    "        \"news\": \"Elon Musk's Tweet\"\n",
    "    },\n",
    "    {\n",
    "        \"start\": \"2020-03-02\",\n",
    "        \"end\": \"2020-03-30\",\n",
    "        \"news\": \"Covid-19\"\n",
    "    }\n",
    "    \n",
    "])"
   ]
  },
  {
   "cell_type": "code",
   "execution_count": 380,
   "metadata": {},
   "outputs": [],
   "source": [
    "event = alt.Chart(bitcoin_news).mark_rule(\n",
    "    color=\"lightgray\",\n",
    "    strokeWidth=20,\n",
    "    opacity = 0.4,\n",
    ").encode(\n",
    "    x='start:T'\n",
    ").transform_filter(alt.datum.news == \"Elon Musk's Tweet\")"
   ]
  },
  {
   "cell_type": "code",
   "execution_count": 381,
   "metadata": {},
   "outputs": [],
   "source": [
    "event2 = alt.Chart(bitcoin_news).mark_rule(\n",
    "    color=\"lightred\",\n",
    "    strokeWidth=40,\n",
    "    opacity = 0.4,\n",
    ").encode(\n",
    "    x= alt.X('start:T', title = 'Date'),\n",
    ").transform_filter(alt.datum.news == \"Covid-19\")"
   ]
  },
  {
   "cell_type": "code",
   "execution_count": 382,
   "metadata": {},
   "outputs": [],
   "source": [
    "event3 = alt.Chart(bitcoin_news).mark_rule(\n",
    "    color=\"lightred\",\n",
    "    strokeWidth=30,\n",
    "    opacity = 0.4\n",
    ").encode(\n",
    "    x= alt.X('start:T', title = 'Date'),\n",
    ").transform_filter(alt.datum.news == \"FBI Ransonware Crypto\")"
   ]
  },
  {
   "cell_type": "code",
   "execution_count": 383,
   "metadata": {},
   "outputs": [],
   "source": [
    "\n",
    "text = alt.Chart(bitcoin_news).mark_text(\n",
    "    align='right',\n",
    "    baseline='middle',\n",
    "    dx=7,\n",
    "    dy=-135,\n",
    "    size=11\n",
    ").encode(\n",
    "    x='start:T',\n",
    "    x2='end:T',\n",
    "    text='news',\n",
    "    color=alt.value('#000000'),\n",
    "    opacity=alt.value(1.0)\n",
    ")"
   ]
  },
  {
   "cell_type": "code",
   "execution_count": 390,
   "metadata": {},
   "outputs": [],
   "source": [
    "schart = alt.Chart(df[df.Symbol == 'BTC-USD'].tail(plot_range)).mark_bar().encode(\n",
    "    x = alt.X('Date:T', axis = alt.Axis(format = (\"%b %Y\"))),\n",
    "    y = alt.Y('Returns:Q'),\n",
    "    opacity=alt.value(1.0),\n",
    "    tooltip = ['Date:T'],\n",
    "    color = alt.Color('LossGain:N', legend=alt.Legend(title='Returns'))\n",
    ").properties(width = 700, title='BTC Daily Returns Trend')\n"
   ]
  },
  {
   "cell_type": "code",
   "execution_count": 391,
   "metadata": {},
   "outputs": [
    {
     "data": {
      "text/html": [
       "\n",
       "<div id=\"altair-viz-c4ba5e0b24ce431a967bed4f13031941\"></div>\n",
       "<script type=\"text/javascript\">\n",
       "  (function(spec, embedOpt){\n",
       "    let outputDiv = document.currentScript.previousElementSibling;\n",
       "    if (outputDiv.id !== \"altair-viz-c4ba5e0b24ce431a967bed4f13031941\") {\n",
       "      outputDiv = document.getElementById(\"altair-viz-c4ba5e0b24ce431a967bed4f13031941\");\n",
       "    }\n",
       "    const paths = {\n",
       "      \"vega\": \"https://cdn.jsdelivr.net/npm//vega@5?noext\",\n",
       "      \"vega-lib\": \"https://cdn.jsdelivr.net/npm//vega-lib?noext\",\n",
       "      \"vega-lite\": \"https://cdn.jsdelivr.net/npm//vega-lite@4.8.1?noext\",\n",
       "      \"vega-embed\": \"https://cdn.jsdelivr.net/npm//vega-embed@6?noext\",\n",
       "    };\n",
       "\n",
       "    function loadScript(lib) {\n",
       "      return new Promise(function(resolve, reject) {\n",
       "        var s = document.createElement('script');\n",
       "        s.src = paths[lib];\n",
       "        s.async = true;\n",
       "        s.onload = () => resolve(paths[lib]);\n",
       "        s.onerror = () => reject(`Error loading script: ${paths[lib]}`);\n",
       "        document.getElementsByTagName(\"head\")[0].appendChild(s);\n",
       "      });\n",
       "    }\n",
       "\n",
       "    function showError(err) {\n",
       "      outputDiv.innerHTML = `<div class=\"error\" style=\"color:red;\">${err}</div>`;\n",
       "      throw err;\n",
       "    }\n",
       "\n",
       "    function displayChart(vegaEmbed) {\n",
       "      vegaEmbed(outputDiv, spec, embedOpt)\n",
       "        .catch(err => showError(`Javascript Error: ${err.message}<br>This usually means there's a typo in your chart specification. See the javascript console for the full traceback.`));\n",
       "    }\n",
       "\n",
       "    if(typeof define === \"function\" && define.amd) {\n",
       "      requirejs.config({paths});\n",
       "      require([\"vega-embed\"], displayChart, err => showError(`Error loading script: ${err.message}`));\n",
       "    } else if (typeof vegaEmbed === \"function\") {\n",
       "      displayChart(vegaEmbed);\n",
       "    } else {\n",
       "      loadScript(\"vega\")\n",
       "        .then(() => loadScript(\"vega-lite\"))\n",
       "        .then(() => loadScript(\"vega-embed\"))\n",
       "        .catch(showError)\n",
       "        .then(() => displayChart(vegaEmbed));\n",
       "    }\n",
       "  })({\"config\": {\"view\": {\"continuousWidth\": 400, \"continuousHeight\": 300}}, \"layer\": [{\"mark\": {\"type\": \"rule\", \"color\": \"lightgray\", \"opacity\": 0.4, \"strokeWidth\": 20}, \"encoding\": {\"x\": {\"type\": \"temporal\", \"field\": \"start\"}}, \"transform\": [{\"filter\": \"(datum.news === \\\"Elon Musk's Tweet\\\")\"}]}, {\"mark\": {\"type\": \"rule\", \"color\": \"lightred\", \"opacity\": 0.4, \"strokeWidth\": 40}, \"encoding\": {\"x\": {\"type\": \"temporal\", \"field\": \"start\", \"title\": \"Date\"}}, \"transform\": [{\"filter\": \"(datum.news === 'Covid-19')\"}]}, {\"mark\": {\"type\": \"rule\", \"color\": \"lightred\", \"opacity\": 0.4, \"strokeWidth\": 30}, \"encoding\": {\"x\": {\"type\": \"temporal\", \"field\": \"start\", \"title\": \"Date\"}}, \"transform\": [{\"filter\": \"(datum.news === 'FBI Ransonware Crypto')\"}]}, {\"mark\": {\"type\": \"text\", \"align\": \"right\", \"baseline\": \"middle\", \"dx\": 7, \"dy\": -135, \"size\": 11}, \"encoding\": {\"color\": {\"value\": \"#000000\"}, \"opacity\": {\"value\": 1.0}, \"text\": {\"type\": \"nominal\", \"field\": \"news\"}, \"x\": {\"type\": \"temporal\", \"field\": \"start\"}, \"x2\": {\"field\": \"end\"}}}, {\"data\": {\"url\": \"http://localhost:19425/caf08d1c6f4787044c4a0471a9d22a5c.json\"}, \"mark\": \"bar\", \"encoding\": {\"color\": {\"type\": \"nominal\", \"field\": \"LossGain\", \"legend\": {\"title\": \"Returns\"}}, \"opacity\": {\"value\": 1.0}, \"tooltip\": [{\"type\": \"temporal\", \"field\": \"Date\"}], \"x\": {\"type\": \"temporal\", \"axis\": {\"format\": \"%b %Y\"}, \"field\": \"Date\"}, \"y\": {\"type\": \"quantitative\", \"field\": \"Returns\"}}, \"title\": \"BTC Daily Returns Trend\", \"width\": 700}], \"data\": {\"url\": \"http://localhost:19425/94920634523199a76ea28ce84857da24.json\"}, \"$schema\": \"https://vega.github.io/schema/vega-lite/v4.8.1.json\"}, {\"mode\": \"vega-lite\"});\n",
       "</script>"
      ],
      "text/plain": [
       "alt.LayerChart(...)"
      ]
     },
     "execution_count": 391,
     "metadata": {},
     "output_type": "execute_result"
    }
   ],
   "source": [
    "event + event2 + event3 + text + schart"
   ]
  },
  {
   "cell_type": "markdown",
   "metadata": {},
   "source": [
    "### What could be improved about this view:\n",
    "\n",
    "We use heatmap to pinpoint any specific event that might cause the spike in Bitcoin price movement.\n"
   ]
  },
  {
   "cell_type": "code",
   "execution_count": 392,
   "metadata": {},
   "outputs": [
    {
     "data": {
      "text/html": [
       "\n",
       "<div id=\"altair-viz-1c9fdf6533274dfc8eec2c12ba746aa3\"></div>\n",
       "<script type=\"text/javascript\">\n",
       "  (function(spec, embedOpt){\n",
       "    let outputDiv = document.currentScript.previousElementSibling;\n",
       "    if (outputDiv.id !== \"altair-viz-1c9fdf6533274dfc8eec2c12ba746aa3\") {\n",
       "      outputDiv = document.getElementById(\"altair-viz-1c9fdf6533274dfc8eec2c12ba746aa3\");\n",
       "    }\n",
       "    const paths = {\n",
       "      \"vega\": \"https://cdn.jsdelivr.net/npm//vega@5?noext\",\n",
       "      \"vega-lib\": \"https://cdn.jsdelivr.net/npm//vega-lib?noext\",\n",
       "      \"vega-lite\": \"https://cdn.jsdelivr.net/npm//vega-lite@4.8.1?noext\",\n",
       "      \"vega-embed\": \"https://cdn.jsdelivr.net/npm//vega-embed@6?noext\",\n",
       "    };\n",
       "\n",
       "    function loadScript(lib) {\n",
       "      return new Promise(function(resolve, reject) {\n",
       "        var s = document.createElement('script');\n",
       "        s.src = paths[lib];\n",
       "        s.async = true;\n",
       "        s.onload = () => resolve(paths[lib]);\n",
       "        s.onerror = () => reject(`Error loading script: ${paths[lib]}`);\n",
       "        document.getElementsByTagName(\"head\")[0].appendChild(s);\n",
       "      });\n",
       "    }\n",
       "\n",
       "    function showError(err) {\n",
       "      outputDiv.innerHTML = `<div class=\"error\" style=\"color:red;\">${err}</div>`;\n",
       "      throw err;\n",
       "    }\n",
       "\n",
       "    function displayChart(vegaEmbed) {\n",
       "      vegaEmbed(outputDiv, spec, embedOpt)\n",
       "        .catch(err => showError(`Javascript Error: ${err.message}<br>This usually means there's a typo in your chart specification. See the javascript console for the full traceback.`));\n",
       "    }\n",
       "\n",
       "    if(typeof define === \"function\" && define.amd) {\n",
       "      requirejs.config({paths});\n",
       "      require([\"vega-embed\"], displayChart, err => showError(`Error loading script: ${err.message}`));\n",
       "    } else if (typeof vegaEmbed === \"function\") {\n",
       "      displayChart(vegaEmbed);\n",
       "    } else {\n",
       "      loadScript(\"vega\")\n",
       "        .then(() => loadScript(\"vega-lite\"))\n",
       "        .then(() => loadScript(\"vega-embed\"))\n",
       "        .catch(showError)\n",
       "        .then(() => displayChart(vegaEmbed));\n",
       "    }\n",
       "  })({\"config\": {\"view\": {\"continuousWidth\": 400, \"continuousHeight\": 300}}, \"data\": {\"url\": \"http://localhost:19425/70ad95879733f0ee6af94a8cb5c6fe93.json\"}, \"mark\": \"rect\", \"encoding\": {\"color\": {\"type\": \"quantitative\", \"field\": \"ATR\"}, \"x\": {\"type\": \"ordinal\", \"field\": \"Date\", \"timeUnit\": \"date\"}, \"y\": {\"type\": \"ordinal\", \"field\": \"Date\", \"timeUnit\": \"month\"}}, \"title\": \"Bitcoin ATR Heatmap by Day and Month\", \"$schema\": \"https://vega.github.io/schema/vega-lite/v4.8.1.json\"}, {\"mode\": \"vega-lite\"});\n",
       "</script>"
      ],
      "text/plain": [
       "alt.Chart(...)"
      ]
     },
     "execution_count": 392,
     "metadata": {},
     "output_type": "execute_result"
    }
   ],
   "source": [
    "alt.Chart(df[df.Symbol == 'BTC-USD']).mark_rect().encode(\n",
    "    x = alt.X('date(Date):O'),\n",
    "    y = alt.Y('month(Date):O'),\n",
    "    color = alt.Color('ATR:Q')\n",
    ").properties(title = 'Bitcoin ATR Heatmap by Day and Month')\n"
   ]
  },
  {
   "cell_type": "code",
   "execution_count": 73,
   "metadata": {},
   "outputs": [
    {
     "data": {
      "text/html": [
       "\n",
       "<div id=\"altair-viz-c5541f4e2b4942e6906b48147bf3aaaf\"></div>\n",
       "<script type=\"text/javascript\">\n",
       "  (function(spec, embedOpt){\n",
       "    let outputDiv = document.currentScript.previousElementSibling;\n",
       "    if (outputDiv.id !== \"altair-viz-c5541f4e2b4942e6906b48147bf3aaaf\") {\n",
       "      outputDiv = document.getElementById(\"altair-viz-c5541f4e2b4942e6906b48147bf3aaaf\");\n",
       "    }\n",
       "    const paths = {\n",
       "      \"vega\": \"https://cdn.jsdelivr.net/npm//vega@5?noext\",\n",
       "      \"vega-lib\": \"https://cdn.jsdelivr.net/npm//vega-lib?noext\",\n",
       "      \"vega-lite\": \"https://cdn.jsdelivr.net/npm//vega-lite@4.8.1?noext\",\n",
       "      \"vega-embed\": \"https://cdn.jsdelivr.net/npm//vega-embed@6?noext\",\n",
       "    };\n",
       "\n",
       "    function loadScript(lib) {\n",
       "      return new Promise(function(resolve, reject) {\n",
       "        var s = document.createElement('script');\n",
       "        s.src = paths[lib];\n",
       "        s.async = true;\n",
       "        s.onload = () => resolve(paths[lib]);\n",
       "        s.onerror = () => reject(`Error loading script: ${paths[lib]}`);\n",
       "        document.getElementsByTagName(\"head\")[0].appendChild(s);\n",
       "      });\n",
       "    }\n",
       "\n",
       "    function showError(err) {\n",
       "      outputDiv.innerHTML = `<div class=\"error\" style=\"color:red;\">${err}</div>`;\n",
       "      throw err;\n",
       "    }\n",
       "\n",
       "    function displayChart(vegaEmbed) {\n",
       "      vegaEmbed(outputDiv, spec, embedOpt)\n",
       "        .catch(err => showError(`Javascript Error: ${err.message}<br>This usually means there's a typo in your chart specification. See the javascript console for the full traceback.`));\n",
       "    }\n",
       "\n",
       "    if(typeof define === \"function\" && define.amd) {\n",
       "      requirejs.config({paths});\n",
       "      require([\"vega-embed\"], displayChart, err => showError(`Error loading script: ${err.message}`));\n",
       "    } else if (typeof vegaEmbed === \"function\") {\n",
       "      displayChart(vegaEmbed);\n",
       "    } else {\n",
       "      loadScript(\"vega\")\n",
       "        .then(() => loadScript(\"vega-lite\"))\n",
       "        .then(() => loadScript(\"vega-embed\"))\n",
       "        .catch(showError)\n",
       "        .then(() => displayChart(vegaEmbed));\n",
       "    }\n",
       "  })({\"config\": {\"view\": {\"continuousWidth\": 400, \"continuousHeight\": 300}}, \"data\": {\"url\": \"http://localhost:19425/285ebef52e988f9e66909a79060fdd44.json\"}, \"mark\": \"rect\", \"encoding\": {\"color\": {\"type\": \"quantitative\", \"field\": \"Returns\"}, \"x\": {\"type\": \"ordinal\", \"field\": \"Date\", \"timeUnit\": \"date\"}, \"y\": {\"type\": \"ordinal\", \"field\": \"Date\", \"timeUnit\": \"month\"}}, \"title\": \"BTC Returns Heatmap by Day and Month\", \"$schema\": \"https://vega.github.io/schema/vega-lite/v4.8.1.json\"}, {\"mode\": \"vega-lite\"});\n",
       "</script>"
      ],
      "text/plain": [
       "alt.Chart(...)"
      ]
     },
     "execution_count": 73,
     "metadata": {},
     "output_type": "execute_result"
    }
   ],
   "source": [
    "alt.Chart(df[df.Symbol == 'BTC-USD']).mark_rect().encode(\n",
    "    x = alt.X('date(Date):O'),\n",
    "    y = alt.Y('month(Date):O'),\n",
    "    color = alt.Color('Returns:Q')\n",
    ").properties(title = 'BTC Returns Heatmap by Day and Month')\n"
   ]
  },
  {
   "cell_type": "code",
   "execution_count": 74,
   "metadata": {},
   "outputs": [
    {
     "data": {
      "text/html": [
       "\n",
       "<div id=\"altair-viz-a94fe40bcb7f4afa9fd24e7058d0b5bc\"></div>\n",
       "<script type=\"text/javascript\">\n",
       "  (function(spec, embedOpt){\n",
       "    let outputDiv = document.currentScript.previousElementSibling;\n",
       "    if (outputDiv.id !== \"altair-viz-a94fe40bcb7f4afa9fd24e7058d0b5bc\") {\n",
       "      outputDiv = document.getElementById(\"altair-viz-a94fe40bcb7f4afa9fd24e7058d0b5bc\");\n",
       "    }\n",
       "    const paths = {\n",
       "      \"vega\": \"https://cdn.jsdelivr.net/npm//vega@5?noext\",\n",
       "      \"vega-lib\": \"https://cdn.jsdelivr.net/npm//vega-lib?noext\",\n",
       "      \"vega-lite\": \"https://cdn.jsdelivr.net/npm//vega-lite@4.8.1?noext\",\n",
       "      \"vega-embed\": \"https://cdn.jsdelivr.net/npm//vega-embed@6?noext\",\n",
       "    };\n",
       "\n",
       "    function loadScript(lib) {\n",
       "      return new Promise(function(resolve, reject) {\n",
       "        var s = document.createElement('script');\n",
       "        s.src = paths[lib];\n",
       "        s.async = true;\n",
       "        s.onload = () => resolve(paths[lib]);\n",
       "        s.onerror = () => reject(`Error loading script: ${paths[lib]}`);\n",
       "        document.getElementsByTagName(\"head\")[0].appendChild(s);\n",
       "      });\n",
       "    }\n",
       "\n",
       "    function showError(err) {\n",
       "      outputDiv.innerHTML = `<div class=\"error\" style=\"color:red;\">${err}</div>`;\n",
       "      throw err;\n",
       "    }\n",
       "\n",
       "    function displayChart(vegaEmbed) {\n",
       "      vegaEmbed(outputDiv, spec, embedOpt)\n",
       "        .catch(err => showError(`Javascript Error: ${err.message}<br>This usually means there's a typo in your chart specification. See the javascript console for the full traceback.`));\n",
       "    }\n",
       "\n",
       "    if(typeof define === \"function\" && define.amd) {\n",
       "      requirejs.config({paths});\n",
       "      require([\"vega-embed\"], displayChart, err => showError(`Error loading script: ${err.message}`));\n",
       "    } else if (typeof vegaEmbed === \"function\") {\n",
       "      displayChart(vegaEmbed);\n",
       "    } else {\n",
       "      loadScript(\"vega\")\n",
       "        .then(() => loadScript(\"vega-lite\"))\n",
       "        .then(() => loadScript(\"vega-embed\"))\n",
       "        .catch(showError)\n",
       "        .then(() => displayChart(vegaEmbed));\n",
       "    }\n",
       "  })({\"config\": {\"view\": {\"continuousWidth\": 400, \"continuousHeight\": 300}}, \"data\": {\"url\": \"http://localhost:19425/285ebef52e988f9e66909a79060fdd44.json\"}, \"mark\": \"rect\", \"encoding\": {\"color\": {\"type\": \"quantitative\", \"field\": \"Returns\"}, \"x\": {\"type\": \"ordinal\", \"field\": \"Date\", \"timeUnit\": \"month\"}, \"y\": {\"type\": \"ordinal\", \"field\": \"Date\", \"timeUnit\": \"day\"}}, \"title\": \"Returns Heatmap by Hours and Day of the Week\", \"$schema\": \"https://vega.github.io/schema/vega-lite/v4.8.1.json\"}, {\"mode\": \"vega-lite\"});\n",
       "</script>"
      ],
      "text/plain": [
       "alt.Chart(...)"
      ]
     },
     "execution_count": 74,
     "metadata": {},
     "output_type": "execute_result"
    }
   ],
   "source": [
    "alt.Chart(df[df.Symbol == 'BTC-USD']).mark_rect().encode(\n",
    "    y = alt.Y('day(Date):O'),\n",
    "    x = alt.X('month(Date):O'),\n",
    "    color = alt.Color('Returns:Q')\n",
    ").properties(title = 'Returns Heatmap by Hours and Day of the Week')\n"
   ]
  },
  {
   "cell_type": "code",
   "execution_count": 75,
   "metadata": {},
   "outputs": [
    {
     "data": {
      "text/html": [
       "\n",
       "<div id=\"altair-viz-4e65d09bf209488caa9ff8b78f877404\"></div>\n",
       "<script type=\"text/javascript\">\n",
       "  (function(spec, embedOpt){\n",
       "    let outputDiv = document.currentScript.previousElementSibling;\n",
       "    if (outputDiv.id !== \"altair-viz-4e65d09bf209488caa9ff8b78f877404\") {\n",
       "      outputDiv = document.getElementById(\"altair-viz-4e65d09bf209488caa9ff8b78f877404\");\n",
       "    }\n",
       "    const paths = {\n",
       "      \"vega\": \"https://cdn.jsdelivr.net/npm//vega@5?noext\",\n",
       "      \"vega-lib\": \"https://cdn.jsdelivr.net/npm//vega-lib?noext\",\n",
       "      \"vega-lite\": \"https://cdn.jsdelivr.net/npm//vega-lite@4.8.1?noext\",\n",
       "      \"vega-embed\": \"https://cdn.jsdelivr.net/npm//vega-embed@6?noext\",\n",
       "    };\n",
       "\n",
       "    function loadScript(lib) {\n",
       "      return new Promise(function(resolve, reject) {\n",
       "        var s = document.createElement('script');\n",
       "        s.src = paths[lib];\n",
       "        s.async = true;\n",
       "        s.onload = () => resolve(paths[lib]);\n",
       "        s.onerror = () => reject(`Error loading script: ${paths[lib]}`);\n",
       "        document.getElementsByTagName(\"head\")[0].appendChild(s);\n",
       "      });\n",
       "    }\n",
       "\n",
       "    function showError(err) {\n",
       "      outputDiv.innerHTML = `<div class=\"error\" style=\"color:red;\">${err}</div>`;\n",
       "      throw err;\n",
       "    }\n",
       "\n",
       "    function displayChart(vegaEmbed) {\n",
       "      vegaEmbed(outputDiv, spec, embedOpt)\n",
       "        .catch(err => showError(`Javascript Error: ${err.message}<br>This usually means there's a typo in your chart specification. See the javascript console for the full traceback.`));\n",
       "    }\n",
       "\n",
       "    if(typeof define === \"function\" && define.amd) {\n",
       "      requirejs.config({paths});\n",
       "      require([\"vega-embed\"], displayChart, err => showError(`Error loading script: ${err.message}`));\n",
       "    } else if (typeof vegaEmbed === \"function\") {\n",
       "      displayChart(vegaEmbed);\n",
       "    } else {\n",
       "      loadScript(\"vega\")\n",
       "        .then(() => loadScript(\"vega-lite\"))\n",
       "        .then(() => loadScript(\"vega-embed\"))\n",
       "        .catch(showError)\n",
       "        .then(() => displayChart(vegaEmbed));\n",
       "    }\n",
       "  })({\"config\": {\"view\": {\"continuousWidth\": 400, \"continuousHeight\": 300}}, \"data\": {\"url\": \"http://localhost:19425/8767b55ccb1a31965f911f94acb440d5.json\"}, \"mark\": \"circle\", \"encoding\": {\"color\": {\"type\": \"nominal\", \"field\": \"Symbol\"}, \"x\": {\"type\": \"quantitative\", \"field\": \"ATR\"}, \"y\": {\"type\": \"quantitative\", \"field\": \"Returns\"}}, \"title\": \"BTC VS Down Jone (In Terms of Return VS Volatility)\", \"width\": 700, \"$schema\": \"https://vega.github.io/schema/vega-lite/v4.8.1.json\"}, {\"mode\": \"vega-lite\"});\n",
       "</script>"
      ],
      "text/plain": [
       "alt.Chart(...)"
      ]
     },
     "execution_count": 75,
     "metadata": {},
     "output_type": "execute_result"
    }
   ],
   "source": [
    "alt.Chart(df[df.Symbol.isin(['BTC-USD','^DJI'])]).mark_circle().encode(\n",
    "    x = alt.X('ATR:Q'),\n",
    "    y = alt.Y('Returns:Q'),\n",
    "    color = 'Symbol:N'  \n",
    ").properties(width = 700, title='BTC VS Down Jone (In Terms of Return VS Volatility)')\n"
   ]
  },
  {
   "cell_type": "markdown",
   "metadata": {},
   "source": [
    "### What could be improved about this view:\n",
    "\n",
    "The detailed candlestick chart is plotted to compare Bitcoin Versus Gold market as both of the commodities are highly driven by events such as government policy. As shown in the charts below, both of them are moving in the opposite direction. "
   ]
  },
  {
   "cell_type": "code",
   "execution_count": 76,
   "metadata": {},
   "outputs": [],
   "source": [
    "# Candlestick plot for short term price movement analysis\n",
    "\n",
    "plot_range = 100\n",
    "\n",
    "open_close_color = alt.condition(\"datum.Open <= datum.Close\",\n",
    "                                 alt.value(\"#06982d\"),\n",
    "                                 alt.value(\"#ae1325\"))\n",
    "\n",
    "base = alt.Chart(df[df.Symbol == 'BTC-USD'].tail(plot_range)).encode(\n",
    "    x = alt.X('Date:T',\n",
    "          axis=alt.Axis(\n",
    "              format='%m/%d',\n",
    "              labelAngle=-45,\n",
    "              title='Date'\n",
    "          )\n",
    "    ),\n",
    "    color=open_close_color\n",
    ").properties(title = 'BTC 3-month Candlestick Chart', width = 700)\n",
    "\n",
    "rule = base.mark_rule().encode(\n",
    "    y = alt.Y(\n",
    "        'Low:Q',\n",
    "        title='Price',\n",
    "        scale=alt.Scale(zero=False),\n",
    "    ),\n",
    "    y2 = alt.Y2('High:Q')\n",
    ")\n",
    "\n",
    "line = base.mark_line(color='lightgreen').encode(y = alt.Y('MA50:Q'))\n",
    "line2 = base.mark_line(color='red').encode(y = alt.Y('MA100:Q'))\n",
    "\n",
    "bar = base.mark_bar().encode(\n",
    "    y = alt.Y('Open:Q'),\n",
    "    y2 = alt.Y2('Close:Q')\n",
    ")\n",
    "\n",
    "BTC = (rule + bar + line + line2)"
   ]
  },
  {
   "cell_type": "code",
   "execution_count": 77,
   "metadata": {},
   "outputs": [],
   "source": [
    "# Candlestick plot for short term price movement analysis\n",
    "\n",
    "plot_range = 100\n",
    "\n",
    "open_close_color = alt.condition(\"datum.Open <= datum.Close\",\n",
    "                                 alt.value(\"#06982d\"),\n",
    "                                 alt.value(\"#ae1325\"))\n",
    "\n",
    "base = alt.Chart(df[df.Symbol == 'ETH-USD'].tail(plot_range)).encode(\n",
    "    x = alt.X('Date:T',\n",
    "          axis=alt.Axis(\n",
    "              format='%m/%d',\n",
    "              labelAngle=-45,\n",
    "              title='Date'\n",
    "          )\n",
    "    ),\n",
    "    color=open_close_color\n",
    ").properties(title = 'ETH 3-month Candlestick Chart', width = 700)\n",
    "\n",
    "rule = base.mark_rule().encode(\n",
    "    y = alt.Y(\n",
    "        'Low:Q',\n",
    "        title='Price',\n",
    "        scale=alt.Scale(zero=False),\n",
    "    ),\n",
    "    y2 = alt.Y2('High:Q')\n",
    ")\n",
    "\n",
    "line = base.mark_line(color='lightgreen').encode(y = alt.Y('MA50:Q'))\n",
    "line2 = base.mark_line(color='red').encode(y = alt.Y('MA100:Q'))\n",
    "\n",
    "bar = base.mark_bar().encode(\n",
    "    y = alt.Y('Open:Q'),\n",
    "    y2 = alt.Y2('Close:Q')\n",
    ")\n",
    "\n",
    "ETH = (rule + bar + line + line2)"
   ]
  },
  {
   "cell_type": "code",
   "execution_count": 78,
   "metadata": {},
   "outputs": [
    {
     "data": {
      "text/html": [
       "\n",
       "<div id=\"altair-viz-85d50c74db8b45ad94f9444fc318e0d0\"></div>\n",
       "<script type=\"text/javascript\">\n",
       "  (function(spec, embedOpt){\n",
       "    let outputDiv = document.currentScript.previousElementSibling;\n",
       "    if (outputDiv.id !== \"altair-viz-85d50c74db8b45ad94f9444fc318e0d0\") {\n",
       "      outputDiv = document.getElementById(\"altair-viz-85d50c74db8b45ad94f9444fc318e0d0\");\n",
       "    }\n",
       "    const paths = {\n",
       "      \"vega\": \"https://cdn.jsdelivr.net/npm//vega@5?noext\",\n",
       "      \"vega-lib\": \"https://cdn.jsdelivr.net/npm//vega-lib?noext\",\n",
       "      \"vega-lite\": \"https://cdn.jsdelivr.net/npm//vega-lite@4.8.1?noext\",\n",
       "      \"vega-embed\": \"https://cdn.jsdelivr.net/npm//vega-embed@6?noext\",\n",
       "    };\n",
       "\n",
       "    function loadScript(lib) {\n",
       "      return new Promise(function(resolve, reject) {\n",
       "        var s = document.createElement('script');\n",
       "        s.src = paths[lib];\n",
       "        s.async = true;\n",
       "        s.onload = () => resolve(paths[lib]);\n",
       "        s.onerror = () => reject(`Error loading script: ${paths[lib]}`);\n",
       "        document.getElementsByTagName(\"head\")[0].appendChild(s);\n",
       "      });\n",
       "    }\n",
       "\n",
       "    function showError(err) {\n",
       "      outputDiv.innerHTML = `<div class=\"error\" style=\"color:red;\">${err}</div>`;\n",
       "      throw err;\n",
       "    }\n",
       "\n",
       "    function displayChart(vegaEmbed) {\n",
       "      vegaEmbed(outputDiv, spec, embedOpt)\n",
       "        .catch(err => showError(`Javascript Error: ${err.message}<br>This usually means there's a typo in your chart specification. See the javascript console for the full traceback.`));\n",
       "    }\n",
       "\n",
       "    if(typeof define === \"function\" && define.amd) {\n",
       "      requirejs.config({paths});\n",
       "      require([\"vega-embed\"], displayChart, err => showError(`Error loading script: ${err.message}`));\n",
       "    } else if (typeof vegaEmbed === \"function\") {\n",
       "      displayChart(vegaEmbed);\n",
       "    } else {\n",
       "      loadScript(\"vega\")\n",
       "        .then(() => loadScript(\"vega-lite\"))\n",
       "        .then(() => loadScript(\"vega-embed\"))\n",
       "        .catch(showError)\n",
       "        .then(() => displayChart(vegaEmbed));\n",
       "    }\n",
       "  })({\"config\": {\"view\": {\"continuousWidth\": 400, \"continuousHeight\": 300}}, \"vconcat\": [{\"layer\": [{\"mark\": \"rule\", \"encoding\": {\"color\": {\"condition\": {\"value\": \"#06982d\", \"test\": \"datum.Open <= datum.Close\"}, \"value\": \"#ae1325\"}, \"x\": {\"type\": \"temporal\", \"axis\": {\"format\": \"%m/%d\", \"labelAngle\": -45, \"title\": \"Date\"}, \"field\": \"Date\"}, \"y\": {\"type\": \"quantitative\", \"field\": \"Low\", \"scale\": {\"zero\": false}, \"title\": \"Price\"}, \"y2\": {\"field\": \"High\"}}, \"title\": \"BTC 3-month Candlestick Chart\", \"width\": 700}, {\"mark\": \"bar\", \"encoding\": {\"color\": {\"condition\": {\"value\": \"#06982d\", \"test\": \"datum.Open <= datum.Close\"}, \"value\": \"#ae1325\"}, \"x\": {\"type\": \"temporal\", \"axis\": {\"format\": \"%m/%d\", \"labelAngle\": -45, \"title\": \"Date\"}, \"field\": \"Date\"}, \"y\": {\"type\": \"quantitative\", \"field\": \"Open\"}, \"y2\": {\"field\": \"Close\"}}, \"title\": \"BTC 3-month Candlestick Chart\", \"width\": 700}, {\"mark\": {\"type\": \"line\", \"color\": \"lightgreen\"}, \"encoding\": {\"color\": {\"condition\": {\"value\": \"#06982d\", \"test\": \"datum.Open <= datum.Close\"}, \"value\": \"#ae1325\"}, \"x\": {\"type\": \"temporal\", \"axis\": {\"format\": \"%m/%d\", \"labelAngle\": -45, \"title\": \"Date\"}, \"field\": \"Date\"}, \"y\": {\"type\": \"quantitative\", \"field\": \"MA50\"}}, \"title\": \"BTC 3-month Candlestick Chart\", \"width\": 700}, {\"mark\": {\"type\": \"line\", \"color\": \"red\"}, \"encoding\": {\"color\": {\"condition\": {\"value\": \"#06982d\", \"test\": \"datum.Open <= datum.Close\"}, \"value\": \"#ae1325\"}, \"x\": {\"type\": \"temporal\", \"axis\": {\"format\": \"%m/%d\", \"labelAngle\": -45, \"title\": \"Date\"}, \"field\": \"Date\"}, \"y\": {\"type\": \"quantitative\", \"field\": \"MA100\"}}, \"title\": \"BTC 3-month Candlestick Chart\", \"width\": 700}], \"data\": {\"url\": \"http://localhost:19425/e66cb735aa02c166b5b332669d2467db.json\"}}, {\"layer\": [{\"mark\": \"rule\", \"encoding\": {\"color\": {\"condition\": {\"value\": \"#06982d\", \"test\": \"datum.Open <= datum.Close\"}, \"value\": \"#ae1325\"}, \"x\": {\"type\": \"temporal\", \"axis\": {\"format\": \"%m/%d\", \"labelAngle\": -45, \"title\": \"Date\"}, \"field\": \"Date\"}, \"y\": {\"type\": \"quantitative\", \"field\": \"Low\", \"scale\": {\"zero\": false}, \"title\": \"Price\"}, \"y2\": {\"field\": \"High\"}}, \"title\": \"GOLD 3-month Candlestick Chart\", \"width\": 700}, {\"mark\": \"bar\", \"encoding\": {\"color\": {\"condition\": {\"value\": \"#06982d\", \"test\": \"datum.Open <= datum.Close\"}, \"value\": \"#ae1325\"}, \"x\": {\"type\": \"temporal\", \"axis\": {\"format\": \"%m/%d\", \"labelAngle\": -45, \"title\": \"Date\"}, \"field\": \"Date\"}, \"y\": {\"type\": \"quantitative\", \"field\": \"Open\"}, \"y2\": {\"field\": \"Close\"}}, \"title\": \"GOLD 3-month Candlestick Chart\", \"width\": 700}, {\"mark\": {\"type\": \"line\", \"color\": \"lightgreen\"}, \"encoding\": {\"color\": {\"condition\": {\"value\": \"#06982d\", \"test\": \"datum.Open <= datum.Close\"}, \"value\": \"#ae1325\"}, \"x\": {\"type\": \"temporal\", \"axis\": {\"format\": \"%m/%d\", \"labelAngle\": -45, \"title\": \"Date\"}, \"field\": \"Date\"}, \"y\": {\"type\": \"quantitative\", \"field\": \"MA50\"}}, \"title\": \"GOLD 3-month Candlestick Chart\", \"width\": 700}, {\"mark\": {\"type\": \"line\", \"color\": \"red\"}, \"encoding\": {\"color\": {\"condition\": {\"value\": \"#06982d\", \"test\": \"datum.Open <= datum.Close\"}, \"value\": \"#ae1325\"}, \"x\": {\"type\": \"temporal\", \"axis\": {\"format\": \"%m/%d\", \"labelAngle\": -45, \"title\": \"Date\"}, \"field\": \"Date\"}, \"y\": {\"type\": \"quantitative\", \"field\": \"MA100\"}}, \"title\": \"GOLD 3-month Candlestick Chart\", \"width\": 700}], \"data\": {\"url\": \"http://localhost:19425/6d4daab72bdb6631949222e815b1bcd3.json\"}}], \"$schema\": \"https://vega.github.io/schema/vega-lite/v4.8.1.json\"}, {\"mode\": \"vega-lite\"});\n",
       "</script>"
      ],
      "text/plain": [
       "alt.VConcatChart(...)"
      ]
     },
     "execution_count": 78,
     "metadata": {},
     "output_type": "execute_result"
    }
   ],
   "source": [
    "# Candlestick plot for short term price movement analysis\n",
    "\n",
    "plot_range = 100\n",
    "\n",
    "open_close_color = alt.condition(\"datum.Open <= datum.Close\",\n",
    "                                 alt.value(\"#06982d\"),\n",
    "                                 alt.value(\"#ae1325\"))\n",
    "\n",
    "base = alt.Chart(df[df.Symbol == 'GC=F'].tail(plot_range)).encode(\n",
    "    x = alt.X('Date:T',\n",
    "          axis=alt.Axis(\n",
    "              format='%m/%d',\n",
    "              labelAngle=-45,\n",
    "              title='Date'\n",
    "          )\n",
    "    ),\n",
    "    color=open_close_color\n",
    ").properties(title = 'GOLD 3-month Candlestick Chart', width = 700)\n",
    "\n",
    "rule = base.mark_rule().encode(\n",
    "    y = alt.Y(\n",
    "        'Low:Q',\n",
    "        title='Price',\n",
    "        scale=alt.Scale(zero=False),\n",
    "    ),\n",
    "    y2 = alt.Y2('High:Q')\n",
    ")\n",
    "\n",
    "line = base.mark_line(color='lightgreen').encode(y = alt.Y('MA50:Q'))\n",
    "line2 = base.mark_line(color='red').encode(y = alt.Y('MA100:Q'))\n",
    "\n",
    "bar = base.mark_bar().encode(\n",
    "    y = alt.Y('Open:Q'),\n",
    "    y2 = alt.Y2('Close:Q')\n",
    ")\n",
    "\n",
    "BTC & (rule + bar + line + line2)\n"
   ]
  },
  {
   "cell_type": "markdown",
   "metadata": {},
   "source": [
    "### What could be improved about this view:\n",
    "\n",
    "Correlation matrix is created to show the heatmap of the correlation among all the assets"
   ]
  },
  {
   "cell_type": "code",
   "execution_count": 79,
   "metadata": {},
   "outputs": [],
   "source": [
    "corrMatrix = df.corr()"
   ]
  },
  {
   "cell_type": "code",
   "execution_count": 80,
   "metadata": {},
   "outputs": [],
   "source": [
    "mdata = pd.DataFrame()\n",
    "mdata['JPM'] = df.groupby('Symbol').get_group('JPM')['Close'].reset_index(drop=True)\n",
    "for tick in tickers:\n",
    "    if tick != 'JPM':\n",
    "        tickdata = pd.DataFrame(df.groupby('Symbol', axis=0).get_group(tick)['Close'].reset_index(drop=True)).rename(columns = {'Close': tick})\n",
    "        mdata = pd.concat([mdata, tickdata], axis=1, join='inner')"
   ]
  },
  {
   "cell_type": "code",
   "execution_count": 81,
   "metadata": {},
   "outputs": [
    {
     "data": {
      "text/html": [
       "<div>\n",
       "<style scoped>\n",
       "    .dataframe tbody tr th:only-of-type {\n",
       "        vertical-align: middle;\n",
       "    }\n",
       "\n",
       "    .dataframe tbody tr th {\n",
       "        vertical-align: top;\n",
       "    }\n",
       "\n",
       "    .dataframe thead th {\n",
       "        text-align: right;\n",
       "    }\n",
       "</style>\n",
       "<table border=\"1\" class=\"dataframe\">\n",
       "  <thead>\n",
       "    <tr style=\"text-align: right;\">\n",
       "      <th></th>\n",
       "      <th>JPM</th>\n",
       "      <th>BTC-USD</th>\n",
       "      <th>ETH-USD</th>\n",
       "      <th>AAPL</th>\n",
       "      <th>TSLA</th>\n",
       "      <th>MSFT</th>\n",
       "      <th>NVDA</th>\n",
       "      <th>SQ</th>\n",
       "      <th>PYPL</th>\n",
       "      <th>MSTR</th>\n",
       "      <th>^IXIC</th>\n",
       "      <th>^DJI</th>\n",
       "      <th>^GSPC</th>\n",
       "      <th>GC=F</th>\n",
       "      <th>CL=F</th>\n",
       "    </tr>\n",
       "  </thead>\n",
       "  <tbody>\n",
       "    <tr>\n",
       "      <th>0</th>\n",
       "      <td>62.580002</td>\n",
       "      <td>320.192993</td>\n",
       "      <td>2.772120</td>\n",
       "      <td>27.594999</td>\n",
       "      <td>44.481998</td>\n",
       "      <td>46.450001</td>\n",
       "      <td>20.049999</td>\n",
       "      <td>13.070000</td>\n",
       "      <td>36.709999</td>\n",
       "      <td>162.399994</td>\n",
       "      <td>4736.049805</td>\n",
       "      <td>17823.070312</td>\n",
       "      <td>2058.899902</td>\n",
       "      <td>1183.900024</td>\n",
       "      <td>53.270000</td>\n",
       "    </tr>\n",
       "    <tr>\n",
       "      <th>1</th>\n",
       "      <td>62.490002</td>\n",
       "      <td>314.248993</td>\n",
       "      <td>0.753325</td>\n",
       "      <td>27.332500</td>\n",
       "      <td>43.862000</td>\n",
       "      <td>46.759998</td>\n",
       "      <td>20.129999</td>\n",
       "      <td>12.850000</td>\n",
       "      <td>36.619999</td>\n",
       "      <td>163.119995</td>\n",
       "      <td>4726.810059</td>\n",
       "      <td>17832.990234</td>\n",
       "      <td>2058.199951</td>\n",
       "      <td>1186.000000</td>\n",
       "      <td>52.689999</td>\n",
       "    </tr>\n",
       "    <tr>\n",
       "      <th>2</th>\n",
       "      <td>60.549999</td>\n",
       "      <td>315.032013</td>\n",
       "      <td>0.701897</td>\n",
       "      <td>26.562500</td>\n",
       "      <td>42.018002</td>\n",
       "      <td>46.330002</td>\n",
       "      <td>19.790001</td>\n",
       "      <td>12.120000</td>\n",
       "      <td>34.700001</td>\n",
       "      <td>162.979996</td>\n",
       "      <td>4652.569824</td>\n",
       "      <td>17501.650391</td>\n",
       "      <td>2020.579956</td>\n",
       "      <td>1203.900024</td>\n",
       "      <td>50.040001</td>\n",
       "    </tr>\n",
       "    <tr>\n",
       "      <th>3</th>\n",
       "      <td>58.980000</td>\n",
       "      <td>281.082001</td>\n",
       "      <td>0.708448</td>\n",
       "      <td>26.565001</td>\n",
       "      <td>42.256001</td>\n",
       "      <td>45.650002</td>\n",
       "      <td>19.190001</td>\n",
       "      <td>12.020000</td>\n",
       "      <td>34.500000</td>\n",
       "      <td>157.970001</td>\n",
       "      <td>4592.740234</td>\n",
       "      <td>17371.640625</td>\n",
       "      <td>2002.609985</td>\n",
       "      <td>1219.300049</td>\n",
       "      <td>47.930000</td>\n",
       "    </tr>\n",
       "    <tr>\n",
       "      <th>4</th>\n",
       "      <td>59.070000</td>\n",
       "      <td>264.195007</td>\n",
       "      <td>1.067860</td>\n",
       "      <td>26.937500</td>\n",
       "      <td>42.189999</td>\n",
       "      <td>46.230000</td>\n",
       "      <td>19.139999</td>\n",
       "      <td>11.900000</td>\n",
       "      <td>34.689999</td>\n",
       "      <td>158.000000</td>\n",
       "      <td>4650.470215</td>\n",
       "      <td>17584.519531</td>\n",
       "      <td>2025.900024</td>\n",
       "      <td>1210.599976</td>\n",
       "      <td>48.650002</td>\n",
       "    </tr>\n",
       "    <tr>\n",
       "      <th>...</th>\n",
       "      <td>...</td>\n",
       "      <td>...</td>\n",
       "      <td>...</td>\n",
       "      <td>...</td>\n",
       "      <td>...</td>\n",
       "      <td>...</td>\n",
       "      <td>...</td>\n",
       "      <td>...</td>\n",
       "      <td>...</td>\n",
       "      <td>...</td>\n",
       "      <td>...</td>\n",
       "      <td>...</td>\n",
       "      <td>...</td>\n",
       "      <td>...</td>\n",
       "      <td>...</td>\n",
       "    </tr>\n",
       "    <tr>\n",
       "      <th>1395</th>\n",
       "      <td>98.160004</td>\n",
       "      <td>6474.750000</td>\n",
       "      <td>270.225525</td>\n",
       "      <td>96.327499</td>\n",
       "      <td>300.167999</td>\n",
       "      <td>202.880005</td>\n",
       "      <td>408.059998</td>\n",
       "      <td>214.119995</td>\n",
       "      <td>247.250000</td>\n",
       "      <td>118.339996</td>\n",
       "      <td>10503.190430</td>\n",
       "      <td>26671.949219</td>\n",
       "      <td>3224.729980</td>\n",
       "      <td>1966.000000</td>\n",
       "      <td>40.270000</td>\n",
       "    </tr>\n",
       "    <tr>\n",
       "      <th>1396</th>\n",
       "      <td>97.300003</td>\n",
       "      <td>6480.379883</td>\n",
       "      <td>252.607925</td>\n",
       "      <td>98.357498</td>\n",
       "      <td>328.600006</td>\n",
       "      <td>211.600006</td>\n",
       "      <td>420.429993</td>\n",
       "      <td>210.210007</td>\n",
       "      <td>244.259995</td>\n",
       "      <td>120.510002</td>\n",
       "      <td>10767.089844</td>\n",
       "      <td>26680.869141</td>\n",
       "      <td>3251.840088</td>\n",
       "      <td>2001.199951</td>\n",
       "      <td>41.009998</td>\n",
       "    </tr>\n",
       "    <tr>\n",
       "      <th>1397</th>\n",
       "      <td>99.410004</td>\n",
       "      <td>6486.390137</td>\n",
       "      <td>241.338791</td>\n",
       "      <td>97.000000</td>\n",
       "      <td>313.671997</td>\n",
       "      <td>208.750000</td>\n",
       "      <td>413.140015</td>\n",
       "      <td>217.139999</td>\n",
       "      <td>248.639999</td>\n",
       "      <td>121.040001</td>\n",
       "      <td>10680.360352</td>\n",
       "      <td>26840.400391</td>\n",
       "      <td>3257.300049</td>\n",
       "      <td>2031.099976</td>\n",
       "      <td>41.700001</td>\n",
       "    </tr>\n",
       "    <tr>\n",
       "      <th>1398</th>\n",
       "      <td>98.690002</td>\n",
       "      <td>6332.629883</td>\n",
       "      <td>247.051010</td>\n",
       "      <td>97.272499</td>\n",
       "      <td>318.466003</td>\n",
       "      <td>211.750000</td>\n",
       "      <td>417.549988</td>\n",
       "      <td>219.339996</td>\n",
       "      <td>252.000000</td>\n",
       "      <td>121.209999</td>\n",
       "      <td>10706.129883</td>\n",
       "      <td>27005.839844</td>\n",
       "      <td>3276.020020</td>\n",
       "      <td>2051.500000</td>\n",
       "      <td>42.189999</td>\n",
       "    </tr>\n",
       "    <tr>\n",
       "      <th>1399</th>\n",
       "      <td>98.980003</td>\n",
       "      <td>6334.270020</td>\n",
       "      <td>249.474335</td>\n",
       "      <td>92.845001</td>\n",
       "      <td>302.614014</td>\n",
       "      <td>202.539993</td>\n",
       "      <td>405.190002</td>\n",
       "      <td>230.949997</td>\n",
       "      <td>247.750000</td>\n",
       "      <td>119.760002</td>\n",
       "      <td>10461.419922</td>\n",
       "      <td>26652.330078</td>\n",
       "      <td>3235.659912</td>\n",
       "      <td>2010.099976</td>\n",
       "      <td>41.950001</td>\n",
       "    </tr>\n",
       "  </tbody>\n",
       "</table>\n",
       "<p>1400 rows × 15 columns</p>\n",
       "</div>"
      ],
      "text/plain": [
       "            JPM      BTC-USD     ETH-USD       AAPL        TSLA        MSFT  \\\n",
       "0     62.580002   320.192993    2.772120  27.594999   44.481998   46.450001   \n",
       "1     62.490002   314.248993    0.753325  27.332500   43.862000   46.759998   \n",
       "2     60.549999   315.032013    0.701897  26.562500   42.018002   46.330002   \n",
       "3     58.980000   281.082001    0.708448  26.565001   42.256001   45.650002   \n",
       "4     59.070000   264.195007    1.067860  26.937500   42.189999   46.230000   \n",
       "...         ...          ...         ...        ...         ...         ...   \n",
       "1395  98.160004  6474.750000  270.225525  96.327499  300.167999  202.880005   \n",
       "1396  97.300003  6480.379883  252.607925  98.357498  328.600006  211.600006   \n",
       "1397  99.410004  6486.390137  241.338791  97.000000  313.671997  208.750000   \n",
       "1398  98.690002  6332.629883  247.051010  97.272499  318.466003  211.750000   \n",
       "1399  98.980003  6334.270020  249.474335  92.845001  302.614014  202.539993   \n",
       "\n",
       "            NVDA          SQ        PYPL        MSTR         ^IXIC  \\\n",
       "0      20.049999   13.070000   36.709999  162.399994   4736.049805   \n",
       "1      20.129999   12.850000   36.619999  163.119995   4726.810059   \n",
       "2      19.790001   12.120000   34.700001  162.979996   4652.569824   \n",
       "3      19.190001   12.020000   34.500000  157.970001   4592.740234   \n",
       "4      19.139999   11.900000   34.689999  158.000000   4650.470215   \n",
       "...          ...         ...         ...         ...           ...   \n",
       "1395  408.059998  214.119995  247.250000  118.339996  10503.190430   \n",
       "1396  420.429993  210.210007  244.259995  120.510002  10767.089844   \n",
       "1397  413.140015  217.139999  248.639999  121.040001  10680.360352   \n",
       "1398  417.549988  219.339996  252.000000  121.209999  10706.129883   \n",
       "1399  405.190002  230.949997  247.750000  119.760002  10461.419922   \n",
       "\n",
       "              ^DJI        ^GSPC         GC=F       CL=F  \n",
       "0     17823.070312  2058.899902  1183.900024  53.270000  \n",
       "1     17832.990234  2058.199951  1186.000000  52.689999  \n",
       "2     17501.650391  2020.579956  1203.900024  50.040001  \n",
       "3     17371.640625  2002.609985  1219.300049  47.930000  \n",
       "4     17584.519531  2025.900024  1210.599976  48.650002  \n",
       "...            ...          ...          ...        ...  \n",
       "1395  26671.949219  3224.729980  1966.000000  40.270000  \n",
       "1396  26680.869141  3251.840088  2001.199951  41.009998  \n",
       "1397  26840.400391  3257.300049  2031.099976  41.700001  \n",
       "1398  27005.839844  3276.020020  2051.500000  42.189999  \n",
       "1399  26652.330078  3235.659912  2010.099976  41.950001  \n",
       "\n",
       "[1400 rows x 15 columns]"
      ]
     },
     "execution_count": 81,
     "metadata": {},
     "output_type": "execute_result"
    }
   ],
   "source": [
    "mdata"
   ]
  },
  {
   "cell_type": "code",
   "execution_count": 82,
   "metadata": {},
   "outputs": [],
   "source": [
    "#result = pd.concat([mdata, mdata1], axis=1, join='inner')"
   ]
  },
  {
   "cell_type": "code",
   "execution_count": 83,
   "metadata": {},
   "outputs": [],
   "source": [
    "cor_data = mdata.corr().stack().reset_index().rename(columns={0: 'correlation', 'level_0': 'variable', 'level_1': 'variable2'})\n",
    "\n",
    "cor_data['correlation_label'] = cor_data['correlation'].map('{:.2f}'.format)"
   ]
  },
  {
   "cell_type": "code",
   "execution_count": 84,
   "metadata": {},
   "outputs": [
    {
     "data": {
      "text/html": [
       "\n",
       "<div id=\"altair-viz-45e592acac3e4b8bba8972c6df4d8e51\"></div>\n",
       "<script type=\"text/javascript\">\n",
       "  (function(spec, embedOpt){\n",
       "    let outputDiv = document.currentScript.previousElementSibling;\n",
       "    if (outputDiv.id !== \"altair-viz-45e592acac3e4b8bba8972c6df4d8e51\") {\n",
       "      outputDiv = document.getElementById(\"altair-viz-45e592acac3e4b8bba8972c6df4d8e51\");\n",
       "    }\n",
       "    const paths = {\n",
       "      \"vega\": \"https://cdn.jsdelivr.net/npm//vega@5?noext\",\n",
       "      \"vega-lib\": \"https://cdn.jsdelivr.net/npm//vega-lib?noext\",\n",
       "      \"vega-lite\": \"https://cdn.jsdelivr.net/npm//vega-lite@4.8.1?noext\",\n",
       "      \"vega-embed\": \"https://cdn.jsdelivr.net/npm//vega-embed@6?noext\",\n",
       "    };\n",
       "\n",
       "    function loadScript(lib) {\n",
       "      return new Promise(function(resolve, reject) {\n",
       "        var s = document.createElement('script');\n",
       "        s.src = paths[lib];\n",
       "        s.async = true;\n",
       "        s.onload = () => resolve(paths[lib]);\n",
       "        s.onerror = () => reject(`Error loading script: ${paths[lib]}`);\n",
       "        document.getElementsByTagName(\"head\")[0].appendChild(s);\n",
       "      });\n",
       "    }\n",
       "\n",
       "    function showError(err) {\n",
       "      outputDiv.innerHTML = `<div class=\"error\" style=\"color:red;\">${err}</div>`;\n",
       "      throw err;\n",
       "    }\n",
       "\n",
       "    function displayChart(vegaEmbed) {\n",
       "      vegaEmbed(outputDiv, spec, embedOpt)\n",
       "        .catch(err => showError(`Javascript Error: ${err.message}<br>This usually means there's a typo in your chart specification. See the javascript console for the full traceback.`));\n",
       "    }\n",
       "\n",
       "    if(typeof define === \"function\" && define.amd) {\n",
       "      requirejs.config({paths});\n",
       "      require([\"vega-embed\"], displayChart, err => showError(`Error loading script: ${err.message}`));\n",
       "    } else if (typeof vegaEmbed === \"function\") {\n",
       "      displayChart(vegaEmbed);\n",
       "    } else {\n",
       "      loadScript(\"vega\")\n",
       "        .then(() => loadScript(\"vega-lite\"))\n",
       "        .then(() => loadScript(\"vega-embed\"))\n",
       "        .catch(showError)\n",
       "        .then(() => displayChart(vegaEmbed));\n",
       "    }\n",
       "  })({\"config\": {\"view\": {\"continuousWidth\": 400, \"continuousHeight\": 300}}, \"layer\": [{\"mark\": \"rect\", \"encoding\": {\"color\": {\"type\": \"quantitative\", \"field\": \"correlation\"}, \"x\": {\"type\": \"ordinal\", \"field\": \"variable2\", \"title\": \"Tickers\"}, \"y\": {\"type\": \"ordinal\", \"field\": \"variable\", \"title\": \"Tickers\"}}, \"height\": 600, \"title\": \"BTC Heatmap\", \"width\": 600}, {\"mark\": \"text\", \"encoding\": {\"color\": {\"condition\": {\"value\": \"white\", \"test\": \"(datum.correlation > 0.5)\"}, \"value\": \"black\"}, \"text\": {\"type\": \"nominal\", \"field\": \"correlation_label\"}, \"x\": {\"type\": \"ordinal\", \"field\": \"variable2\", \"title\": \"Tickers\"}, \"y\": {\"type\": \"ordinal\", \"field\": \"variable\", \"title\": \"Tickers\"}}}], \"data\": {\"url\": \"http://localhost:19425/0fc4695b68b3f33a16624c296f44edb0.json\"}, \"$schema\": \"https://vega.github.io/schema/vega-lite/v4.8.1.json\"}, {\"mode\": \"vega-lite\"});\n",
       "</script>"
      ],
      "text/plain": [
       "alt.LayerChart(...)"
      ]
     },
     "execution_count": 84,
     "metadata": {},
     "output_type": "execute_result"
    }
   ],
   "source": [
    "base = alt.Chart(cor_data).encode(\n",
    "    x= alt.X('variable2:O', title = 'Tickers'),\n",
    "    y=alt.Y('variable:O', title = 'Tickers')    \n",
    ")\n",
    "\n",
    "# Text layer with correlation labels\n",
    "# Use colors that are for easier readability\n",
    "text = base.mark_text().encode(\n",
    "    text='correlation_label',\n",
    "    color=alt.condition(\n",
    "        alt.datum.correlation > 0.5, \n",
    "        alt.value('white'),\n",
    "        alt.value('black')\n",
    "    )\n",
    ")\n",
    "\n",
    "# The correlation heatmap itself\n",
    "cor_plot = base.mark_rect().encode(\n",
    "    color='correlation:Q'\n",
    ").properties(height = 600, width = 600, title = \"BTC Heatmap\")\n",
    "\n",
    "cor_plot + text # overlay the text and rect layer"
   ]
  },
  {
   "cell_type": "markdown",
   "metadata": {},
   "source": [
    "### Conclusion:\n",
    "\n",
    "As can be seen from the charts above looking at Apple and S&P 500 to BTC. The returns on a daily basis do mirror each other. When Apple has negative returns often BTC as well. It would be helpful to view this plot with other tickers as well. What also needs to be determined is the magnitude of these returns over a long period of time.\n",
    "\n",
    "#### Challenges:\n",
    "\n",
    "The data consists of multiple assets spanning across 5 years of data which created a huge volume of data entries to plot a chart. The memory crunch is a serious issue, so we have modified the dataset to slice the data for each of the chart and tried many methods to avoid generating huge memory size of notebook.\n"
   ]
  },
  {
   "cell_type": "markdown",
   "metadata": {},
   "source": [
    "## End of Presentation"
   ]
  }
 ],
 "metadata": {
  "kernelspec": {
   "display_name": "Python 3",
   "language": "python",
   "name": "python3"
  },
  "language_info": {
   "codemirror_mode": {
    "name": "ipython",
    "version": 3
   },
   "file_extension": ".py",
   "mimetype": "text/x-python",
   "name": "python",
   "nbconvert_exporter": "python",
   "pygments_lexer": "ipython3",
   "version": "3.7.0"
  }
 },
 "nbformat": 4,
 "nbformat_minor": 4
}
