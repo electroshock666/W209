{
 "cells": [
  {
   "cell_type": "markdown",
   "metadata": {},
   "source": [
    "## W207 Exploratory Visualization - 16th June 2021 Summer"
   ]
  },
  {
   "cell_type": "markdown",
   "metadata": {},
   "source": [
    "### Team Members - Jeffrey Adams, Pow Chang, Sweta Bhattacharya, Matt White"
   ]
  },
  {
   "cell_type": "markdown",
   "metadata": {},
   "source": [
    "### Hypothesis 1: Cryptocurrency market trends mirror traditional markets"
   ]
  },
  {
   "cell_type": "code",
   "execution_count": 1,
   "metadata": {},
   "outputs": [
    {
     "name": "stdout",
     "output_type": "stream",
     "text": [
      "pd 1.1.5\n",
      "alt 4.1.0\n"
     ]
    }
   ],
   "source": [
    "import pandas as pd\n",
    "import altair as alt\n",
    "import numpy as np\n",
    "import matplotlib.pyplot as plt\n",
    "from datetime import datetime\n",
    "print(\"pd\", pd.__version__)\n",
    "print(\"alt\", alt.__version__)\n",
    "# alt.data_transformers.disable_max_rows()\n",
    "\n",
    "alt.data_transformers.enable('data_server')\n",
    "# alt.data_transformers.enable('json')\n",
    "# alt.renderers.enable('default')\n",
    "from altair_saver import save\n",
    "# alt.renderers.enable('altair_saver', fmts=['vega-lite', 'png']);\n",
    "import warnings\n",
    "warnings.filterwarnings(\"ignore\")\n"
   ]
  },
  {
   "cell_type": "markdown",
   "metadata": {},
   "source": [
    "## This cell is for Yahoo Finance API, Just need to run once for updating dataset"
   ]
  },
  {
   "cell_type": "code",
   "execution_count": 2,
   "metadata": {},
   "outputs": [],
   "source": [
    "# import yfinance as yf  \n",
    "# import matplotlib.pyplot as plt\n",
    "# # Get the data for the SPY ETF by specifying the stock ticker, start date, and end date\n",
    "tickers = ['BTC-USD','ETH-USD', 'AAPL', 'TSLA', 'MSFT', 'NVDA', 'SQ', 'PYPL', 'MSTR', 'JPM', '^IXIC', '^DJI', '^GSPC', 'GC=F', 'CL=F']\n",
    "# data = yf.download(tickers,'2015-01-01','2021-06-15')\n",
    "# # Plot the close prices\n",
    "# data[\"Adj Close\"]['GC=F'].plot()\n",
    "# plt.show()"
   ]
  },
  {
   "cell_type": "code",
   "execution_count": 3,
   "metadata": {},
   "outputs": [
    {
     "ename": "NameError",
     "evalue": "name 'data' is not defined",
     "output_type": "error",
     "traceback": [
      "\u001b[0;31m---------------------------------------------------------------------------\u001b[0m",
      "\u001b[0;31mNameError\u001b[0m                                 Traceback (most recent call last)",
      "\u001b[0;32m<ipython-input-3-c5d84736ba45>\u001b[0m in \u001b[0;36m<module>\u001b[0;34m()\u001b[0m\n\u001b[0;32m----> 1\u001b[0;31m \u001b[0mdata\u001b[0m\u001b[0;34m\u001b[0m\u001b[0m\n\u001b[0m",
      "\u001b[0;31mNameError\u001b[0m: name 'data' is not defined"
     ]
    }
   ],
   "source": [
    "data"
   ]
  },
  {
   "cell_type": "code",
   "execution_count": null,
   "metadata": {},
   "outputs": [],
   "source": [
    "df = data.stack().reset_index().rename(index=str, columns={\"level_1\": \"Symbol\"}).sort_values(['Symbol','Date'])\n"
   ]
  },
  {
   "cell_type": "code",
   "execution_count": null,
   "metadata": {},
   "outputs": [],
   "source": [
    "df.columns"
   ]
  },
  {
   "cell_type": "code",
   "execution_count": null,
   "metadata": {},
   "outputs": [],
   "source": [
    "df.set_index('Date', inplace = True)"
   ]
  },
  {
   "cell_type": "code",
   "execution_count": null,
   "metadata": {},
   "outputs": [],
   "source": [
    "df = df.rename(columns = {'Adj Close':'Adj_Close'})"
   ]
  },
  {
   "cell_type": "code",
   "execution_count": null,
   "metadata": {},
   "outputs": [],
   "source": [
    "df"
   ]
  },
  {
   "cell_type": "code",
   "execution_count": null,
   "metadata": {},
   "outputs": [],
   "source": [
    "df[df.Symbol == 'AAPL']['Close'].plot()"
   ]
  },
  {
   "cell_type": "code",
   "execution_count": null,
   "metadata": {},
   "outputs": [],
   "source": [
    "df.reset_index(inplace = True)"
   ]
  },
  {
   "cell_type": "code",
   "execution_count": null,
   "metadata": {},
   "outputs": [],
   "source": [
    "df"
   ]
  },
  {
   "cell_type": "markdown",
   "metadata": {},
   "source": [
    "## Create some variables here..."
   ]
  },
  {
   "cell_type": "code",
   "execution_count": null,
   "metadata": {},
   "outputs": [],
   "source": []
  },
  {
   "cell_type": "code",
   "execution_count": null,
   "metadata": {},
   "outputs": [],
   "source": [
    "# # loop through the ticker to calculate the Moving Average for each ticker\n",
    "# def calculate_moving_average(days):\n",
    "#     data = []\n",
    "#     for ticker in tickers:\n",
    "#         ma50 = df.groupby('Symbol').get_group(ticker)[\"Close\"].rolling(days).mean()\n",
    "#         data.append(ma50)\n",
    "#     return pd.concat(data)\n"
   ]
  },
  {
   "cell_type": "code",
   "execution_count": null,
   "metadata": {},
   "outputs": [],
   "source": [
    "# df[\"MA50\"] = calculate_moving_average(50)"
   ]
  },
  {
   "cell_type": "code",
   "execution_count": null,
   "metadata": {},
   "outputs": [],
   "source": [
    "# df[\"MA100\"] = calculate_moving_average(100)"
   ]
  },
  {
   "cell_type": "code",
   "execution_count": null,
   "metadata": {},
   "outputs": [],
   "source": [
    "# df[\"MA200\"] = calculate_moving_average(200)"
   ]
  },
  {
   "cell_type": "code",
   "execution_count": null,
   "metadata": {},
   "outputs": [],
   "source": [
    "# Here we will integrate with d3 selection of range\n",
    "plot_range = 500"
   ]
  },
  {
   "cell_type": "code",
   "execution_count": null,
   "metadata": {},
   "outputs": [],
   "source": [
    "y_range_max = round(df[df.Symbol == 'BTC-USD']['Close'].tail(plot_range).max(),0) + 1000\n",
    "y_range_min = round(df[df.Symbol == 'BTC-USD']['Close'].tail(plot_range).min(),0) - 1000\n"
   ]
  },
  {
   "cell_type": "code",
   "execution_count": null,
   "metadata": {},
   "outputs": [],
   "source": [
    "Mchart = alt.Chart(df[df.Symbol == 'BTC-USD'].tail(plot_range)).mark_line().encode(\n",
    "    x = alt.X('Date:T'),\n",
    ")"
   ]
  },
  {
   "cell_type": "code",
   "execution_count": null,
   "metadata": {},
   "outputs": [],
   "source": [
    "layer = alt.layer(\n",
    "    Mchart.mark_line(color='lightblue').encode(alt.Y('Close:Q', scale = alt.Scale(domain=[y_range_min,y_range_max],clamp=True), title = 'Price (USD)')),\n",
    "    Mchart.mark_line(color='green').encode(alt.Y('MA50:Q', scale = alt.Scale(domain=[y_range_min,y_range_max], clamp=True))),\n",
    "    Mchart.mark_line(color='#fdbb84').encode(alt.Y('MA100:Q', scale = alt.Scale(domain=[y_range_min,y_range_max], clamp=True))),\n",
    "    Mchart.mark_line(color='#e34a33').encode(alt.Y('MA200:Q', scale = alt.Scale(domain=[y_range_min,y_range_max], clamp=True))),\n",
    ").properties(title='BTC Close Price Vs Moving Average (50-Day, 100-Day, 200-Day)', width = 700)\n",
    "\n",
    "layer"
   ]
  },
  {
   "cell_type": "code",
   "execution_count": null,
   "metadata": {},
   "outputs": [],
   "source": [
    "def wwma(values, n):\n",
    "    \"\"\"Source: Investopedia - exponential weighted (EW) functions\"\"\"\n",
    "    return values.ewm(alpha=1/n, adjust=False).mean()\n",
    "\n",
    "def atr(df, n=14):\n",
    "    \"\"\"This function calculate ATR\n",
    "    Average True Range (ATR) is the average of true ranges over the specified period.\n",
    "    ATR measures volatility, taking into account any gaps in the price movement. \n",
    "    Typically, the ATR calculation is based on 14 periods, which can be intraday, \n",
    "    daily, weekly, or monthly.\n",
    "    \"\"\"\n",
    "    data = df.copy()\n",
    "    high = data[\"High\"]\n",
    "    low = data[\"Low\"]\n",
    "    close = data[\"Close\"]\n",
    "    data['tr0'] = abs(high - low)\n",
    "    data['tr1'] = abs(high - close.shift())\n",
    "    data['tr2'] = abs(low - close.shift())\n",
    "    tr = data[['tr0', 'tr1', 'tr2']].max(axis=1)\n",
    "    # return the dfmini, not the whole dataset, it will take years to load\n",
    "    atr = wwma(tr, n)\n",
    "    return atr"
   ]
  },
  {
   "cell_type": "code",
   "execution_count": null,
   "metadata": {},
   "outputs": [],
   "source": [
    "# # loop through the ticker to calculate ATR value\n",
    "# data = []\n",
    "# for ticker in tickers:\n",
    "#     ATR = atr(df.groupby('Symbol').get_group(ticker), n=14)\n",
    "#     data.append(ATR)\n",
    "# df[\"ATR\"] = pd.concat(data)"
   ]
  },
  {
   "cell_type": "code",
   "execution_count": null,
   "metadata": {},
   "outputs": [],
   "source": [
    "# # loop through the ticker to calculate the 10 days returns\n",
    "# data = []\n",
    "# for ticker in tickers:\n",
    "#     dayX10_returns = df.groupby('Symbol').get_group(ticker)[\"Close\"].pct_change(10)\n",
    "#     data.append(dayX10_returns)\n",
    "# df[\"Returns\"] = pd.concat(data)"
   ]
  },
  {
   "cell_type": "code",
   "execution_count": null,
   "metadata": {},
   "outputs": [],
   "source": [
    "# # loop through the ticker to calculate the daily range\n",
    "# data = []\n",
    "# for ticker in tickers:\n",
    "#     daily_range = df.groupby('Symbol').get_group(ticker)[\"High\"]-df.groupby('Symbol').get_group(ticker)[\"Low\"]\n",
    "#     data.append(daily_range)\n",
    "# df[\"Daily_Range\"] = pd.concat(data)\n"
   ]
  },
  {
   "cell_type": "code",
   "execution_count": null,
   "metadata": {},
   "outputs": [],
   "source": [
    "df.groupby('Symbol').get_group('CL=F')['ATR'].plot()"
   ]
  },
  {
   "cell_type": "code",
   "execution_count": null,
   "metadata": {},
   "outputs": [],
   "source": [
    "# run once to store the dataset and comment out yfinance to avoid repeat pulling data from API\n",
    "# df.to_csv('PrimeDataSet2021-06-18.csv', index = False)"
   ]
  },
  {
   "cell_type": "markdown",
   "metadata": {},
   "source": [
    "## **Important Note: All Analysis should start from here..."
   ]
  },
  {
   "cell_type": "markdown",
   "metadata": {},
   "source": [
    "## Hypothesis 1: Cryptocurrency market trends mirror traditional markets"
   ]
  },
  {
   "cell_type": "code",
   "execution_count": null,
   "metadata": {},
   "outputs": [],
   "source": [
    "df = pd.read_csv('PrimeDataSet2021-06-18.csv')"
   ]
  },
  {
   "cell_type": "code",
   "execution_count": null,
   "metadata": {},
   "outputs": [],
   "source": [
    "df"
   ]
  },
  {
   "cell_type": "code",
   "execution_count": null,
   "metadata": {},
   "outputs": [],
   "source": [
    "interval = alt.selection_interval()\n",
    "\n",
    "pchart = alt.Chart(df[df.Symbol == 'BTC-USD'].tail(plot_range)).mark_line().encode(\n",
    "    x = alt.X('Date:T'),\n",
    "    y = alt.Y('Close:Q', scale = alt.Scale(domain=[y_range_min,y_range_max])),\n",
    "    #tooltip = alt.Tooltip('Close', title = 'Close')\n",
    ").properties(width = 700, title='Close Price Trend').add_selection(interval)\n",
    "\n"
   ]
  },
  {
   "cell_type": "code",
   "execution_count": null,
   "metadata": {},
   "outputs": [],
   "source": [
    "cchart = alt.Chart(df[df.Symbol == 'BTC-USD'].tail(plot_range)).mark_bar().encode(\n",
    "    x = alt.X('Date:T'),\n",
    "    y = alt.Y('ATR:Q'),\n",
    "    tooltip = ['Returns'],\n",
    "    color = alt.condition(\n",
    "    alt.datum.Returns > 0,\n",
    "    alt.value('steelblue'),  \n",
    "    alt.value('orange')   # low return seems correlates more with high volatility, we should study this.\n",
    "    )\n",
    ").properties(title = 'ATR Trend by Returns (By Returns)', width = 700).transform_filter(interval)\n"
   ]
  },
  {
   "cell_type": "code",
   "execution_count": null,
   "metadata": {},
   "outputs": [],
   "source": [
    "pchart & cchart"
   ]
  },
  {
   "cell_type": "markdown",
   "metadata": {},
   "source": [
    "#### The view shows that cryptocurrenciy Bitcoin has huge upward trend. Dow Jone and Nasdaq have a moderate appreciation over the last five years. Bitcoin seems to have more fluctuation as compared to other assets."
   ]
  },
  {
   "cell_type": "code",
   "execution_count": null,
   "metadata": {},
   "outputs": [],
   "source": [
    "df.Symbol.unique()"
   ]
  },
  {
   "cell_type": "code",
   "execution_count": null,
   "metadata": {},
   "outputs": [],
   "source": [
    "exposure_list = ['BTC-USD', 'CL\\=F', 'ETH-USD', 'GC\\=F', 'JPM',\n",
    "       'MSTR', 'NVDA', 'PYPL', 'SQ', 'TSLA']"
   ]
  },
  {
   "cell_type": "code",
   "execution_count": null,
   "metadata": {},
   "outputs": [],
   "source": [
    "non_exposure_list = ['AAPL', 'BTC-USD', 'ETH-USD', 'MSFT', '^DJI', '^GSPC', '^IXIC']"
   ]
  },
  {
   "cell_type": "code",
   "execution_count": null,
   "metadata": {},
   "outputs": [],
   "source": [
    "exchart = alt.Chart(df[df.Symbol.isin(exposure_list)]).mark_line().encode(\n",
    "    x = alt.X('Date:T'),\n",
    "    y = alt.Y('Close:Q', scale = alt.Scale(type='log'), title = 'Close Price (USD)'),\n",
    "    color = 'Symbol:N',\n",
    "    tooltip = ['Symbol', 'Close']\n",
    ").properties(width = 700, title='BTC-USD Price VS Exposure Assets')\n",
    "\n",
    "  "
   ]
  },
  {
   "cell_type": "code",
   "execution_count": null,
   "metadata": {},
   "outputs": [],
   "source": [
    "zone = pd.DataFrame([\n",
    "    {\n",
    "        \"start\": \"2020-02-15\",\n",
    "        \"end\": \"2020-03-16\",\n",
    "        \"event\": \"Market-Dip\"\n",
    "    },\n",
    "    \n",
    "])"
   ]
  },
  {
   "cell_type": "code",
   "execution_count": null,
   "metadata": {},
   "outputs": [],
   "source": [
    "ruler = alt.Chart(zone).mark_rule(\n",
    "    color=\"lightred\",\n",
    "    strokeWidth=40,\n",
    "    opacity = 0.8\n",
    ").encode(\n",
    "    x= alt.X('start:T', title = 'Date'),\n",
    "    #x2 = alt.X2('end:T'),\n",
    ").transform_filter(alt.datum.event == \"Market-Dip\")"
   ]
  },
  {
   "cell_type": "code",
   "execution_count": null,
   "metadata": {},
   "outputs": [],
   "source": [
    "ruler + exchart"
   ]
  },
  {
   "cell_type": "code",
   "execution_count": null,
   "metadata": {},
   "outputs": [],
   "source": [
    "alt.Chart(df[df.Symbol.isin(non_exposure_list)]).mark_line().encode(\n",
    "    x = alt.X('Date:T'),\n",
    "    y = alt.Y('Close:Q', scale = alt.Scale(type='log'), title = 'Close Price (USD)'),\n",
    "    color = 'Symbol:N',\n",
    "    tooltip = ['Symbol', 'Close']\n",
    ").properties(width = 700, title='BTC-USD Price VS Non-Exposure Assets')\n",
    "\n",
    "  "
   ]
  },
  {
   "cell_type": "code",
   "execution_count": null,
   "metadata": {},
   "outputs": [],
   "source": [
    "alt.Chart(df[df.Symbol.isin(['BTC-USD','ETH-USD'])]).mark_line().encode(\n",
    "    x = alt.X('Date:T'),\n",
    "    y = alt.Y('Close:Q', scale = alt.Scale(type='log'), title = 'Close Price (USD)'),\n",
    "    color = 'Symbol:N',\n",
    "    tooltip = ['Symbol', 'Close']\n",
    ").properties(width = 700, title='BTC-USD Price VS ETH-USD')\n",
    "\n",
    "  "
   ]
  },
  {
   "cell_type": "code",
   "execution_count": null,
   "metadata": {},
   "outputs": [],
   "source": [
    "print(list(df.Symbol.unique()))\n"
   ]
  },
  {
   "cell_type": "code",
   "execution_count": null,
   "metadata": {},
   "outputs": [],
   "source": [
    "df.groupby('Symbol').get_group('CL=F').isna().sum()"
   ]
  },
  {
   "cell_type": "code",
   "execution_count": null,
   "metadata": {},
   "outputs": [],
   "source": [
    "\n",
    "\n",
    "alt.Chart(df[df.Symbol.isin(['BTC-USD','ETH-USD', 'AAPL', 'TSLA', 'MSFT' '^DJI', '^GSPC', '^IXIC', 'CL\\=F', 'GC\\='])]).mark_line().encode(\n",
    "    x = alt.X('Date:T'),\n",
    "    y = alt.Y('Close:Q', scale = alt.Scale(type='log'), title = 'Close Price (USD)'),\n",
    "    color = 'Symbol:N', #scale = alt.Scale(type='log')),\n",
    "    tooltip = ['Symbol', 'Close']\n",
    ").properties(width = 700, title='BTC Price Trend Comparison with Other Assets')\n",
    "\n",
    "   "
   ]
  },
  {
   "cell_type": "code",
   "execution_count": null,
   "metadata": {},
   "outputs": [],
   "source": [
    "alt.Chart(df).mark_bar().encode(\n",
    "    x = alt.X('Symbol:N'),\n",
    "    y = alt.Y('sum(Returns):Q'),\n",
    "    color = 'Symbol:N',\n",
    "    tooltip = ['Symbol']\n",
    ").properties(width = 700, title='BTC Returns Comparison with Other Assets')\n",
    "  "
   ]
  },
  {
   "cell_type": "code",
   "execution_count": null,
   "metadata": {},
   "outputs": [],
   "source": [
    "alt.Chart(df).mark_bar().encode(\n",
    "    x = alt.X('Symbol:N'),\n",
    "    y = alt.Y('mean(ATR):Q'),\n",
    "    color = 'Symbol:N',\n",
    "    tooltip = ['Symbol']\n",
    ").properties(width = 700, title='BTC Mean ATR Comparison with Other Assets')\n",
    "  "
   ]
  },
  {
   "cell_type": "code",
   "execution_count": null,
   "metadata": {},
   "outputs": [],
   "source": [
    "alt.Chart(df).mark_circle().encode(\n",
    "    x = alt.X('Volume:Q'),\n",
    "    y = alt.Y('sum(Returns):Q'),\n",
    "    color = 'Symbol:N',\n",
    "    #color = 'day(Date:T)'\n",
    ").properties(width = 700, title='BTC Returns Comparison with Other Assets')\n",
    "  "
   ]
  },
  {
   "cell_type": "code",
   "execution_count": null,
   "metadata": {},
   "outputs": [],
   "source": [
    "selector = df.Symbol == 'BTC-USD'\n",
    "plot_range = 500\n",
    "y_range_max = round(df[selector]['Close'].tail(plot_range).max(),0) + 1000\n",
    "y_range_min = round(df[selector]['Close'].tail(plot_range).min(),0) - 1000"
   ]
  },
  {
   "cell_type": "code",
   "execution_count": null,
   "metadata": {},
   "outputs": [],
   "source": [
    "pvchart = alt.Chart(df[df.Symbol == 'BTC-USD'].tail(plot_range)).mark_circle().encode(\n",
    "    x = alt.X('Date:T'),\n",
    "    y = alt.Y('Close:Q', scale = alt.Scale(domain=[y_range_min,y_range_max], type='log')),\n",
    "    color = alt.condition(\n",
    "    alt.datum.Returns > 0,\n",
    "    alt.value('steelblue'),  \n",
    "    alt.value('orange')),\n",
    "    tooltip = ['Close', 'Volume']\n",
    ").properties(width = 700, title='BTC Close Price Trend')\n"
   ]
  },
  {
   "cell_type": "code",
   "execution_count": null,
   "metadata": {},
   "outputs": [],
   "source": [
    "vchart = alt.Chart(df[df.Symbol == 'BTC-USD'].tail(plot_range)).mark_bar().encode(\n",
    "    x = alt.X('Date:T'),\n",
    "    y = alt.Y('Volume:Q'),\n",
    "    color = alt.condition(\n",
    "    alt.datum.Returns > 0,\n",
    "    alt.value('steelblue'),  \n",
    "    alt.value('orange'))   \n",
    ").properties(title=\"BTC Volume Trend\", width =700)\n",
    "\n"
   ]
  },
  {
   "cell_type": "code",
   "execution_count": null,
   "metadata": {},
   "outputs": [],
   "source": [
    "pvchart & vchart"
   ]
  },
  {
   "cell_type": "code",
   "execution_count": null,
   "metadata": {},
   "outputs": [],
   "source": [
    "alt.Chart(df).mark_bar().encode(\n",
    "    x = alt.X('Symbol:N'),\n",
    "    y = alt.Y('Daily_Range:Q'),\n",
    "    color = 'Symbol:N',\n",
    "    tooltip = ['Symbol']\n",
    ").properties(width = 700, title='BTC Daily Range Fluctuation Comparison with Other Assets')\n",
    "  "
   ]
  },
  {
   "cell_type": "code",
   "execution_count": null,
   "metadata": {},
   "outputs": [],
   "source": [
    "alt.Chart(df).mark_line().encode(\n",
    "    x = alt.X('Date:T'),\n",
    "    y = alt.Y('Daily_Range:Q', title = 'Price (USD)'),\n",
    "    color = 'Symbol:N',\n",
    "    tooltip = ['Close', 'Volume']\n",
    ").properties(width = 700, title='BTC Daily Range VS Other Assets Trend')\n"
   ]
  },
  {
   "cell_type": "code",
   "execution_count": null,
   "metadata": {},
   "outputs": [],
   "source": [
    "alt.Chart(df[df.Symbol.isin(['BTC-USD','MSTR'])]).mark_bar().encode(\n",
    "    x = alt.X('Date:T'),\n",
    "    y = alt.Y('Returns:Q'),\n",
    "    color = 'Symbol:N',\n",
    ").properties(width = 700, title='BTC and MSTR Returns by Date Overlaid')\n"
   ]
  },
  {
   "cell_type": "code",
   "execution_count": null,
   "metadata": {},
   "outputs": [],
   "source": [
    "alt.Chart(df[df.Symbol.isin(['BTC-USD','AAPL'])]).mark_bar().encode(\n",
    "    x = alt.X('Date:T'),\n",
    "    y = alt.Y('Returns:Q'),\n",
    "    color = 'Symbol:N',\n",
    ").properties(width = 700, title='BTC and AAPL Returns by Date Overlaid')\n"
   ]
  },
  {
   "cell_type": "code",
   "execution_count": null,
   "metadata": {},
   "outputs": [],
   "source": [
    "\n",
    "\n",
    "alt.Chart(df[df.Symbol.isin(['BTC-USD','^DJI'])]).mark_bar().encode(\n",
    "    x = alt.X('Date:T'),\n",
    "    y = alt.Y('Returns:Q'),\n",
    "    color = 'Symbol:N',\n",
    ").properties(width = 700, title='BTC and Dow Jone Index Returns')\n"
   ]
  },
  {
   "cell_type": "code",
   "execution_count": null,
   "metadata": {},
   "outputs": [],
   "source": [
    "\n",
    "\n",
    "alt.Chart(df[df.Symbol.isin(['BTC-USD','^GSPC'])]).mark_bar().encode(\n",
    "    x = alt.X('Date:T'),\n",
    "    y = alt.Y('Returns:Q'),\n",
    "    color = 'Symbol:N',\n",
    ").properties(width = 700, title='BTC and SP500 Index Returns')\n",
    "\n"
   ]
  },
  {
   "cell_type": "code",
   "execution_count": null,
   "metadata": {},
   "outputs": [],
   "source": [
    "base = alt.Chart(df).encode(\n",
    "    x = alt.X('Date:T'),\n",
    ").properties(title = 'Candlestick Chart', width = 700)"
   ]
  },
  {
   "cell_type": "markdown",
   "metadata": {},
   "source": [
    "## Hypothesis 2: Alt coins are highly correlated with and follow Bitcoin price"
   ]
  },
  {
   "cell_type": "markdown",
   "metadata": {},
   "source": [
    "#### The view shows that Alt coins are on par with Bitcoin in terms of price percentage performance, there is a great opportunity to invest in alt coins. "
   ]
  },
  {
   "cell_type": "code",
   "execution_count": null,
   "metadata": {},
   "outputs": [],
   "source": [
    "\n",
    "alt.Chart(df[df.Symbol.isin(['BTC-USD','ETH-USD'])]).mark_line().encode(\n",
    "    x = alt.X('Date:T'),\n",
    "    y = alt.Y('Close:Q', scale = alt.Scale(type='log'), title = 'Close Price (USD)'),\n",
    "    color = 'Symbol:N',\n",
    "    tooltip = ['Symbol', 'Close']\n",
    ").properties(width = 700, title='BTC-USD Price VS ETH-USD')\n",
    "\n",
    "  "
   ]
  },
  {
   "cell_type": "markdown",
   "metadata": {},
   "source": [
    "#### The view shows that BTC and Alt Coin are very much aligned in the daily returns, this is an insight that alt coin follows the momentum of BTC as they flucture with the highly similar pattern when we overlay their trend lines."
   ]
  },
  {
   "cell_type": "code",
   "execution_count": null,
   "metadata": {},
   "outputs": [],
   "source": [
    "alt.Chart(df[df.Symbol.isin(['BTC-USD','ETH-USD'])]).mark_bar().encode(\n",
    "    x = alt.X('Date:T'),\n",
    "    y = alt.Y('Returns:Q'),\n",
    "    color = 'Symbol:N',\n",
    ").properties(width = 700, title='BTC and ETH Returns by Date Overlaid')\n"
   ]
  },
  {
   "cell_type": "code",
   "execution_count": null,
   "metadata": {},
   "outputs": [],
   "source": [
    "selector = df.Symbol == 'BTC-USD'\n",
    "plot_range = 500\n",
    "y_range_max = round(df[selector]['Volume'].tail(plot_range).max(),0) + 1000\n",
    "y_range_min = round(df[selector]['Volume'].tail(plot_range).min(),0) - 1000"
   ]
  },
  {
   "cell_type": "code",
   "execution_count": null,
   "metadata": {},
   "outputs": [],
   "source": [
    "alt.Chart(df).mark_circle().encode(\n",
    "    x = alt.X('Returns:Q'),\n",
    "    y = alt.Y('ATR:Q'),\n",
    "    color = 'Symbol:N'\n",
    ").properties(width = 700, title='Returns VS Volume')"
   ]
  },
  {
   "cell_type": "markdown",
   "metadata": {},
   "source": [
    "## Hypothesis 3: Cryptocurrency market is highly influenced by non-market factors that don't affect traditional markets (ie. tweets, corporate investment, covid?)"
   ]
  },
  {
   "cell_type": "code",
   "execution_count": null,
   "metadata": {},
   "outputs": [],
   "source": [
    "schart = alt.Chart(df[df.Symbol == 'BTC-USD'].tail(plot_range)).mark_bar().encode(\n",
    "    x = alt.X('Date:T'),\n",
    "    y = alt.Y('Returns:Q'),\n",
    "    color = alt.condition(\n",
    "        alt.datum.Returns > 0,\n",
    "        alt.value('steelblue'),\n",
    "        alt.value('orange'),\n",
    "    )\n",
    ").properties(width = 700, title='BTC Daily Returns Trend')\n"
   ]
  },
  {
   "cell_type": "code",
   "execution_count": null,
   "metadata": {},
   "outputs": [],
   "source": [
    "bitcoin_news = pd.DataFrame([\n",
    "    {\n",
    "        \"start\": \"2021-02-15\",\n",
    "        \"end\": \"2021-02-16\",\n",
    "        \"news\": \"Joe Biden\"\n",
    "    },\n",
    "    {\n",
    "        \"start\": \"2021-01-30\",\n",
    "        \"end\": \"2021-01-31\",\n",
    "        \"news\": \"Elon Musk\"\n",
    "    },\n",
    "    {\n",
    "        \"start\": \"2021-03-02\",\n",
    "        \"end\": \"2021-03-03\",\n",
    "        \"news\": \"Covid-19\"\n",
    "    }\n",
    "    \n",
    "])"
   ]
  },
  {
   "cell_type": "code",
   "execution_count": null,
   "metadata": {},
   "outputs": [],
   "source": [
    "rule = alt.Chart(bitcoin_news).mark_rule(\n",
    "    color=\"lightgreen\",\n",
    "    strokeWidth=2\n",
    ").encode(\n",
    "    x='end:T'\n",
    ").transform_filter(alt.datum.news == \"Elon Musk\")"
   ]
  },
  {
   "cell_type": "code",
   "execution_count": null,
   "metadata": {},
   "outputs": [],
   "source": [
    "rule2 = alt.Chart(bitcoin_news).mark_rule(\n",
    "    color=\"lightred\",\n",
    "    strokeWidth=2\n",
    ").encode(\n",
    "    x= alt.X('end:T', title = 'Date'),\n",
    ").transform_filter(alt.datum.news == \"Covid-19\")"
   ]
  },
  {
   "cell_type": "code",
   "execution_count": null,
   "metadata": {},
   "outputs": [],
   "source": [
    "rule3 = alt.Chart(bitcoin_news).mark_rule(\n",
    "    color=\"lightred\",\n",
    "    strokeWidth=2\n",
    ").encode(\n",
    "    x= alt.X('end:T', title = 'Date'),\n",
    ").transform_filter(alt.datum.news == \"Joe Biden\")"
   ]
  },
  {
   "cell_type": "code",
   "execution_count": null,
   "metadata": {},
   "outputs": [],
   "source": [
    "\n",
    "text = alt.Chart(bitcoin_news).mark_text(\n",
    "    align='left',\n",
    "    baseline='middle',\n",
    "    dx=7,\n",
    "    dy=-135,\n",
    "    size=11\n",
    ").encode(\n",
    "    x='start:T',\n",
    "    x2='end:T',\n",
    "    text='news',\n",
    "    color=alt.value('#000000')\n",
    ")"
   ]
  },
  {
   "cell_type": "code",
   "execution_count": null,
   "metadata": {},
   "outputs": [],
   "source": [
    "schart + rule + rule2 + rule3 + text"
   ]
  },
  {
   "cell_type": "markdown",
   "metadata": {},
   "source": [
    "### Appendix as placeholder for more charts selection (Not to mess with Exploratory Hypothesis Flow)"
   ]
  },
  {
   "cell_type": "code",
   "execution_count": null,
   "metadata": {},
   "outputs": [],
   "source": [
    "alt.Chart(df[df.Symbol == 'BTC-USD']).mark_rect().encode(\n",
    "    x = alt.X('date(Date):O'),\n",
    "    y = alt.Y('month(Date):O'),\n",
    "    color = alt.Color('ATR:Q')\n",
    ").properties(title = 'ATR Heatmap by Day and Month')\n"
   ]
  },
  {
   "cell_type": "code",
   "execution_count": null,
   "metadata": {},
   "outputs": [],
   "source": [
    "alt.Chart(df[df.Symbol.isin(exposure_list)]).mark_boxplot(size=50, extent = 0.5).encode(\n",
    "    x = alt.X('Symbol:N'),\n",
    "#     y = alt.Y('month(Date):O'),\n",
    "    y = alt.Y('Returns:Q'),\n",
    "    color = alt.Color('Symbol:N')\n",
    ").properties(title = 'BTC Returns VS Other Assets Borplot', width = 700).configure_axisX(labelFontSize = 12, labelAngle = 45)\n"
   ]
  },
  {
   "cell_type": "code",
   "execution_count": null,
   "metadata": {},
   "outputs": [],
   "source": [
    "alt.Chart(df[df.Symbol == 'BTC-USD']).mark_rect().encode(\n",
    "    x = alt.X('date(Date):O'),\n",
    "    y = alt.Y('month(Date):O'),\n",
    "    color = alt.Color('Returns:Q')\n",
    ").properties(title = 'BTC Returns Heatmap by Day and Month')\n"
   ]
  },
  {
   "cell_type": "code",
   "execution_count": null,
   "metadata": {},
   "outputs": [],
   "source": [
    "alt.Chart(df[df.Symbol == 'BTC-USD']).mark_rect().encode(\n",
    "    y = alt.Y('day(Date):O'),\n",
    "    x = alt.X('month(Date):O'),\n",
    "    color = alt.Color('Returns:Q')\n",
    ").properties(title = 'Returns Heatmap by Hours and Day of the Week')\n"
   ]
  },
  {
   "cell_type": "code",
   "execution_count": null,
   "metadata": {},
   "outputs": [],
   "source": [
    "alt.Chart(df[df.Symbol.isin(['BTC-USD','^DJI'])]).mark_circle().encode(\n",
    "    x = alt.X('ATR:Q'),\n",
    "    y = alt.Y('Returns:Q'),\n",
    "    color = 'Symbol:N'  \n",
    ").properties(width = 700, title='BTC VS Down Jone (In Terms of Return VS Volatility)')\n"
   ]
  },
  {
   "cell_type": "code",
   "execution_count": null,
   "metadata": {},
   "outputs": [],
   "source": [
    "# Candlestick plot for short term price movement analysis\n",
    "\n",
    "plot_range = 100\n",
    "\n",
    "open_close_color = alt.condition(\"datum.Open <= datum.Close\",\n",
    "                                 alt.value(\"#06982d\"),\n",
    "                                 alt.value(\"#ae1325\"))\n",
    "\n",
    "base = alt.Chart(df[df.Symbol == 'BTC-USD'].tail(plot_range)).encode(\n",
    "    x = alt.X('Date:T',\n",
    "          axis=alt.Axis(\n",
    "              format='%m/%d',\n",
    "              labelAngle=-45,\n",
    "              title='Date'\n",
    "          )\n",
    "    ),\n",
    "    color=open_close_color\n",
    ").properties(title = 'BTC 3-month Candlestick Chart', width = 700)\n",
    "\n",
    "rule = base.mark_rule().encode(\n",
    "    y = alt.Y(\n",
    "        'Low:Q',\n",
    "        title='Price',\n",
    "        scale=alt.Scale(zero=False),\n",
    "    ),\n",
    "    y2 = alt.Y2('High:Q')\n",
    ")\n",
    "\n",
    "line = base.mark_line(color='lightgreen').encode(y = alt.Y('MA50:Q'))\n",
    "line2 = base.mark_line(color='red').encode(y = alt.Y('MA100:Q'))\n",
    "\n",
    "bar = base.mark_bar().encode(\n",
    "    y = alt.Y('Open:Q'),\n",
    "    y2 = alt.Y2('Close:Q')\n",
    ")\n",
    "\n",
    "BTC = (rule + bar + line + line2)"
   ]
  },
  {
   "cell_type": "code",
   "execution_count": null,
   "metadata": {},
   "outputs": [],
   "source": [
    "# Candlestick plot for short term price movement analysis\n",
    "\n",
    "plot_range = 100\n",
    "\n",
    "open_close_color = alt.condition(\"datum.Open <= datum.Close\",\n",
    "                                 alt.value(\"#06982d\"),\n",
    "                                 alt.value(\"#ae1325\"))\n",
    "\n",
    "base = alt.Chart(df[df.Symbol == 'ETH-USD'].tail(plot_range)).encode(\n",
    "    x = alt.X('Date:T',\n",
    "          axis=alt.Axis(\n",
    "              format='%m/%d',\n",
    "              labelAngle=-45,\n",
    "              title='Date'\n",
    "          )\n",
    "    ),\n",
    "    color=open_close_color\n",
    ").properties(title = 'ETH 3-month Candlestick Chart', width = 700)\n",
    "\n",
    "rule = base.mark_rule().encode(\n",
    "    y = alt.Y(\n",
    "        'Low:Q',\n",
    "        title='Price',\n",
    "        scale=alt.Scale(zero=False),\n",
    "    ),\n",
    "    y2 = alt.Y2('High:Q')\n",
    ")\n",
    "\n",
    "line = base.mark_line(color='lightgreen').encode(y = alt.Y('MA50:Q'))\n",
    "line2 = base.mark_line(color='red').encode(y = alt.Y('MA100:Q'))\n",
    "\n",
    "bar = base.mark_bar().encode(\n",
    "    y = alt.Y('Open:Q'),\n",
    "    y2 = alt.Y2('Close:Q')\n",
    ")\n",
    "\n",
    "ETH = (rule + bar + line + line2)"
   ]
  },
  {
   "cell_type": "code",
   "execution_count": null,
   "metadata": {},
   "outputs": [],
   "source": [
    "# Candlestick plot for short term price movement analysis\n",
    "\n",
    "plot_range = 100\n",
    "\n",
    "open_close_color = alt.condition(\"datum.Open <= datum.Close\",\n",
    "                                 alt.value(\"#06982d\"),\n",
    "                                 alt.value(\"#ae1325\"))\n",
    "\n",
    "base = alt.Chart(df[df.Symbol == 'GC=F'].tail(plot_range)).encode(\n",
    "    x = alt.X('Date:T',\n",
    "          axis=alt.Axis(\n",
    "              format='%m/%d',\n",
    "              labelAngle=-45,\n",
    "              title='Date'\n",
    "          )\n",
    "    ),\n",
    "    color=open_close_color\n",
    ").properties(title = 'GOLD 3-month Candlestick Chart', width = 700)\n",
    "\n",
    "rule = base.mark_rule().encode(\n",
    "    y = alt.Y(\n",
    "        'Low:Q',\n",
    "        title='Price',\n",
    "        scale=alt.Scale(zero=False),\n",
    "    ),\n",
    "    y2 = alt.Y2('High:Q')\n",
    ")\n",
    "\n",
    "line = base.mark_line(color='lightgreen').encode(y = alt.Y('MA50:Q'))\n",
    "line2 = base.mark_line(color='red').encode(y = alt.Y('MA100:Q'))\n",
    "\n",
    "bar = base.mark_bar().encode(\n",
    "    y = alt.Y('Open:Q'),\n",
    "    y2 = alt.Y2('Close:Q')\n",
    ")\n",
    "\n",
    "BTC & (rule + bar + line + line2)\n"
   ]
  },
  {
   "cell_type": "markdown",
   "metadata": {},
   "source": [
    "## Correlation Matrix"
   ]
  },
  {
   "cell_type": "code",
   "execution_count": null,
   "metadata": {},
   "outputs": [],
   "source": [
    "corrMatrix = df.corr()"
   ]
  },
  {
   "cell_type": "code",
   "execution_count": null,
   "metadata": {},
   "outputs": [],
   "source": [
    "mdata = pd.DataFrame()\n",
    "mdata['JPM'] = df.groupby('Symbol').get_group('JPM')['Close'].reset_index(drop=True)\n",
    "for tick in tickers:\n",
    "    if tick != 'JPM':\n",
    "        tickdata = pd.DataFrame(df.groupby('Symbol', axis=0).get_group(tick)['Close'].reset_index(drop=True)).rename(columns = {'Close': tick})\n",
    "        mdata = pd.concat([mdata, tickdata], axis=1, join='inner')"
   ]
  },
  {
   "cell_type": "code",
   "execution_count": null,
   "metadata": {},
   "outputs": [],
   "source": [
    "mdata"
   ]
  },
  {
   "cell_type": "code",
   "execution_count": null,
   "metadata": {},
   "outputs": [],
   "source": [
    "#result = pd.concat([mdata, mdata1], axis=1, join='inner')"
   ]
  },
  {
   "cell_type": "code",
   "execution_count": null,
   "metadata": {},
   "outputs": [],
   "source": [
    "cor_data = mdata.corr().stack().reset_index().rename(columns={0: 'correlation', 'level_0': 'variable', 'level_1': 'variable2'})\n",
    "\n",
    "cor_data['correlation_label'] = cor_data['correlation'].map('{:.2f}'.format)"
   ]
  },
  {
   "cell_type": "code",
   "execution_count": null,
   "metadata": {},
   "outputs": [],
   "source": [
    "base = alt.Chart(cor_data).encode(\n",
    "    x= alt.X('variable2:O', title = 'Tickers'),\n",
    "    y=alt.Y('variable:O', title = 'Tickers')    \n",
    ")\n",
    "\n",
    "# Text layer with correlation labels\n",
    "# Use colors that are for easier readability\n",
    "text = base.mark_text().encode(\n",
    "    text='correlation_label',\n",
    "    color=alt.condition(\n",
    "        alt.datum.correlation > 0.5, \n",
    "        alt.value('white'),\n",
    "        alt.value('black')\n",
    "    )\n",
    ")\n",
    "\n",
    "# The correlation heatmap itself\n",
    "cor_plot = base.mark_rect().encode(\n",
    "    color='correlation:Q'\n",
    ").properties(height = 600, width = 600, title = \"BTC Heatmap\")\n",
    "\n",
    "cor_plot + text # overlay the text and rect layer"
   ]
  },
  {
   "cell_type": "code",
   "execution_count": null,
   "metadata": {},
   "outputs": [],
   "source": []
  }
 ],
 "metadata": {
  "kernelspec": {
   "display_name": "Python 3",
   "language": "python",
   "name": "python3"
  },
  "language_info": {
   "codemirror_mode": {
    "name": "ipython",
    "version": 3
   },
   "file_extension": ".py",
   "mimetype": "text/x-python",
   "name": "python",
   "nbconvert_exporter": "python",
   "pygments_lexer": "ipython3",
   "version": "3.7.0"
  }
 },
 "nbformat": 4,
 "nbformat_minor": 4
}
